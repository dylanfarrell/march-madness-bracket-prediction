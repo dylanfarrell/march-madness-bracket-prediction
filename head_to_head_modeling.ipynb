{
 "cells": [
  {
   "cell_type": "code",
   "execution_count": 419,
   "id": "decaa805",
   "metadata": {},
   "outputs": [],
   "source": [
    "import pandas as pd\n",
    "import numpy as np\n",
    "from sklearn.model_selection import train_test_split, cross_val_score, cross_val_predict, StratifiedKFold, RandomizedSearchCV\n",
    "from sklearn.metrics import confusion_matrix\n",
    "from sklearn.linear_model import LogisticRegression, LinearRegression\n",
    "from sklearn.svm import SVC, SVR\n",
    "from sklearn.ensemble import RandomForestRegressor, RandomForestClassifier\n",
    "from xgboost import XGBRegressor, XGBClassifier\n",
    "from sklearn.feature_selection import RFECV\n",
    "from sklearn.metrics import mean_squared_error\n",
    "import matplotlib.pyplot as plt\n",
    "import warnings"
   ]
  },
  {
   "cell_type": "code",
   "execution_count": 420,
   "id": "e10694f3",
   "metadata": {},
   "outputs": [],
   "source": [
    "## read in the dataset\n",
    "df = pd.read_csv('data/model_data/matchup_features.csv')"
   ]
  },
  {
   "cell_type": "code",
   "execution_count": 421,
   "id": "35b3ab7e",
   "metadata": {},
   "outputs": [
    {
     "data": {
      "text/plain": [
       "Index(['Season', 'TeamID_1', 'TeamID_2', 'Seed_1', 'Seed_2', 't1_score_diff',\n",
       "       'diff_total_games', 'diff_win_pct', 'diff_avg_points_for',\n",
       "       'diff_avg_points_against', 'diff_avg_game_margin',\n",
       "       'diff_std_game_margin', 'diff_non_home_wins', 'diff_home_losses',\n",
       "       'diff_close_wins', 'diff_close_losses', 'diff_3FGA_pg', 'diff_3_pct',\n",
       "       'diff_FTA_pg', 'diff_FT_pct', 'diff_TOV_pg', 'diff_avg_pace',\n",
       "       'diff_off_eff', 'diff_def_eff', 'diff_pythag_win_pct', 'diff_luck',\n",
       "       'diff_wins_vs_tourney_teams', 'diff_away_wins_vs_tourney_teams',\n",
       "       'diff_losses_vs_tourney_teams', 'diff_losses_vs_non_tourney_teams',\n",
       "       'diff_games_vs_tourney_teams', 'diff_final_net', 'diff_net_improvement',\n",
       "       'diff_final_pom', 'diff_pom_improvement', 'diff_pi_i',\n",
       "       'diff_coach_WL_car', 'diff_tourneys_car', 'diff_sw16_car',\n",
       "       'diff_ff_car', 'diff_champ_car', 'diff_returning_min_pct',\n",
       "       'diff_returning_score_pct', 'diff_avg_height', 'diff_avg_yr',\n",
       "       'diff_preseason_pts'],\n",
       "      dtype='object')"
      ]
     },
     "execution_count": 421,
     "metadata": {},
     "output_type": "execute_result"
    }
   ],
   "source": [
    "df.columns"
   ]
  },
  {
   "cell_type": "code",
   "execution_count": 422,
   "id": "d6a286cd",
   "metadata": {},
   "outputs": [],
   "source": [
    "df.dropna(inplace=True)"
   ]
  },
  {
   "cell_type": "code",
   "execution_count": null,
   "id": "6f0a5195",
   "metadata": {},
   "outputs": [],
   "source": []
  },
  {
   "cell_type": "code",
   "execution_count": 423,
   "id": "1a82ae5c",
   "metadata": {},
   "outputs": [],
   "source": [
    "X = df[[x for x in df.columns if x not in ['t1_score_diff','Season','TeamID_1','TeamID_2','Seed_1','Seed_2']]]\n",
    "y = df['t1_score_diff']\n",
    "# train_test_split\n",
    "X_train, X_test, y_train, y_test = train_test_split(X, y, test_size=0.10, random_state=42)\n",
    "\n",
    "scaler = StandardScaler()\n",
    "scaler.fit(X_train)\n",
    "X_train = pd.DataFrame(scaler.transform(X_train), columns=X_train.columns)\n",
    "X_test = pd.DataFrame(scaler.transform(X_test), columns=X_test.columns)\n",
    "y_train_dif = y_train\n",
    "y_test_dif = y_test\n",
    "y_train_win = y_train.map(lambda x: int(x > 0))\n",
    "y_test_win = y_test.map(lambda x: int(x > 0))"
   ]
  },
  {
   "cell_type": "markdown",
   "id": "b68d37dd",
   "metadata": {},
   "source": [
    "# 1) Win classifier"
   ]
  },
  {
   "cell_type": "markdown",
   "id": "1e2e0d24",
   "metadata": {},
   "source": [
    "## 1a) Picking a model"
   ]
  },
  {
   "cell_type": "code",
   "execution_count": 424,
   "id": "f61d7123",
   "metadata": {},
   "outputs": [
    {
     "name": "stdout",
     "output_type": "stream",
     "text": [
      "Optimal number of features : 6\n"
     ]
    },
    {
     "data": {
      "image/png": "[encoded data removed]",
      "text/plain": [
       "<Figure size 432x288 with 1 Axes>"
      ]
     },
     "metadata": {
      "needs_background": "light"
     },
     "output_type": "display_data"
    }
   ],
   "source": [
    "# logistic regression w recursive feature elimination and then hyperparameter tuning\n",
    "\n",
    "min_features_to_select =1\n",
    "\n",
    "lr_clf = LogisticRegression()\n",
    "\n",
    "lr_rfecv = RFECV(estimator=lr_clf,step=1,cv=StratifiedKFold(2),scoring='accuracy',\n",
    "             min_features_to_select=min_features_to_select)\n",
    "\n",
    "lr_rfecv.fit(X_train, y_train_win)\n",
    "print(\"Optimal number of features : %d\" % lr_rfecv.n_features_)\n",
    "\n",
    "# Plot number of features VS. cross-validation scores\n",
    "plt.figure()\n",
    "plt.xlabel(\"Number of features selected\")\n",
    "plt.ylabel(\"Cross validation score (accuracy)\")\n",
    "plt.plot(\n",
    "    range(min_features_to_select, len(lr_rfecv.grid_scores_) + min_features_to_select),\n",
    "    lr_rfecv.grid_scores_,\n",
    ")\n",
    "plt.show()\n",
    "\n",
    "# scores = cross_val_score(lr_clf, X_train, y_train_win, scoring=\"accuracy\", cv=5)\n",
    "# print('Mean: ',scores.mean())\n",
    "# print('Std: ',scores.std())"
   ]
  },
  {
   "cell_type": "code",
   "execution_count": 425,
   "id": "5c3f419e",
   "metadata": {},
   "outputs": [
    {
     "name": "stdout",
     "output_type": "stream",
     "text": [
      "0.7243293246993524\n",
      "['diff_final_pom' 'diff_pi_i' 'diff_tourneys_car' 'diff_sw16_car'\n",
      " 'diff_returning_min_pct' 'diff_returning_score_pct']\n"
     ]
    }
   ],
   "source": [
    "selected_features = np.ma.compressed(np.ma.masked_array(X.columns,np.invert(lr_rfecv.support_)))\n",
    "\n",
    "lr_clf = LogisticRegression(max_iter = 100,tol=0.0001)\n",
    "lr_clf.fit(X_train[selected_features], y_train_win)\n",
    "print(lr_clf.score(X_train[selected_features],y_train_win))\n",
    "print(selected_features)"
   ]
  },
  {
   "cell_type": "code",
   "execution_count": 399,
   "id": "1308e6d4",
   "metadata": {},
   "outputs": [
    {
     "data": {
      "text/plain": [
       "array([[ 0.27963861, -0.25459417,  0.15716134, -0.14549168,  0.34022074,\n",
       "         0.16544271,  0.42703715,  0.31899905, -0.54780754,  0.55908668,\n",
       "        -0.88321285,  1.33608749, -0.15107454]])"
      ]
     },
     "execution_count": 399,
     "metadata": {},
     "output_type": "execute_result"
    }
   ],
   "source": [
    "lr_clf.coef_"
   ]
  },
  {
   "cell_type": "code",
   "execution_count": 426,
   "id": "9ee35718",
   "metadata": {},
   "outputs": [
    {
     "name": "stdout",
     "output_type": "stream",
     "text": [
      "Optimal number of features : 3\n"
     ]
    },
    {
     "data": {
      "image/png": "[encoded data removed]",
      "text/plain": [
       "<Figure size 432x288 with 1 Axes>"
      ]
     },
     "metadata": {
      "needs_background": "light"
     },
     "output_type": "display_data"
    }
   ],
   "source": [
    "# support vector classifier w recursive feature elimination adn then hyperparameter tuning\n",
    "svc_clf = SVC(kernel='linear')\n",
    "svc_rfecv = RFECV(estimator=svc_clf,step=1,cv=StratifiedKFold(2),scoring='accuracy',\n",
    "             min_features_to_select=min_features_to_select)\n",
    "\n",
    "svc_rfecv.fit(X_train, y_train_win)\n",
    "print(\"Optimal number of features : %d\" % svc_rfecv.n_features_)\n",
    "\n",
    "# Plot number of features VS. cross-validation scores\n",
    "plt.figure()\n",
    "plt.xlabel(\"Number of features selected\")\n",
    "plt.ylabel(\"Cross validation score (accuracy)\")\n",
    "plt.plot(\n",
    "    range(min_features_to_select, len(svc_rfecv.grid_scores_) + min_features_to_select),\n",
    "    svc_rfecv.grid_scores_,\n",
    ")\n",
    "plt.show()\n",
    "\n",
    "# scores = cross_val_score(svc_clf, X_train, y_win, scoring=\"accuracy\", cv=10)\n",
    "# print('Mean: ',scores.mean())\n",
    "# print('Std: ',scores.std())"
   ]
  },
  {
   "cell_type": "code",
   "execution_count": 427,
   "id": "ade07a62",
   "metadata": {},
   "outputs": [
    {
     "name": "stdout",
     "output_type": "stream",
     "text": [
      "0.7261794634597595\n",
      "['diff_final_pom' 'diff_tourneys_car' 'diff_sw16_car']\n"
     ]
    }
   ],
   "source": [
    "selected_features = np.ma.compressed(np.ma.masked_array(X.columns,np.invert(svc_rfecv.support_)))\n",
    "\n",
    "svc_clf.fit(X_train[selected_features], y_train_win)\n",
    "print(svc_clf.score(X_train[selected_features],y_train_win))\n",
    "print(selected_features)"
   ]
  },
  {
   "cell_type": "code",
   "execution_count": 402,
   "id": "e7df75bd",
   "metadata": {},
   "outputs": [
    {
     "name": "stdout",
     "output_type": "stream",
     "text": [
      "Optimal number of features : 32\n"
     ]
    },
    {
     "data": {
      "image/png": "[encoded data removed]",
      "text/plain": [
       "<Figure size 432x288 with 1 Axes>"
      ]
     },
     "metadata": {
      "needs_background": "light"
     },
     "output_type": "display_data"
    }
   ],
   "source": [
    "# random forest classifier\n",
    "forest_clf = RandomForestClassifier(\n",
    "    n_estimators=100,\n",
    "    max_depth=5,    \n",
    ")\n",
    "\n",
    "forest_rfecv = RFECV(estimator=forest_clf,step=1,cv=StratifiedKFold(2),scoring='accuracy',\n",
    "             min_features_to_select=min_features_to_select)\n",
    "\n",
    "forest_rfecv.fit(X_train, y_train_win)\n",
    "print(\"Optimal number of features : %d\" % forest_rfecv.n_features_)\n",
    "\n",
    "# Plot number of features VS. cross-validation scores\n",
    "plt.figure()\n",
    "plt.xlabel(\"Number of features selected\")\n",
    "plt.ylabel(\"Cross validation score (accuracy)\")\n",
    "plt.plot(\n",
    "    range(min_features_to_select, len(forest_rfecv.grid_scores_) + min_features_to_select),\n",
    "    forest_rfecv.grid_scores_,\n",
    ")\n",
    "plt.show()\n",
    "\n",
    "# scores = cross_val_score(forest_clf, X_train, y_win, scoring=\"accuracy\", cv=10)\n",
    "# print('Mean: ',scores.mean())\n",
    "# print('Std: ',scores.std())"
   ]
  },
  {
   "cell_type": "code",
   "execution_count": 403,
   "id": "fbd28a1e",
   "metadata": {},
   "outputs": [
    {
     "name": "stdout",
     "output_type": "stream",
     "text": [
      "0.8504043126684636\n"
     ]
    }
   ],
   "source": [
    "selected_features = np.ma.compressed(np.ma.masked_array(X.columns,np.invert(forest_rfecv.support_)))\n",
    "\n",
    "forest_clf.fit(X_train[selected_features], y_train_win)\n",
    "print(forest_clf.score(X_train[selected_features],y_train_win))\n"
   ]
  },
  {
   "cell_type": "code",
   "execution_count": 404,
   "id": "7654679e",
   "metadata": {},
   "outputs": [
    {
     "name": "stdout",
     "output_type": "stream",
     "text": [
      "Optimal number of features : 22\n"
     ]
    },
    {
     "data": {
      "image/png": "[encoded data removed]",
      "text/plain": [
       "<Figure size 432x288 with 1 Axes>"
      ]
     },
     "metadata": {
      "needs_background": "light"
     },
     "output_type": "display_data"
    }
   ],
   "source": [
    "# xgboost classifier\n",
    "xgb_clf = XGBClassifier(\n",
    "    n_estimators=1000,\n",
    "    use_label_encoder=False,\n",
    "    max_depth= 4,\n",
    "    min_child_weight = 1,\n",
    "    gamma = 0,\n",
    "    verbosity=0,\n",
    "    colsample_bytree = 0.5,\n",
    "    subsample = 0.5\n",
    ")\n",
    "\n",
    "xgb_rfecv = RFECV(estimator=xgb_clf,step=1,cv=StratifiedKFold(5),scoring='accuracy',\n",
    "             min_features_to_select=min_features_to_select)\n",
    "\n",
    "xgb_rfecv.fit(X_train, y_train_win)\n",
    "print(\"Optimal number of features : %d\" % xgb_rfecv.n_features_)\n",
    "\n",
    "# Plot number of features VS. cross-validation scores\n",
    "plt.figure()\n",
    "plt.xlabel(\"Number of features selected\")\n",
    "plt.ylabel(\"Cross validation score (accuracy)\")\n",
    "plt.plot(\n",
    "    range(min_features_to_select, len(xgb_rfecv.grid_scores_) + min_features_to_select),\n",
    "    xgb_rfecv.grid_scores_,\n",
    ")\n",
    "plt.show()\n",
    "\n",
    "\n",
    "# scores = cross_val_score(xgb_clf, X_train, y_win, scoring=\"accuracy\", cv=10, fit_params={'eval_metric':'logloss'})\n",
    "# print('Mean: ',scores.mean())\n",
    "# print('Std: ',scores.std())\n",
    "\n",
    "\n"
   ]
  },
  {
   "cell_type": "code",
   "execution_count": 405,
   "id": "dbb71d7b",
   "metadata": {},
   "outputs": [
    {
     "name": "stdout",
     "output_type": "stream",
     "text": [
      "1.0\n",
      "['diff_avg_points_for' 'diff_avg_points_against' 'diff_avg_game_margin'\n",
      " 'diff_pythag_win_pct' 'diff_final_pom' 'diff_pi_i' 'diff_tourneys_car'\n",
      " 'diff_sw16_car']\n"
     ]
    }
   ],
   "source": [
    "selected_features = np.ma.compressed(np.ma.masked_array(X.columns,np.invert(xgb_rfecv.support_)))\n",
    "\n",
    "xgb_clf.fit(X_train[selected_features], y_train_win)\n",
    "print(xgb_clf.score(X_train[selected_features],y_train_win))\n",
    "print(features)"
   ]
  },
  {
   "cell_type": "code",
   "execution_count": null,
   "id": "f7233f37",
   "metadata": {},
   "outputs": [],
   "source": []
  },
  {
   "cell_type": "markdown",
   "id": "90be2e29",
   "metadata": {},
   "source": [
    "## 1b) Fine Tuning"
   ]
  },
  {
   "cell_type": "code",
   "execution_count": 428,
   "id": "4799fdfa",
   "metadata": {},
   "outputs": [],
   "source": [
    "features = np.ma.compressed(np.ma.masked_array(X.columns,np.invert(lr_rfecv.support_)))"
   ]
  },
  {
   "cell_type": "code",
   "execution_count": 446,
   "id": "95afa70a",
   "metadata": {},
   "outputs": [
    {
     "data": {
      "text/plain": [
       "array(['diff_final_pom', 'diff_pi_i', 'diff_tourneys_car',\n",
       "       'diff_sw16_car', 'diff_returning_min_pct',\n",
       "       'diff_returning_score_pct'], dtype=object)"
      ]
     },
     "execution_count": 446,
     "metadata": {},
     "output_type": "execute_result"
    }
   ],
   "source": [
    "features"
   ]
  },
  {
   "cell_type": "code",
   "execution_count": 449,
   "id": "e9139d74",
   "metadata": {},
   "outputs": [],
   "source": [
    "features = np.array(['diff_final_pom','diff_pi_i','diff_tourneys_car','diff_sw16_car','diff_returning_score_pct'])"
   ]
  },
  {
   "cell_type": "code",
   "execution_count": 450,
   "id": "19155593",
   "metadata": {},
   "outputs": [],
   "source": [
    "xgb_clf = XGBClassifier(\n",
    "    use_label_encoder=False,\n",
    "    verbosity=0\n",
    ")"
   ]
  },
  {
   "cell_type": "code",
   "execution_count": 451,
   "id": "a899bc07",
   "metadata": {},
   "outputs": [],
   "source": [
    "from hyperopt import fmin, tpe, hp, anneal, Trials"
   ]
  },
  {
   "cell_type": "code",
   "execution_count": 452,
   "id": "90fd7b74",
   "metadata": {},
   "outputs": [],
   "source": [
    "def gb_mse_cv(params, random_state=42, cv=StratifiedKFold(2), X=X_train[features], y=y_train_win):\n",
    "    # the function gets a set of variable parameters in \"param\"\n",
    "    params = {'n_estimators': int(params['n_estimators']), \n",
    "              'max_depth': int(params['max_depth']),\n",
    "              'min_child_weight': params['min_child_weight'],\n",
    "              'subsample': params['subsample'],\n",
    "              'colsample_bytree': params['colsample_bytree'],\n",
    "              'eta': params['eta'],\n",
    "              'gamma': params['gamma'],\n",
    "              'reg_lambda': params['reg_lambda'],\n",
    "              'reg_alpha': params['reg_alpha']             \n",
    "             }\n",
    "    \n",
    "    # we use this params to create a new LGBM Regressor\n",
    "    model = XGBClassifier(random_state=random_state, use_label_encoder=False,verbosity=0, **params)\n",
    "    \n",
    "    # and then conduct the cross validation with the same folds as before\n",
    "    score = -cross_val_score(model, X, y, cv=cv, scoring=\"accuracy\").mean()\n",
    "\n",
    "    return score"
   ]
  },
  {
   "cell_type": "code",
   "execution_count": 458,
   "id": "9a4c1b79",
   "metadata": {},
   "outputs": [
    {
     "name": "stdout",
     "output_type": "stream",
     "text": [
      "100%|██████████| 100/100 [01:20<00:00,  1.24trial/s, best loss: -0.7234151434243856]\n",
      "{'colsample_bytree': 0.548488169357253, 'eta': 0.3416704884549078, 'gamma': 5.85479683636035, 'max_depth': 4.0, 'min_child_weight': 15.0, 'n_estimators': 187.0, 'reg_alpha': 0.4111949484371143, 'reg_lambda': 1.082973438068788, 'subsample': 0.9714444230209093}\n"
     ]
    }
   ],
   "source": [
    "random_state=50\n",
    "\n",
    "# possible values of parameters\n",
    "space={'n_estimators': hp.quniform('n_estimators', 100, 2000, 1),\n",
    "       'max_depth' : hp.quniform('max_depth', 2, 15, 1),\n",
    "       'min_child_weight': hp.quniform('min_child_weight', 1, 20, 1),\n",
    "       'subsample': hp.uniform('subsample',0.5,1),\n",
    "       'colsample_bytree': hp.uniform('colsample_bytree',0.5,1),\n",
    "       'eta': hp.loguniform('eta', -5, -1),\n",
    "       'gamma': hp.uniform('gamma', 0,20),\n",
    "       'reg_lambda': hp.loguniform('reg_lambda',0,7),\n",
    "       'reg_alpha': hp.uniform('reg_alpha',0,100)       \n",
    "      }\n",
    "\n",
    "# trials will contain logging information\n",
    "trials = Trials()\n",
    "\n",
    "best=fmin(fn=gb_mse_cv, # function to optimize\n",
    "          space=space, \n",
    "          algo=tpe.suggest, # optimization algorithm, hyperotp will select its parameters automatically\n",
    "          max_evals=100, # maximum number of iterations\n",
    "          trials=trials, # logging\n",
    "          rstate=np.random.default_rng(42) # fixing random state for the reproducibility\n",
    "         )\n",
    "\n",
    "print(best)\n",
    "# # computing the score on the training set\n",
    "# model = LGBMRegressor(random_state=random_state, n_estimators=int(best['n_estimators']),\n",
    "#                       max_depth=int(best['max_depth']),learning_rate=best['learning_rate'])\n",
    "# model.fit(train_data,train_targets)\n",
    "# sa_test_score=mean_squared_error(test_targets, model.predict(test_data))\n",
    "\n",
    "# print(\"Best MSE {:.3f} params {}\".format( gb_mse_cv(best), best))"
   ]
  },
  {
   "cell_type": "code",
   "execution_count": 313,
   "id": "c1bc3db8",
   "metadata": {},
   "outputs": [],
   "source": [
    "last_best = best.copy()"
   ]
  },
  {
   "cell_type": "code",
   "execution_count": 459,
   "id": "1aa89355",
   "metadata": {},
   "outputs": [],
   "source": [
    "xgb_clf = XGBClassifier(\n",
    "    use_label_encoder=False,\n",
    "    verbosity=0,\n",
    "    colsample_bytree= best['colsample_bytree'],\n",
    "    eta = best['eta'],\n",
    "    gamma = best['gamma'],\n",
    "    max_depth = int(best['max_depth']),\n",
    "    min_child_weight = best['min_child_weight'],\n",
    "    n_estimators = int(best['n_estimators']),\n",
    "    reg_alpha = best['reg_alpha'],\n",
    "    reg_lambda = best['reg_lambda'],\n",
    "    subsample = best['subsample'] \n",
    ")"
   ]
  },
  {
   "cell_type": "code",
   "execution_count": 460,
   "id": "a00c66db",
   "metadata": {},
   "outputs": [
    {
     "name": "stdout",
     "output_type": "stream",
     "text": [
      "0.7548566142460684\n",
      "['diff_final_pom' 'diff_pi_i' 'diff_tourneys_car' 'diff_sw16_car'\n",
      " 'diff_returning_score_pct']\n"
     ]
    }
   ],
   "source": [
    "xgb_clf.fit(X_train[features], y_train_win)\n",
    "print(xgb_clf.score(X_train[features],y_train_win))\n",
    "print(features)"
   ]
  },
  {
   "cell_type": "code",
   "execution_count": 462,
   "id": "f9ee820e",
   "metadata": {},
   "outputs": [],
   "source": [
    "xgb_clf.save_model('models/xgb_final_v2.json')"
   ]
  },
  {
   "cell_type": "code",
   "execution_count": 461,
   "id": "880cb6e4",
   "metadata": {},
   "outputs": [
    {
     "data": {
      "text/plain": [
       "0.7520661157024794"
      ]
     },
     "execution_count": 461,
     "metadata": {},
     "output_type": "execute_result"
    }
   ],
   "source": [
    "xgb_clf.score(X_test[features],y_test_win)"
   ]
  },
  {
   "cell_type": "code",
   "execution_count": 463,
   "id": "f5806a14",
   "metadata": {},
   "outputs": [
    {
     "data": {
      "text/plain": [
       "array([0.41050875, 0.21154428, 0.05298338, 0.25127155, 0.07369209],\n",
       "      dtype=float32)"
      ]
     },
     "execution_count": 463,
     "metadata": {},
     "output_type": "execute_result"
    }
   ],
   "source": [
    "xgb_clf.feature_importances_"
   ]
  },
  {
   "cell_type": "code",
   "execution_count": 464,
   "id": "a06fcb5a",
   "metadata": {},
   "outputs": [
    {
     "data": {
      "text/plain": [
       "array(['diff_final_pom', 'diff_pi_i', 'diff_tourneys_car',\n",
       "       'diff_sw16_car', 'diff_returning_score_pct'], dtype='<U24')"
      ]
     },
     "execution_count": 464,
     "metadata": {},
     "output_type": "execute_result"
    }
   ],
   "source": [
    "features"
   ]
  },
  {
   "cell_type": "markdown",
   "id": "1b2b9df0",
   "metadata": {},
   "source": [
    "# 2) Score differential predictor"
   ]
  },
  {
   "cell_type": "markdown",
   "id": "f1fdba50",
   "metadata": {},
   "source": [
    "## 2a) Picking a model"
   ]
  },
  {
   "cell_type": "code",
   "execution_count": 339,
   "id": "39432d26",
   "metadata": {},
   "outputs": [
    {
     "name": "stdout",
     "output_type": "stream",
     "text": [
      "Optimal number of features : 8\n"
     ]
    },
    {
     "data": {
      "image/png": "[encoded data removed]",
      "text/plain": [
       "<Figure size 432x288 with 1 Axes>"
      ]
     },
     "metadata": {
      "needs_background": "light"
     },
     "output_type": "display_data"
    }
   ],
   "source": [
    "# linear regression\n",
    "lin_reg = LinearRegression()\n",
    "lin_rfecv = RFECV(estimator=lin_reg,step=1,cv=2,scoring='neg_mean_squared_error',\n",
    "             min_features_to_select=min_features_to_select)\n",
    "\n",
    "lin_rfecv.fit(X_train, y_train_dif)\n",
    "print(\"Optimal number of features : %d\" % lin_rfecv.n_features_)\n",
    "\n",
    "# Plot number of features VS. cross-validation scores\n",
    "plt.figure()\n",
    "plt.xlabel(\"Number of features selected\")\n",
    "plt.ylabel(\"Cross validation score (neg_mean_squared_error)\")\n",
    "plt.plot(\n",
    "    range(min_features_to_select, len(lin_rfecv.grid_scores_) + min_features_to_select),\n",
    "    lin_rfecv.grid_scores_,\n",
    ")\n",
    "plt.show()\n",
    "\n",
    "# scores = cross_val_score(lin_reg, X, y_dif, scoring=\"neg_mean_squared_error\", cv=5)\n",
    "# rmse_scores = np.sqrt(-scores)\n",
    "# print('Mean: ',rmse_scores.mean())\n",
    "# print('Std: ',rmse_scores.std())"
   ]
  },
  {
   "cell_type": "code",
   "execution_count": 354,
   "id": "e0cc3d0c",
   "metadata": {},
   "outputs": [
    {
     "name": "stdout",
     "output_type": "stream",
     "text": [
      "0.42335638882565674\n",
      "11.010604028646712\n",
      "['diff_avg_points_for' 'diff_avg_points_against' 'diff_avg_game_margin'\n",
      " 'diff_pythag_win_pct' 'diff_final_pom' 'diff_pi_i' 'diff_tourneys_car'\n",
      " 'diff_sw16_car']\n"
     ]
    }
   ],
   "source": [
    "selected_features = np.ma.compressed(np.ma.masked_array(X.columns,np.invert(lin_rfecv.support_)))\n",
    "\n",
    "lin_reg = LinearRegression()\n",
    "lin_reg.fit(X_train[selected_features], y_train_dif)\n",
    "print(lin_reg.score(X_train[selected_features],y_train_dif))\n",
    "print(mean_squared_error(y_train_dif,lin_reg.predict(X_train[selected_features]))**0.5)\n",
    "print(selected_features)"
   ]
  },
  {
   "cell_type": "code",
   "execution_count": 343,
   "id": "3267416b",
   "metadata": {},
   "outputs": [
    {
     "data": {
      "text/plain": [
       "array([-4.28003549,  3.10428375,  5.78067235, -2.35445505, -5.81775989,\n",
       "        3.09784647, -2.56496173,  3.99163977])"
      ]
     },
     "execution_count": 343,
     "metadata": {},
     "output_type": "execute_result"
    }
   ],
   "source": [
    "lin_reg.coef_"
   ]
  },
  {
   "cell_type": "code",
   "execution_count": null,
   "id": "96ac71bd",
   "metadata": {},
   "outputs": [],
   "source": []
  },
  {
   "cell_type": "code",
   "execution_count": 347,
   "id": "f6e11c5a",
   "metadata": {},
   "outputs": [
    {
     "name": "stdout",
     "output_type": "stream",
     "text": [
      "Optimal number of features : 8\n"
     ]
    },
    {
     "data": {
      "image/png": "[encoded data removed]",
      "text/plain": [
       "<Figure size 432x288 with 1 Axes>"
      ]
     },
     "metadata": {
      "needs_background": "light"
     },
     "output_type": "display_data"
    }
   ],
   "source": [
    "# support vector machine\n",
    "svr_reg = SVR(kernel='linear')\n",
    "\n",
    "svr_rfecv = RFECV(estimator=svr_reg,step=1,cv=2,scoring='neg_mean_squared_error',\n",
    "             min_features_to_select=min_features_to_select)\n",
    "\n",
    "svr_rfecv.fit(X_train, y_train_dif)\n",
    "print(\"Optimal number of features : %d\" % svr_rfecv.n_features_)\n",
    "\n",
    "# Plot number of features VS. cross-validation scores\n",
    "plt.figure()\n",
    "plt.xlabel(\"Number of features selected\")\n",
    "plt.ylabel(\"Cross validation score (neg_mean_squared_error)\")\n",
    "plt.plot(\n",
    "    range(min_features_to_select, len(svr_rfecv.grid_scores_) + min_features_to_select),\n",
    "    svr_rfecv.grid_scores_,\n",
    ")\n",
    "plt.show()\n",
    "\n",
    "# scores = cross_val_score(svr_reg, X, y_dif, scoring=\"neg_mean_squared_error\", cv=5)\n",
    "# rmse_scores = np.sqrt(-scores)\n",
    "# print('Mean: ',rmse_scores.mean())\n",
    "# print('Std: ',rmse_scores.std())"
   ]
  },
  {
   "cell_type": "code",
   "execution_count": 355,
   "id": "6fe23e4a",
   "metadata": {},
   "outputs": [
    {
     "name": "stdout",
     "output_type": "stream",
     "text": [
      "0.4236488031222455\n",
      "11.007811952013084\n",
      "['diff_avg_game_margin' 'diff_pythag_win_pct' 'diff_final_net'\n",
      " 'diff_final_pom' 'diff_pi_i' 'diff_coach_WL_car' 'diff_tourneys_car'\n",
      " 'diff_sw16_car']\n"
     ]
    }
   ],
   "source": [
    "selected_features = np.ma.compressed(np.ma.masked_array(X.columns,np.invert(svr_rfecv.support_)))\n",
    "\n",
    "svr_reg = SVR(kernel='linear')\n",
    "svr_reg.fit(X_train[selected_features], y_train_dif)\n",
    "print(svr_reg.score(X_train[selected_features],y_train_dif))\n",
    "print(mean_squared_error(y_train_dif,svr_reg.predict(X_train[selected_features]))**0.5)\n",
    "print(selected_features)"
   ]
  },
  {
   "cell_type": "code",
   "execution_count": 358,
   "id": "181fc626",
   "metadata": {},
   "outputs": [
    {
     "name": "stdout",
     "output_type": "stream",
     "text": [
      "Optimal number of features : 25\n"
     ]
    },
    {
     "data": {
      "image/png": "[encoded data removed]",
      "text/plain": [
       "<Figure size 432x288 with 1 Axes>"
      ]
     },
     "metadata": {
      "needs_background": "light"
     },
     "output_type": "display_data"
    }
   ],
   "source": [
    "# random forest\n",
    "forest_reg = RandomForestRegressor()\n",
    "forest_rfecv = RFECV(estimator=forest_reg,step=1,cv=2,scoring='neg_mean_squared_error',\n",
    "             min_features_to_select=min_features_to_select)\n",
    "\n",
    "forest_rfecv.fit(X_train, y_train_dif)\n",
    "print(\"Optimal number of features : %d\" % forest_rfecv.n_features_)\n",
    "\n",
    "# Plot number of features VS. cross-validation scores\n",
    "plt.figure()\n",
    "plt.xlabel(\"Number of features selected\")\n",
    "plt.ylabel(\"Cross validation score (neg_mean_squared_error)\")\n",
    "plt.plot(\n",
    "    range(min_features_to_select, len(forest_rfecv.grid_scores_) + min_features_to_select),\n",
    "    forest_rfecv.grid_scores_,\n",
    ")\n",
    "plt.show()\n",
    "# scores = cross_val_score(forest_reg, X, y_dif, scoring=\"neg_mean_squared_error\", cv=5)\n",
    "# rmse_scores = np.sqrt(-scores)\n",
    "# print('Mean: ',rmse_scores.mean())\n",
    "# print('Std: ',rmse_scores.std())"
   ]
  },
  {
   "cell_type": "code",
   "execution_count": 362,
   "id": "5e3848ef",
   "metadata": {},
   "outputs": [
    {
     "name": "stdout",
     "output_type": "stream",
     "text": [
      "0.9090238011083311\n",
      "4.373421099730032\n",
      "['diff_win_pct' 'diff_avg_points_for' 'diff_avg_points_against'\n",
      " 'diff_avg_game_margin' 'diff_std_game_margin' 'diff_close_wins'\n",
      " 'diff_3FGA_pg' 'diff_3_pct' 'diff_FTA_pg' 'diff_FT_pct' 'diff_TOV_pg'\n",
      " 'diff_avg_pace' 'diff_off_eff' 'diff_def_eff' 'diff_pythag_win_pct'\n",
      " 'diff_luck' 'diff_games_vs_tourney_teams' 'diff_final_net'\n",
      " 'diff_net_improvement' 'diff_final_pom' 'diff_pom_improvement'\n",
      " 'diff_pi_i' 'diff_coach_WL_car' 'diff_tourneys_car' 'diff_sw16_car']\n"
     ]
    }
   ],
   "source": [
    "selected_features = np.ma.compressed(np.ma.masked_array(X.columns,np.invert(forest_rfecv.support_)))\n",
    "\n",
    "forest_reg = RandomForestRegressor()\n",
    "forest_reg.fit(X_train[selected_features], y_train_dif)\n",
    "print(forest_reg.score(X_train[selected_features],y_train_dif))\n",
    "print(mean_squared_error(y_train_dif,forest_reg.predict(X_train[selected_features]))**0.5)\n",
    "print(selected_features)"
   ]
  },
  {
   "cell_type": "code",
   "execution_count": 361,
   "id": "04133ebe",
   "metadata": {},
   "outputs": [
    {
     "name": "stdout",
     "output_type": "stream",
     "text": [
      "Optimal number of features : 23\n"
     ]
    },
    {
     "data": {
      "image/png": "[encoded data removed]",
      "text/plain": [
       "<Figure size 432x288 with 1 Axes>"
      ]
     },
     "metadata": {
      "needs_background": "light"
     },
     "output_type": "display_data"
    }
   ],
   "source": [
    "# xgboost\n",
    "xgb_reg = XGBRegressor()\n",
    "xgb_rfecv = RFECV(estimator=xgb_reg,step=1,cv=2,scoring='neg_mean_squared_error',\n",
    "             min_features_to_select=min_features_to_select)\n",
    "\n",
    "xgb_rfecv.fit(X_train, y_train_dif)\n",
    "print(\"Optimal number of features : %d\" % xgb_rfecv.n_features_)\n",
    "\n",
    "# Plot number of features VS. cross-validation scores\n",
    "plt.figure()\n",
    "plt.xlabel(\"Number of features selected\")\n",
    "plt.ylabel(\"Cross validation score (neg_mean_squared_error)\")\n",
    "plt.plot(\n",
    "    range(min_features_to_select, len(xgb_rfecv.grid_scores_) + min_features_to_select),\n",
    "    xgb_rfecv.grid_scores_,\n",
    ")\n",
    "plt.show()\n",
    "# scores = cross_val_score(forest_reg, X, y_dif, scoring=\"neg_mean_squared_error\", cv=5)\n",
    "# rmse_scores = np.sqrt(-scores)\n",
    "# print('Mean: ',rmse_scores.mean())\n",
    "# print('Std: ',rmse_scores.std())"
   ]
  },
  {
   "cell_type": "code",
   "execution_count": 363,
   "id": "0693e55d",
   "metadata": {},
   "outputs": [
    {
     "name": "stdout",
     "output_type": "stream",
     "text": [
      "0.9987993102498075\n",
      "0.502426807735927\n",
      "['diff_FTA_pg' 'diff_FT_pct' 'diff_TOV_pg' 'diff_avg_pace' 'diff_off_eff'\n",
      " 'diff_def_eff' 'diff_pythag_win_pct' 'diff_luck'\n",
      " 'diff_wins_vs_tourney_teams' 'diff_away_wins_vs_tourney_teams'\n",
      " 'diff_losses_vs_tourney_teams' 'diff_losses_vs_non_tourney_teams'\n",
      " 'diff_games_vs_tourney_teams' 'diff_final_net' 'diff_net_improvement'\n",
      " 'diff_final_pom' 'diff_pom_improvement' 'diff_pi_i' 'diff_coach_WL_car'\n",
      " 'diff_tourneys_car' 'diff_sw16_car' 'diff_ff_car' 'diff_champ_car']\n"
     ]
    }
   ],
   "source": [
    "selected_features = np.ma.compressed(np.ma.masked_array(X.columns,np.invert(xgb_rfecv.support_)))\n",
    "\n",
    "xgb_reg = XGBRegressor()\n",
    "xgb_reg.fit(X_train[selected_features], y_train_dif)\n",
    "print(xgb_reg.score(X_train[selected_features],y_train_dif))\n",
    "print(mean_squared_error(y_train_dif,xgb_reg.predict(X_train[selected_features]))**0.5)\n",
    "print(selected_features)"
   ]
  },
  {
   "cell_type": "code",
   "execution_count": 92,
   "id": "24566a8c",
   "metadata": {},
   "outputs": [],
   "source": [
    "from matplotlib.pyplot import figure\n",
    "\n"
   ]
  },
  {
   "cell_type": "code",
   "execution_count": 366,
   "id": "5ddb7baf",
   "metadata": {},
   "outputs": [
    {
     "data": {
      "text/plain": [
       "<BarContainer object of 23 artists>"
      ]
     },
     "execution_count": 366,
     "metadata": {},
     "output_type": "execute_result"
    },
    {
     "data": {
      "image/png": "[encoded data removed]",
      "text/plain": [
       "<Figure size 576x720 with 1 Axes>"
      ]
     },
     "metadata": {
      "needs_background": "light"
     },
     "output_type": "display_data"
    }
   ],
   "source": [
    "figure(figsize=(8, 10))\n",
    "plt.barh(selected_features, xgb_reg.feature_importances_)"
   ]
  },
  {
   "cell_type": "markdown",
   "id": "415bebb7",
   "metadata": {},
   "source": [
    "## 2b) Fine tuning"
   ]
  },
  {
   "cell_type": "code",
   "execution_count": 367,
   "id": "c23eefa1",
   "metadata": {},
   "outputs": [],
   "source": [
    "features = np.ma.compressed(np.ma.masked_array(X.columns,np.invert(lin_rfecv.support_)))"
   ]
  },
  {
   "cell_type": "code",
   "execution_count": 443,
   "id": "e2228da1",
   "metadata": {},
   "outputs": [
    {
     "data": {
      "text/plain": [
       "array(['diff_final_pom', 'diff_pi_i', 'diff_tourneys_car',\n",
       "       'diff_sw16_car', 'diff_returning_min_pct',\n",
       "       'diff_returning_score_pct'], dtype=object)"
      ]
     },
     "execution_count": 443,
     "metadata": {},
     "output_type": "execute_result"
    }
   ],
   "source": [
    "features"
   ]
  },
  {
   "cell_type": "code",
   "execution_count": null,
   "id": "7a3ce269",
   "metadata": {},
   "outputs": [],
   "source": [
    "xgb_clf"
   ]
  },
  {
   "cell_type": "code",
   "execution_count": 334,
   "id": "94e0ff79",
   "metadata": {},
   "outputs": [],
   "source": [
    "from hyperopt import fmin, tpe, hp, anneal, Trials"
   ]
  },
  {
   "cell_type": "code",
   "execution_count": 373,
   "id": "c661117e",
   "metadata": {},
   "outputs": [],
   "source": [
    "def gb_mse_cv(params, random_state=42, cv=2, X=X_train[features], y=y_train_dif):\n",
    "    # the function gets a set of variable parameters in \"param\"\n",
    "    params = {'n_estimators': int(params['n_estimators']), \n",
    "              'max_depth': int(params['max_depth']),\n",
    "              'min_child_weight': params['min_child_weight'],\n",
    "              'subsample': params['subsample'],\n",
    "              'colsample_bytree': params['colsample_bytree'],\n",
    "              'eta': params['eta'],\n",
    "              'gamma': params['gamma'],\n",
    "              'reg_lambda': params['reg_lambda'],\n",
    "              'reg_alpha': params['reg_alpha']             \n",
    "             }\n",
    "    \n",
    "    # we use this params to create a new LGBM Regressor\n",
    "    model = XGBRegressor(random_state=random_state, **params)\n",
    "    \n",
    "    # and then conduct the cross validation with the same folds as before\n",
    "    score = -cross_val_score(model, X, y, cv=cv, scoring=\"neg_mean_squared_error\").mean()\n",
    "\n",
    "    return score"
   ]
  },
  {
   "cell_type": "code",
   "execution_count": 374,
   "id": "fb39af86",
   "metadata": {},
   "outputs": [
    {
     "name": "stdout",
     "output_type": "stream",
     "text": [
      "100%|██████████| 100/100 [03:20<00:00,  2.00s/trial, best loss: 127.37956349673848]\n",
      "{'colsample_bytree': 0.6087692944626087, 'eta': 0.009590545956371677, 'gamma': 13.089787354669978, 'max_depth': 2.0, 'min_child_weight': 16.0, 'n_estimators': 1206.0, 'reg_alpha': 94.95574656425667, 'reg_lambda': 8.074716967351131, 'subsample': 0.7920757818969743}\n"
     ]
    }
   ],
   "source": [
    "random_state=42\n",
    "\n",
    "# possible values of parameters\n",
    "space={'n_estimators': hp.quniform('n_estimators', 100, 2000, 1),\n",
    "       'max_depth' : hp.quniform('max_depth', 2, 15, 1),\n",
    "       'min_child_weight': hp.quniform('min_child_weight', 1, 20, 1),\n",
    "       'subsample': hp.uniform('subsample',0.5,1),\n",
    "       'colsample_bytree': hp.uniform('colsample_bytree',0.5,1),\n",
    "       'eta': hp.loguniform('eta', -5, -1),\n",
    "       'gamma': hp.uniform('gamma', 0,20),\n",
    "       'reg_lambda': hp.loguniform('reg_lambda',0,7),\n",
    "       'reg_alpha': hp.uniform('reg_alpha',0,100)       \n",
    "      }\n",
    "\n",
    "# trials will contain logging information\n",
    "trials = Trials()\n",
    "\n",
    "best=fmin(fn=gb_mse_cv, # function to optimize\n",
    "          space=space, \n",
    "          algo=tpe.suggest, # optimization algorithm, hyperotp will select its parameters automatically\n",
    "          max_evals=100, # maximum number of iterations\n",
    "          trials=trials, # logging\n",
    "          rstate=np.random.default_rng(42) # fixing random state for the reproducibility\n",
    "         )\n",
    "\n",
    "print(best)\n",
    "# # computing the score on the training set\n",
    "# model = LGBMRegressor(random_state=random_state, n_estimators=int(best['n_estimators']),\n",
    "#                       max_depth=int(best['max_depth']),learning_rate=best['learning_rate'])\n",
    "# model.fit(train_data,train_targets)\n",
    "# sa_test_score=mean_squared_error(test_targets, model.predict(test_data))\n",
    "\n",
    "# print(\"Best MSE {:.3f} params {}\".format( gb_mse_cv(best), best))"
   ]
  },
  {
   "cell_type": "code",
   "execution_count": 375,
   "id": "c3042f54",
   "metadata": {},
   "outputs": [],
   "source": [
    "xgb_reg = XGBRegressor(\n",
    "    colsample_bytree= best['colsample_bytree'],\n",
    "    eta = best['eta'],\n",
    "    gamma = best['gamma'],\n",
    "    max_depth = int(best['max_depth']),\n",
    "    min_child_weight = best['min_child_weight'],\n",
    "    n_estimators = int(best['n_estimators']),\n",
    "    reg_alpha = best['reg_alpha'],\n",
    "    reg_lambda = best['reg_lambda'],\n",
    "    subsample = best['subsample'] \n",
    ")"
   ]
  },
  {
   "cell_type": "code",
   "execution_count": 378,
   "id": "bc5288b2",
   "metadata": {},
   "outputs": [
    {
     "name": "stdout",
     "output_type": "stream",
     "text": [
      "0.4756493569823418\n",
      "10.499492426337998\n",
      "['diff_avg_points_for' 'diff_avg_points_against' 'diff_avg_game_margin'\n",
      " 'diff_pythag_win_pct' 'diff_final_pom' 'diff_pi_i' 'diff_tourneys_car'\n",
      " 'diff_sw16_car']\n"
     ]
    }
   ],
   "source": [
    "xgb_reg.fit(X_train[features], y_train_dif)\n",
    "print(xgb_reg.score(X_train[features],y_train_dif))\n",
    "print(mean_squared_error(y_train_dif,xgb_reg.predict(X_train[features]))**0.5)\n",
    "print(features)"
   ]
  },
  {
   "cell_type": "code",
   "execution_count": null,
   "id": "7108f2ea",
   "metadata": {},
   "outputs": [],
   "source": []
  },
  {
   "cell_type": "code",
   "execution_count": null,
   "id": "5556fb04",
   "metadata": {},
   "outputs": [],
   "source": []
  },
  {
   "cell_type": "code",
   "execution_count": null,
   "id": "92e49482",
   "metadata": {},
   "outputs": [],
   "source": []
  },
  {
   "cell_type": "code",
   "execution_count": null,
   "id": "b3e1777d",
   "metadata": {},
   "outputs": [],
   "source": []
  },
  {
   "cell_type": "code",
   "execution_count": null,
   "id": "ac838d0c",
   "metadata": {},
   "outputs": [],
   "source": []
  }
 ],
 "metadata": {
  "kernelspec": {
   "display_name": "Python 3",
   "language": "python",
   "name": "python3"
  },
  "language_info": {
   "codemirror_mode": {
    "name": "ipython",
    "version": 3
   },
   "file_extension": ".py",
   "mimetype": "text/x-python",
   "name": "python",
   "nbconvert_exporter": "python",
   "pygments_lexer": "ipython3",
   "version": "3.8.8"
  }
 },
 "nbformat": 4,
 "nbformat_minor": 5
}
