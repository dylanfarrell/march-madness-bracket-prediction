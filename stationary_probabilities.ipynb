{
 "cells": [
  {
   "cell_type": "code",
   "execution_count": 1,
   "id": "cbe157e1",
   "metadata": {},
   "outputs": [],
   "source": [
    "# Import libraries\n",
    "import numpy as np\n",
    "import pandas as pd\n",
    "from math import exp\n",
    "from sklearn.linear_model import LogisticRegression\n",
    "from sklearn.linear_model import LinearRegression as LinReg\n",
    "from sklearn.model_selection import train_test_split\n",
    "from scipy.linalg import eig\n",
    "import warnings\n",
    "from tqdm import tqdm\n",
    "import matplotlib\n",
    "import matplotlib.pyplot as plt\n",
    "%matplotlib inline"
   ]
  },
  {
   "cell_type": "code",
   "execution_count": 5,
   "id": "0b39a09b",
   "metadata": {},
   "outputs": [],
   "source": [
    "# Read in datasets\n",
    "regular_seasons = pd.read_csv(\"data/MRegularSeasonCompactResults.csv\", dtype = {'WTeamID':str,'LTeamID':str})\n",
    "teams = pd.read_csv(\"data/MTeams.csv\")"
   ]
  },
  {
   "cell_type": "code",
   "execution_count": 6,
   "id": "0345a0c6",
   "metadata": {},
   "outputs": [],
   "source": [
    "# Helper functions\n",
    "\n",
    "def sorted_id(r):\n",
    "    return ','.join([x for x in sorted([r['WTeamID'],r['LTeamID']])])\n",
    "\n",
    "def get_home_away(r):\n",
    "    if r['WLoc'] == 'H':\n",
    "        return r['WTeamID'], r['LTeamID']\n",
    "    elif r['WLoc'] == 'A':\n",
    "        return r['LTeamID'], r['WTeamID']\n",
    "    else:\n",
    "        return 'NA', 'NA'\n",
    "\n",
    "def get_home_away_score(r):\n",
    "    if r['WLoc'] == 'H':\n",
    "        return r['WScore'], r['LScore']\n",
    "    elif r['WLoc'] == 'A':\n",
    "        return r['LScore'], r['WScore']\n",
    "    else:\n",
    "        return np.nan, np.nan\n",
    "\n",
    "def get_dif(r):\n",
    "    if r['game_num'] == 1:\n",
    "        return r['home_score'] - r['away_score']\n",
    "    else:\n",
    "        return r['away_score'] - r['home_score']"
   ]
  },
  {
   "cell_type": "code",
   "execution_count": 7,
   "id": "3ea47f9f",
   "metadata": {},
   "outputs": [],
   "source": [
    "# Add columns to games dataframe for home_id, away_id, home_score, away_score, \n",
    "# and total matchups between the two teams that season\n",
    "\n",
    "regular_seasons['sorted_ids'] = regular_seasons.apply(lambda r: sorted_id(r), axis=1)\n",
    "regular_seasons['matchups'] = regular_seasons.groupby(['Season','sorted_ids'])['Season'].transform('size')\n",
    "regular_seasons['home_id'], regular_seasons['away_id'] = zip(*regular_seasons.apply(lambda r: get_home_away(r), axis=1))\n",
    "regular_seasons['home_score'], regular_seasons['away_score'] = zip(*regular_seasons.apply(lambda r: get_home_away_score(r), axis=1))"
   ]
  },
  {
   "cell_type": "code",
   "execution_count": 8,
   "id": "d89d0d81",
   "metadata": {},
   "outputs": [],
   "source": [
    "# Isolate home and home matchups to estimate the effect of home court advantage\n",
    "\n",
    "home_and_home = regular_seasons.groupby(['home_id','away_id']).head(1).copy()\n",
    "home_and_home['matchups'] = home_and_home.groupby(['Season','sorted_ids'])['Season'].transform('size')\n",
    "home_and_home = home_and_home[home_and_home.matchups == 2]\n",
    "home_and_home['game_num'] = home_and_home.groupby(['Season','sorted_ids'])['DayNum'].cumcount()+1\n",
    "home_and_home['home_score'] = home_and_home.apply(lambda r: r['WScore'] if r['WLoc'] == 'H' else r['LScore'], axis=1)\n",
    "home_and_home['away_score'] = home_and_home.apply(lambda r: r['WScore'] if r['WLoc'] == 'A' else r['LScore'], axis=1)\n",
    "home_and_home['dif'] = home_and_home.apply(get_dif, axis=1)\n",
    "home_and_home.set_index(['sorted_ids','game_num'], inplace=True)\n",
    "home_and_home = home_and_home[['dif']].unstack()\n",
    "home_and_home.columns = home_and_home.columns.get_level_values(1)\n",
    "home_and_home['away_win'] = (home_and_home[2] > 0).map(int)"
   ]
  },
  {
   "cell_type": "code",
   "execution_count": 9,
   "id": "1691b51a",
   "metadata": {},
   "outputs": [
    {
     "name": "stdout",
     "output_type": "stream",
     "text": [
      "[[0.0585174]]\n",
      "[-0.94531715]\n"
     ]
    }
   ],
   "source": [
    "# Train logistic regression model to estimate probabily of beating an opposing team\n",
    "# on away court given the point differential on home court\n",
    "\n",
    "train_x = np.expand_dims(home_and_home[1].values, axis=-1)\n",
    "train_y = home_and_home['away_win'].values\n",
    "lr_model = LogisticRegression()\n",
    "lr_model.fit(train_x,train_y)\n",
    "print(lr_model.coef_)\n",
    "print(lr_model.intercept_)"
   ]
  },
  {
   "cell_type": "code",
   "execution_count": 10,
   "id": "9d193053",
   "metadata": {},
   "outputs": [
    {
     "data": {
      "text/plain": [
       "<matplotlib.legend.Legend at 0x7fb4f7048ca0>"
      ]
     },
     "execution_count": 10,
     "metadata": {},
     "output_type": "execute_result"
    },
    {
     "data": {
      "image/png": "[encoded data removed]",
      "text/plain": [
       "<Figure size 576x288 with 1 Axes>"
      ]
     },
     "metadata": {
      "needs_background": "light"
     },
     "output_type": "display_data"
    }
   ],
   "source": [
    "# Plot P(Away Win) vs Home Score Differential\n",
    "\n",
    "# init\n",
    "fig = plt.figure(figsize=(8, 4))\n",
    "ax = fig.add_subplot(111)\n",
    "min_x = train_x.min()\n",
    "max_x = train_x.max()\n",
    "x_values = np.array(range(int(min_x), int(max_x) + 1))\n",
    "\n",
    "# calculate probabilities\n",
    "odds = np.exp(x_values * lr_model.coef_ + lr_model.intercept_)\n",
    "log_prob = odds / (1. + odds)\n",
    "\n",
    "# plot\n",
    "ax.plot(x_values, log_prob[0], label=\"logistic probability\")\n",
    "ax.set_xlabel(\"Home Score Diff\")\n",
    "ax.set_ylabel(\"P(Away Win)\")\n",
    "ax.set_title(\"P(win_away | Home Score Difference)\")\n",
    "ax.set_xlim([min_x, max_x])\n",
    "ax.legend(bbox_to_anchor=(1.05, 1), loc=2, borderaxespad=0.)"
   ]
  },
  {
   "cell_type": "code",
   "execution_count": 11,
   "id": "1a0398ba",
   "metadata": {},
   "outputs": [],
   "source": [
    "# Calculate P (Away win) given home scoring differential\n",
    "x_values = np.array(range(-100, 101))\n",
    "odds = np.exp((x_values) * lr_model.coef_ + lr_model.intercept_)\n",
    "prob = odds / (1. + odds)      \n",
    "s_x_h = pd.DataFrame(data=prob[0], index=x_values, columns=[\"prob\"])"
   ]
  },
  {
   "cell_type": "code",
   "execution_count": 12,
   "id": "ba8a3496",
   "metadata": {},
   "outputs": [
    {
     "data": {
      "text/plain": [
       "prob    0.49774\n",
       "Name: 16, dtype: float64"
      ]
     },
     "execution_count": 12,
     "metadata": {},
     "output_type": "execute_result"
    }
   ],
   "source": [
    "# Find home court advantage\n",
    "s_x_h.loc[16]"
   ]
  },
  {
   "cell_type": "code",
   "execution_count": 13,
   "id": "a8a8bd3d",
   "metadata": {},
   "outputs": [],
   "source": [
    "# Calculate P (better) given home, away, or neutral scorring differential\n",
    "\n",
    "# Home\n",
    "home_court_advantage = 8\n",
    "x_values = np.array(range(-100, 101))\n",
    "odds = np.exp((x_values + home_court_advantage) * lr_model.coef_ + lr_model.intercept_)\n",
    "prob = odds / (1. + odds)                               \n",
    "r_x_h = pd.DataFrame(data=prob[0], index=x_values, columns=[\"H\"])\n",
    "\n",
    "# Away\n",
    "helper_df = 1. - r_x_h\n",
    "helper_df.index = range(100, -101, -1)\n",
    "r_x_a = helper_df.sort_index()\n",
    "r_x_a.columns=['A']\n",
    "\n",
    "# Neutral\n",
    "x_values = np.array(range(-100, 101))\n",
    "odds_neutral = np.exp((x_values + 2 * home_court_advantage) * lr_model.coef_ + lr_model.intercept_)\n",
    "prob_neutral = odds_neutral / (1. + odds_neutral)                         \n",
    "r_x_n = pd.DataFrame(data=prob_neutral[0], index=x_values, columns=[\"N\"])\n",
    "\n",
    "# Combine into single dataframe\n",
    "game2_probs = pd.concat([r_x_h, r_x_a, r_x_n],axis=1)\n",
    "game2_probs.reset_index(inplace=True)\n",
    "game2_probs.columns = ['diff','H','A','N']\n",
    "t_prob_lookup = pd.melt(game2_probs,id_vars='diff',var_name='loc',value_name='prob')"
   ]
  },
  {
   "cell_type": "markdown",
   "id": "e351e042",
   "metadata": {},
   "source": [
    "## Markov Creation"
   ]
  },
  {
   "cell_type": "code",
   "execution_count": 14,
   "id": "0c6c88c2",
   "metadata": {},
   "outputs": [],
   "source": [
    "def get_team1_loc(r):\n",
    "    if r['Team1'] == r['home_id']:\n",
    "        return 'H'\n",
    "    elif r['Team1'] == r['away_id']:\n",
    "        return 'A'\n",
    "    else:\n",
    "        return 'N'\n",
    "def get_team1_diff(r):\n",
    "    if r['Team1'] == r['WTeamID']:\n",
    "        return r['WScore']-r['LScore']\n",
    "    else:\n",
    "        return r['LScore']-r['WScore']"
   ]
  },
  {
   "cell_type": "code",
   "execution_count": 15,
   "id": "aff414e6",
   "metadata": {},
   "outputs": [],
   "source": [
    "regular_seasons['Team1'] = regular_seasons['sorted_ids'].apply(lambda x: x.split(',')[0])\n",
    "regular_seasons['Team2'] = regular_seasons['sorted_ids'].apply(lambda x: x.split(',')[1])\n",
    "regular_seasons['Team1_loc'] = regular_seasons.apply(lambda r: get_team1_loc(r),axis=1)\n",
    "regular_seasons['Team1_diff'] = regular_seasons.apply(lambda r: get_team1_diff(r),axis=1)\n",
    "regular_seasons['prob_t1_better'] = pd.merge(regular_seasons, t_prob_lookup, how='left', left_on=['Team1_loc','Team1_diff'], right_on=['loc','diff'])['prob']\n",
    "regular_seasons['prob_t2_better'] = 1 - regular_seasons['prob_t1_better']"
   ]
  },
  {
   "cell_type": "code",
   "execution_count": 16,
   "id": "7629357c",
   "metadata": {},
   "outputs": [],
   "source": [
    "wins = regular_seasons.groupby(['Season','WTeamID'],as_index=False).size()\n",
    "wins.columns = ['Season', 'TeamID', 'Wins']\n",
    "losses = regular_seasons.groupby(['Season','LTeamID'],as_index=False).size()\n",
    "losses.columns = ['Season', 'TeamID', 'Losses']\n",
    "games = pd.merge(wins,losses,how='outer',on=['Season','TeamID']).fillna(0)\n",
    "games['Total'] = games['Wins']+games['Losses']"
   ]
  },
  {
   "cell_type": "code",
   "execution_count": 17,
   "id": "d03897d4",
   "metadata": {},
   "outputs": [],
   "source": [
    "t_prob_team_lookup = regular_seasons.groupby(['Season','Team1','Team2'],as_index=False)[['prob_t1_better','prob_t2_better']].sum()\n",
    "t_prob_team_lookup['Team1_Games'] = pd.merge(t_prob_team_lookup, games, how='left',left_on = ['Season','Team1'],right_on=['Season','TeamID'])['Total']\n",
    "t_prob_team_lookup['Team2_Games'] = pd.merge(t_prob_team_lookup, games, how='left',left_on = ['Season','Team2'],right_on=['Season','TeamID'])['Total']\n",
    "t_prob_team_lookup['prob_t1_normalized'] = t_prob_team_lookup['prob_t1_better']/t_prob_team_lookup['Team2_Games']\n",
    "t_prob_team_lookup['prob_t2_normalized'] = t_prob_team_lookup['prob_t2_better']/t_prob_team_lookup['Team1_Games']"
   ]
  },
  {
   "cell_type": "code",
   "execution_count": 18,
   "id": "d6cb66ce",
   "metadata": {},
   "outputs": [],
   "source": [
    "def get_transition(yr, t_prob_team_lookup):\n",
    "    cols = ['Season','Team1','Team2','prob_t1_normalized','prob_t2_normalized']\n",
    "    temp = t_prob_team_lookup[t_prob_team_lookup.Season==yr][cols].copy()\n",
    "    t1s = list(regular_seasons[regular_seasons.Season==yr]['Team1'].unique())\n",
    "    t2s = list(regular_seasons[regular_seasons.Season==yr]['Team2'].unique())\n",
    "    tms = list(set(t1s+t2s))\n",
    "    new_df = pd.DataFrame([(yr,x,x,0,0) for x in tms], columns = cols)\n",
    "    new_df2 = pd.concat([temp,new_df], ignore_index=True)\n",
    "    t1_matrix = new_df2.pivot(index='Team1',columns='Team2',values='prob_t2_normalized').fillna(0.0)\n",
    "    t2_matrix = new_df2.pivot(index='Team2',columns='Team1',values='prob_t1_normalized').fillna(0.0)\n",
    "    t_matrix = t1_matrix.add(t2_matrix)\n",
    "    for t in t_matrix.index:\n",
    "        t_matrix.loc[t,t] = 1. - t_matrix.loc[t,:].sum()\n",
    "    \n",
    "    return t_matrix\n",
    "\n",
    "def get_stationary(t_matrix):\n",
    "    eigenvalues, eigenvectors = eig(t_matrix,left=True,right=False)\n",
    "\n",
    "    # stationary distibution is primary eigenvector\n",
    "    # pi = pi * P\n",
    "    stationary = eigenvectors[:, 0]\n",
    "    stationary = stationary / np.sum(stationary)\n",
    "\n",
    "    # confirm it works\n",
    "    if stationary[np.iscomplex(stationary)].shape[0] == 0:\n",
    "        with warnings.catch_warnings():\n",
    "            warnings.simplefilter('ignore')\n",
    "            # convert to reals\n",
    "            stationary = stationary.astype(float)\n",
    "    else:\n",
    "        print(\"complex!!\")\n",
    "    \n",
    "    return pd.DataFrame(data=list(zip(t_matrix.index,stationary)), columns = ['TeamID','pi_i'])"
   ]
  },
  {
   "cell_type": "code",
   "execution_count": 19,
   "id": "15718514",
   "metadata": {},
   "outputs": [
    {
     "name": "stderr",
     "output_type": "stream",
     "text": [
      "100%|██████████| 38/38 [00:06<00:00,  5.53it/s]\n"
     ]
    }
   ],
   "source": [
    "stationary_dfs = []\n",
    "for season in tqdm(regular_seasons.Season.unique()):\n",
    "    t_matrix = get_transition(season, t_prob_team_lookup)\n",
    "    stationary_df = get_stationary(t_matrix)\n",
    "    stationary_df['Season'] = season\n",
    "    stationary_dfs.append(stationary_df)"
   ]
  },
  {
   "cell_type": "code",
   "execution_count": 20,
   "id": "41a49ad5",
   "metadata": {},
   "outputs": [],
   "source": [
    "markov_df = pd.concat(stationary_dfs,ignore_index=True)\n",
    "markov_df = markov_df[['Season','TeamID','pi_i']]\n",
    "markov_df.to_csv('stationary_probabilities.csv')"
   ]
  },
  {
   "cell_type": "markdown",
   "id": "31c599aa",
   "metadata": {},
   "source": [
    "# Verify predictive power on 1985 season"
   ]
  },
  {
   "cell_type": "code",
   "execution_count": null,
   "id": "82707235",
   "metadata": {},
   "outputs": [],
   "source": [
    "# Need to make tourney_wins_matrix and in_tourney_matrix to run"
   ]
  },
  {
   "cell_type": "code",
   "execution_count": 22,
   "id": "5fa7ebb2",
   "metadata": {},
   "outputs": [],
   "source": [
    "# t_matrix = get_transition(1985, t_prob_team_lookup)\n",
    "# stationary_df = get_stationary(t_matrix)\n",
    "# tourney_wins = pd.read_csv(\"datasets/our_data/team_summary_data/tourney_wins_matrix\", index_col=0)\n",
    "# in_tourney = pd.read_csv(\"datasets/our_data/team_summary_data/in_tourney_matrix\", index_col=0)\n",
    "# in_tourney_1985 = in_tourney.loc[1985]\n",
    "# teams_in_tourney_1985 = in_tourney_1985[in_tourney_1985 == 1.].index\n",
    "# tourney_wins_1985_filt = tourney_wins.loc[1985, teams_in_tourney_1985]\n",
    "# pi_i_1985_filt = stationary_df[stationary_df.TeamID.isin(teams_in_tourney_1985.tolist())]['pi_i']"
   ]
  },
  {
   "cell_type": "code",
   "execution_count": null,
   "id": "aa357479",
   "metadata": {},
   "outputs": [],
   "source": [
    "# lin_reg = LinReg()\n",
    "# y = tourney_wins_1985_filt.values.reshape(64,1)\n",
    "# x = pi_i_1985_filt.values.reshape(64,1)\n",
    "# lin_reg.fit(x,y)\n",
    "\n",
    "# x_vals = np.array([0, .01])\n",
    "# y_vals = x_vals * lin_reg.coef_[0] + lin_reg.intercept_\n",
    "\n",
    "# fig = plt.figure(figsize=(8,4))\n",
    "# ax = fig.add_subplot(111)\n",
    "# ax.scatter(x, y, color=\"Blue\", label=\"Data\")\n",
    "# ax.plot(x_vals, y_vals, color=\"green\", label=\"Regression Line\")\n",
    "# ax.set_xlim([0, .01])\n",
    "# ax.set_ylim([-2,7])\n",
    "# ax.set_title(\"1985 Relationship Between pi_i and Tournament Wins\")\n",
    "# ax.set_xlabel(\"pi_i (stationary distribution probability of ith team)\")\n",
    "# ax.set_ylabel(\"Tournament Wins\")\n",
    "# ax.legend(bbox_to_anchor=(1.05, 1), loc=2, borderaxespad=0.)"
   ]
  }
 ],
 "metadata": {
  "kernelspec": {
   "display_name": "Python 3",
   "language": "python",
   "name": "python3"
  },
  "language_info": {
   "codemirror_mode": {
    "name": "ipython",
    "version": 3
   },
   "file_extension": ".py",
   "mimetype": "text/x-python",
   "name": "python",
   "nbconvert_exporter": "python",
   "pygments_lexer": "ipython3",
   "version": "3.8.8"
  }
 },
 "nbformat": 4,
 "nbformat_minor": 5
}
