{
 "cells": [
  {
   "cell_type": "code",
   "execution_count": 1,
   "id": "f3b2bd61",
   "metadata": {},
   "outputs": [],
   "source": [
    "import numpy as np\n",
    "import pandas as pd\n",
    "import itertools\n",
    "from numpy.random import default_rng\n",
    "from tqdm import tqdm"
   ]
  },
  {
   "cell_type": "markdown",
   "id": "8eab6f9b",
   "metadata": {},
   "source": [
    "# Load data and models"
   ]
  },
  {
   "cell_type": "code",
   "execution_count": 2,
   "id": "0457336f",
   "metadata": {},
   "outputs": [],
   "source": [
    "# numpy random generator\n",
    "rng = default_rng()"
   ]
  },
  {
   "cell_type": "code",
   "execution_count": 3,
   "id": "24101d33",
   "metadata": {},
   "outputs": [],
   "source": [
    "# Read in the kaggle data\n",
    "seeds = pd.read_csv(\"data/kaggle_data/MNCAATourneySeeds.csv\",dtype={'TeamID':str})\n",
    "slots = pd.read_csv(\"data/kaggle_data/MNCAATourneySlots.csv\")\n",
    "games = pd.read_csv(\"data/kaggle_data/MNCAATourneyCompactResults.csv\",dtype={'WTeamID':str,'LTeamID':str})\n",
    "teams = pd.read_csv(\"data/kaggle_data/MTeams.csv\",dtype={'TeamID':str})"
   ]
  },
  {
   "cell_type": "code",
   "execution_count": 4,
   "id": "8edc6400",
   "metadata": {},
   "outputs": [],
   "source": [
    "# Read in predictors \n",
    "pred_df = pd.read_csv('data/generated_data/team_season_features.csv')"
   ]
  },
  {
   "cell_type": "code",
   "execution_count": 5,
   "id": "90a63b59",
   "metadata": {},
   "outputs": [],
   "source": [
    "# Read in the model(s)... need to modify model notebook to save final one\n",
    "# todo...."
   ]
  },
  {
   "cell_type": "code",
   "execution_count": 6,
   "id": "64541466",
   "metadata": {},
   "outputs": [],
   "source": [
    "def sorted_ids(r,c1,c2):\n",
    "    return ','.join([x for x in sorted([str(r[c1]),str(r[c2])])])\n",
    "\n",
    "# need for 2021 game where VCU couldn't play due to COVID protocals\n",
    "def fix_actual_winner(r):\n",
    "    if r['Season'] == 2021 and r['sorted_ids'] == '1332,1433' :\n",
    "        return '1332'\n",
    "    return r['actual_winner']\n",
    "\n",
    "# gets all possible tournament matchups in a season\n",
    "def get_combos(season):\n",
    "    team_ids = seeds[seeds.Season==season]['TeamID'].unique()\n",
    "    return [comb for comb in itertools.combinations(team_ids,2)]\n"
   ]
  },
  {
   "cell_type": "code",
   "execution_count": 8,
   "id": "f3a02a7e",
   "metadata": {},
   "outputs": [],
   "source": [
    "games['sorted_ids'] = games.apply(lambda r: sorted_ids(r,'WTeamID','LTeamID'),axis=1)\n",
    "slots['Round'] = slots['Slot'].apply(lambda x:  int(x[1]) if x[0] == 'R' else 0)"
   ]
  },
  {
   "cell_type": "markdown",
   "id": "6b1971c6",
   "metadata": {},
   "source": [
    "# Make dataframe with predictions for every possible matchup in each tournament"
   ]
  },
  {
   "cell_type": "code",
   "execution_count": 62,
   "id": "f7fe9a04",
   "metadata": {},
   "outputs": [],
   "source": [
    "# dummy data for now, need to read in real predictors and then apply best model\n",
    "\n",
    "# precomputed dataframe\n",
    "pred_df = pd.DataFrame([(season, team1, team2) for season in games[games.Season > 2001].Season.unique() for team1,team2 in get_combos(season)], columns=['Season','TeamID_1','TeamID_2'])\n",
    "pred_df['team1_seed'] = pred_df.merge(seeds,how='left',left_on=['Season','TeamID_1'],right_on=['Season','TeamID'])['Seed']\n",
    "pred_df['team2_seed'] = pred_df.merge(seeds,how='left',left_on=['Season','TeamID_2'],right_on=['Season','TeamID'])['Seed']\n",
    "pred_df['team1_seed_num'] = pred_df['team1_seed'].str.extract('(\\d+)', expand=False).map(int)\n",
    "pred_df['team2_seed_num'] = pred_df['team2_seed'].str.extract('(\\d+)', expand=False).map(int)\n",
    "\n",
    "# calculate with model once have predictor data\n",
    "pred_df['team1_win_prob'] = 1\n",
    "#pred_df['team1_win_prob'] = pred_df.apply(lambda x: rng.random(), axis=1)\n",
    "pred_df['team2_win_prob'] = 1-pred_df['team1_win_prob']\n",
    "pred_df['team1_score_diff'] = pred_df['team1_win_prob'].apply(lambda x: (x-0.5)*30)\n",
    "\n",
    "pred_df['model_winner'] = pred_df.apply(lambda x: x['TeamID_1'] if x['team1_win_prob'] > 0.5 else x['TeamID_2'], axis=1)\n",
    "pred_df['seed_winner'] = pred_df.apply(lambda x: x['TeamID_1'] if x['team1_seed_num'] <= x['team2_seed_num'] else x['TeamID_2'], axis=1)\n",
    "pred_df['model_winner_prob'] = pred_df.apply(lambda x: x['team1_win_prob'] if x['model_winner']==x['TeamID_1'] else x['team2_win_prob'], axis=1)\n",
    "pred_df['seed_winner_prob'] = pred_df.apply(lambda x: x['team1_win_prob'] if x['seed_winner']==x['TeamID_1'] else x['team2_win_prob'], axis=1)\n",
    "pred_df['actual_winner_prob'] = 1\n",
    "pred_df['sorted_ids'] = pred_df.apply(lambda r: sorted_ids(r,'TeamID_1','TeamID_2'),axis=1)\n",
    "pred_df['actual_winner'] = pred_df.merge(games,how='left',on=['Season','sorted_ids'])['WTeamID'].fillna('NA')\n",
    "pred_df['actual_winner'] = pred_df.apply(lambda r: fix_actual_winner(r),axis=1)"
   ]
  },
  {
   "cell_type": "code",
   "execution_count": 63,
   "id": "4c23d6c4",
   "metadata": {},
   "outputs": [],
   "source": [
    "# add simulation columns? may not be worth it since past work showed very similar to greedy"
   ]
  },
  {
   "cell_type": "code",
   "execution_count": 64,
   "id": "1f2aec19",
   "metadata": {},
   "outputs": [],
   "source": [
    "def run_sim(r):\n",
    "    return np.random.choice([r['TeamID_1'],r['TeamID_2']],p=[r['team1_win_prob'],1-r['team1_win_prob']])"
   ]
  },
  {
   "cell_type": "code",
   "execution_count": 17,
   "id": "a811e8ba",
   "metadata": {},
   "outputs": [
    {
     "name": "stderr",
     "output_type": "stream",
     "text": [
      "100%|██████████| 5/5 [00:10<00:00,  2.19s/it]\n"
     ]
    }
   ],
   "source": [
    "for i in tqdm(range(5)):\n",
    "    pred_df['simulation_'+str(i)] = pred_df.apply(lambda r: run_sim(r),axis=1)"
   ]
  },
  {
   "cell_type": "markdown",
   "id": "faafe202",
   "metadata": {},
   "source": [
    "# Bracket class - may want to add something "
   ]
  },
  {
   "cell_type": "code",
   "execution_count": null,
   "id": "71a84868",
   "metadata": {},
   "outputs": [],
   "source": [
    "# need to add expected points"
   ]
  },
  {
   "cell_type": "code",
   "execution_count": 65,
   "id": "d1fcce0a",
   "metadata": {},
   "outputs": [],
   "source": [
    "class Bracket:\n",
    "    def __init__(self, season, seeds, slots, teams, prediction_df):\n",
    "        self.season = season\n",
    "        self.teams= teams\n",
    "        self.prediction_df = prediction_df[prediction_df.Season==season].copy()\n",
    "        self.seeds = seeds[seeds.Season==season].copy()\n",
    "        self.slots = slots[slots.Season==season].copy()\n",
    "        self.slots['Round'] = self.slots['Slot'].apply(lambda x:  int(x[1]) if x[0] == 'R' else 0)\n",
    "\n",
    "        self.r0 = self.slots[self.slots['Round']==0].reset_index(drop=True)\n",
    "        self.r1 = self.slots[self.slots['Round']==1].reset_index(drop=True)\n",
    "        self.r2 = self.slots[self.slots['Round']==2].reset_index(drop=True)\n",
    "        self.r3 = self.slots[self.slots['Round']==3].reset_index(drop=True)\n",
    "        self.r4 = self.slots[self.slots['Round']==4].reset_index(drop=True)\n",
    "        self.r5 = self.slots[self.slots['Round']==5].reset_index(drop=True)\n",
    "        self.r6 = self.slots[self.slots['Round']==6].reset_index(drop=True)\n",
    "        self.bracket = self.slots.copy()\n",
    "        \n",
    "    def fill_bracket(self,predictor):\n",
    "        \n",
    "        # playin round\n",
    "        self.r0['TeamID_1'] = pd.merge(self.r0,self.seeds,how='left',left_on=['StrongSeed'],right_on=['Seed'])['TeamID']\n",
    "        self.r0['team1_prob'] = 1\n",
    "        self.r0['TeamID_2'] = pd.merge(self.r0,self.seeds,how='left',left_on=['WeakSeed'],right_on=['Seed'])['TeamID']\n",
    "        self.r0['team2_prob'] = 1\n",
    "        self.r0['sorted_ids'] = self.r0.apply(lambda r: sorted_ids(r,'TeamID_1','TeamID_2'),axis=1)\n",
    "        self.r0[['Winner','curr_win_prob']] = pd.merge(self.r0,self.prediction_df,how='left',on=['sorted_ids'])[[predictor,predictor+'_prob']]\n",
    "        self.r0['pre_win_prob'] = 1\n",
    "        self.r0['cumm_win_prob'] = self.r0['curr_win_prob']\n",
    "        \n",
    "        playin_seeds = self.r0[['Season','Slot','Winner']].copy()\n",
    "        playin_seeds.columns = ['Season','Seed','TeamID']\n",
    "        self.new_seeds = pd.concat([self.seeds,playin_seeds],ignore_index=True)\n",
    "                               \n",
    "        self.r1['TeamID_1'] = pd.merge(self.r1,self.new_seeds,how='left',left_on=['StrongSeed'],right_on=['Seed'])['TeamID']\n",
    "        self.r1['team1_prob'] = 1\n",
    "        self.r1['TeamID_2'] = pd.merge(self.r1,self.new_seeds,how='left',left_on=['WeakSeed'],right_on=['Seed'])['TeamID']\n",
    "        self.r1['team2_prob'] = 1\n",
    "        self.r1['sorted_ids'] = self.r1.apply(lambda r: sorted_ids(r,'TeamID_1','TeamID_2'),axis=1)\n",
    "        self.r1[['Winner','curr_win_prob']] = pd.merge(self.r1,self.prediction_df,how='left',on=['sorted_ids'])[[predictor,predictor+'_prob']]\n",
    "        self.r1['pre_win_prob'] = 1\n",
    "        self.r1['cumm_win_prob'] = self.r1['curr_win_prob']\n",
    "        \n",
    "        # can probably condense to for loop for subsequent rounds\n",
    "        self.r2[['TeamID_1','team1_prob']] = pd.merge(self.r2,self.r1,how='left',left_on=['StrongSeed'],right_on=['Slot'])[['Winner','cumm_win_prob']]\n",
    "        self.r2[['TeamID_2','team2_prob']] = pd.merge(self.r2,self.r1,how='left',left_on=['WeakSeed'],right_on=['Slot'])[['Winner','cumm_win_prob']]\n",
    "        self.r2['sorted_ids'] = self.r2.apply(lambda r: sorted_ids(r,'TeamID_1','TeamID_2'),axis=1)\n",
    "        self.r2[['Winner','curr_win_prob']] = pd.merge(self.r2,self.prediction_df,how='left',on=['sorted_ids'])[[predictor,predictor+'_prob']]\n",
    "        self.r2['pre_win_prob'] = self.r2.apply(lambda r: r['team1_prob'] if r['Winner']==r['TeamID_1'] else r['team2_prob'],axis=1)\n",
    "        self.r2['cumm_win_prob'] = self.r2['pre_win_prob']*self.r2['curr_win_prob']\n",
    "        \n",
    "        self.r3[['TeamID_1','team1_prob']] = pd.merge(self.r3,self.r2,how='left',left_on=['StrongSeed'],right_on=['Slot'])[['Winner','cumm_win_prob']]\n",
    "        self.r3[['TeamID_2','team2_prob']] = pd.merge(self.r3,self.r2,how='left',left_on=['WeakSeed'],right_on=['Slot'])[['Winner','cumm_win_prob']]\n",
    "        self.r3['sorted_ids'] = self.r3.apply(lambda r: sorted_ids(r,'TeamID_1','TeamID_2'),axis=1)\n",
    "        self.r3[['Winner','curr_win_prob']] = pd.merge(self.r3,self.prediction_df,how='left',on=['sorted_ids'])[[predictor,predictor+'_prob']]\n",
    "        self.r3['pre_win_prob'] = self.r3.apply(lambda r: r['team1_prob'] if r['Winner']==r['TeamID_1'] else r['team2_prob'],axis=1)\n",
    "        self.r3['cumm_win_prob'] = self.r3['pre_win_prob']*self.r3['curr_win_prob']\n",
    "        \n",
    "        self.r4[['TeamID_1','team1_prob']] = pd.merge(self.r4,self.r3,how='left',left_on=['StrongSeed'],right_on=['Slot'])[['Winner','cumm_win_prob']]\n",
    "        self.r4[['TeamID_2','team2_prob']] = pd.merge(self.r4,self.r3,how='left',left_on=['WeakSeed'],right_on=['Slot'])[['Winner','cumm_win_prob']]\n",
    "        self.r4['sorted_ids'] = self.r4.apply(lambda r: sorted_ids(r,'TeamID_1','TeamID_2'),axis=1)\n",
    "        self.r4[['Winner','curr_win_prob']] = pd.merge(self.r4,self.prediction_df,how='left',on=['sorted_ids'])[[predictor,predictor+'_prob']]\n",
    "        self.r4['pre_win_prob'] = self.r4.apply(lambda r: r['team1_prob'] if r['Winner']==r['TeamID_1'] else r['team2_prob'],axis=1)\n",
    "        self.r4['cumm_win_prob'] = self.r4['pre_win_prob']*self.r4['curr_win_prob']\n",
    "        \n",
    "        self.r5[['TeamID_1','team1_prob']] = pd.merge(self.r5,self.r4,how='left',left_on=['StrongSeed'],right_on=['Slot'])[['Winner','cumm_win_prob']]\n",
    "        self.r5[['TeamID_2','team2_prob']] = pd.merge(self.r5,self.r4,how='left',left_on=['WeakSeed'],right_on=['Slot'])[['Winner','cumm_win_prob']]\n",
    "        self.r5['sorted_ids'] = self.r5.apply(lambda r: sorted_ids(r,'TeamID_1','TeamID_2'),axis=1)\n",
    "        self.r5[['Winner','curr_win_prob']] = pd.merge(self.r5,self.prediction_df,how='left',on=['sorted_ids'])[[predictor,predictor+'_prob']]\n",
    "        self.r5['pre_win_prob'] = self.r5.apply(lambda r: r['team1_prob'] if r['Winner']==r['TeamID_1'] else r['team2_prob'],axis=1)\n",
    "        self.r5['cumm_win_prob'] = self.r5['pre_win_prob']*self.r5['curr_win_prob']\n",
    "        \n",
    "        self.r6[['TeamID_1','team1_prob']] = pd.merge(self.r6,self.r5,how='left',left_on=['StrongSeed'],right_on=['Slot'])[['Winner','cumm_win_prob']]\n",
    "        self.r6[['TeamID_2','team2_prob']] = pd.merge(self.r6,self.r5,how='left',left_on=['WeakSeed'],right_on=['Slot'])[['Winner','cumm_win_prob']]\n",
    "        self.r6['sorted_ids'] = self.r6.apply(lambda r: sorted_ids(r,'TeamID_1','TeamID_2'),axis=1)\n",
    "        self.r6[['Winner','curr_win_prob']] = pd.merge(self.r6,self.prediction_df,how='left',on=['sorted_ids'])[[predictor,predictor+'_prob']]\n",
    "        self.r6['pre_win_prob'] = self.r6.apply(lambda r: r['team1_prob'] if r['Winner']==r['TeamID_1'] else r['team2_prob'],axis=1)\n",
    "        self.r6['cumm_win_prob'] = self.r6['pre_win_prob']*self.r6['curr_win_prob']\n",
    "        \n",
    "        self.bracket = pd.concat([self.r0,self.r1,self.r2,self.r3,self.r4,self.r5,self.r6],ignore_index=True)\n",
    "        self.bracket['TeamName_1'] = pd.merge(self.bracket,self.teams,how='left',left_on=['TeamID_1'],right_on=['TeamID'])['TeamName']\n",
    "        self.bracket['TeamName_2'] = pd.merge(self.bracket,self.teams,how='left',left_on=['TeamID_2'],right_on=['TeamID'])['TeamName']\n",
    "        self.bracket['WinnerName'] = pd.merge(self.bracket,self.teams,how='left',left_on=['Winner'],right_on=['TeamID'])['TeamName']\n",
    "        self.bracket['potential_pts'] = self.bracket['Round'].apply(lambda x: 0 if x == 0 else 320/(64/(2**x)))\n",
    "        self.bracket['expected_pts'] = self.bracket['cumm_win_prob']*self.bracket['potential_pts']\n",
    "\n",
    "        return\n",
    "    \n",
    "    def score(self,actual):\n",
    "        self.bracket[['Winner_actual','WinnerName_actual']] = pd.merge(self.bracket,actual.bracket[['Season','Slot','Winner','WinnerName']],how='left',on=['Season','Slot'],suffixes=['_predicted','_actual'])[['Winner_actual','WinnerName_actual']]\n",
    "        self.bracket['correct'] = self.bracket.apply(lambda r: int(r['Winner']==r['Winner_actual']),axis=1)\n",
    "        self.bracket['pts'] = self.bracket['potential_pts']*self.bracket['correct']\n",
    "        return\n",
    "    \n",
    "    def get_team_scores(self):\n",
    "        return self.bracket.groupby('Winner',as_index=False)['pts'].sum()\n",
    "    \n",
    "        "
   ]
  },
  {
   "cell_type": "markdown",
   "id": "48725aeb",
   "metadata": {},
   "source": [
    "# Test out different strategies - need to incorporate people's bracket / who picked whom"
   ]
  },
  {
   "cell_type": "code",
   "execution_count": 66,
   "id": "9d816229",
   "metadata": {},
   "outputs": [],
   "source": [
    "a = Bracket(2021,seeds,slots,teams,pred_df)"
   ]
  },
  {
   "cell_type": "code",
   "execution_count": 67,
   "id": "af4cf16e",
   "metadata": {},
   "outputs": [],
   "source": [
    "a.fill_bracket('actual_winner')"
   ]
  },
  {
   "cell_type": "code",
   "execution_count": 68,
   "id": "a0acc813",
   "metadata": {},
   "outputs": [
    {
     "data": {
      "text/plain": [
       "1920.0"
      ]
     },
     "execution_count": 68,
     "metadata": {},
     "output_type": "execute_result"
    }
   ],
   "source": [
    "a.bracket['expected_pts'].sum()"
   ]
  },
  {
   "cell_type": "code",
   "execution_count": 69,
   "id": "280f1beb",
   "metadata": {},
   "outputs": [],
   "source": [
    "b = Bracket(2021,seeds,slots,teams,pred_df)"
   ]
  },
  {
   "cell_type": "code",
   "execution_count": 70,
   "id": "38648fad",
   "metadata": {},
   "outputs": [],
   "source": [
    "b.fill_bracket('seed_winner')"
   ]
  },
  {
   "cell_type": "code",
   "execution_count": 71,
   "id": "df5967e1",
   "metadata": {},
   "outputs": [
    {
     "data": {
      "text/plain": [
       "1920.0"
      ]
     },
     "execution_count": 71,
     "metadata": {},
     "output_type": "execute_result"
    }
   ],
   "source": [
    "b.bracket['expected_pts'].sum()"
   ]
  },
  {
   "cell_type": "code",
   "execution_count": null,
   "id": "b5039713",
   "metadata": {},
   "outputs": [],
   "source": []
  },
  {
   "cell_type": "code",
   "execution_count": null,
   "id": "36e8c054",
   "metadata": {},
   "outputs": [],
   "source": []
  },
  {
   "cell_type": "code",
   "execution_count": 32,
   "id": "635919a2",
   "metadata": {},
   "outputs": [],
   "source": [
    "def run_tourney(season,predictor,actual):\n",
    "    b = Bracket(season,seeds,slots,teams,pred_df)\n",
    "    b.fill_bracket(predictor)\n",
    "    b.score(actual)\n",
    "    round_score_df = b.bracket.groupby('Round')['pts'].sum()\n",
    "    round_scores = {x:round_score_df[x] for x in range(1,7)}\n",
    "    round_scores['total'] = b.bracket['pts'].sum()\n",
    "    return round_scores\n",
    "    "
   ]
  },
  {
   "cell_type": "code",
   "execution_count": 33,
   "id": "14b95400",
   "metadata": {},
   "outputs": [],
   "source": [
    "scores = {}\n",
    "for season in range(2021,2022):\n",
    "    scores[season] = {}\n",
    "    actual = Bracket(season,seeds,slots,teams,pred_df)\n",
    "    actual.fill_bracket('actual_winner')\n",
    "    predictors = ['seed_winner','model_winner']\n",
    "    for p in predictors:\n",
    "        scores[season][p] = run_tourney(season,p,actual)"
   ]
  },
  {
   "cell_type": "code",
   "execution_count": 34,
   "id": "2d960356",
   "metadata": {},
   "outputs": [
    {
     "data": {
      "text/plain": [
       "{2021: {'seed_winner': {1: 220.0,\n",
       "   2: 140.0,\n",
       "   3: 160.0,\n",
       "   4: 160.0,\n",
       "   5: 0.0,\n",
       "   6: 0.0,\n",
       "   'total': 680.0},\n",
       "  'model_winner': {1: 130.0,\n",
       "   2: 80.0,\n",
       "   3: 80.0,\n",
       "   4: 0.0,\n",
       "   5: 0.0,\n",
       "   6: 0.0,\n",
       "   'total': 290.0}}}"
      ]
     },
     "execution_count": 34,
     "metadata": {},
     "output_type": "execute_result"
    }
   ],
   "source": [
    "scores"
   ]
  },
  {
   "cell_type": "code",
   "execution_count": 493,
   "id": "69832dc4",
   "metadata": {},
   "outputs": [],
   "source": [
    "results = pd.DataFrame([x for x in range(2009,2022)],columns=['Season'])\n",
    "predictors = ['seed_winner','model_winner']\n",
    "for p in predictors:\n",
    "    results[p] = results['Season'].apply(lambda x: scores[x][p]['total'])"
   ]
  },
  {
   "cell_type": "code",
   "execution_count": null,
   "id": "dfbd89ea",
   "metadata": {},
   "outputs": [],
   "source": [
    "# make some visualization of points for each strategy in each year"
   ]
  },
  {
   "cell_type": "markdown",
   "id": "b7fb91dd",
   "metadata": {},
   "source": [
    "# Create 2022 Bracket"
   ]
  },
  {
   "cell_type": "code",
   "execution_count": 557,
   "id": "4f62d4cb",
   "metadata": {},
   "outputs": [],
   "source": [
    "bracket_2022 = Bracket(2022,seeds,slots,teams,pred_df)\n",
    "bracket_2022.fill_bracket()"
   ]
  },
  {
   "cell_type": "code",
   "execution_count": 558,
   "id": "5dde345e",
   "metadata": {},
   "outputs": [
    {
     "data": {
      "text/html": [
       "<div>\n",
       "<style scoped>\n",
       "    .dataframe tbody tr th:only-of-type {\n",
       "        vertical-align: middle;\n",
       "    }\n",
       "\n",
       "    .dataframe tbody tr th {\n",
       "        vertical-align: top;\n",
       "    }\n",
       "\n",
       "    .dataframe thead th {\n",
       "        text-align: right;\n",
       "    }\n",
       "</style>\n",
       "<table border=\"1\" class=\"dataframe\">\n",
       "  <thead>\n",
       "    <tr style=\"text-align: right;\">\n",
       "      <th></th>\n",
       "      <th>Season</th>\n",
       "      <th>Slot</th>\n",
       "      <th>StrongSeed</th>\n",
       "      <th>WeakSeed</th>\n",
       "      <th>Round</th>\n",
       "    </tr>\n",
       "  </thead>\n",
       "  <tbody>\n",
       "  </tbody>\n",
       "</table>\n",
       "</div>"
      ],
      "text/plain": [
       "Empty DataFrame\n",
       "Columns: [Season, Slot, StrongSeed, WeakSeed, Round]\n",
       "Index: []"
      ]
     },
     "execution_count": 558,
     "metadata": {},
     "output_type": "execute_result"
    }
   ],
   "source": [
    "# Look at bracket\n",
    "bracket_2022.bracket"
   ]
  }
 ],
 "metadata": {
  "kernelspec": {
   "display_name": "Python 3",
   "language": "python",
   "name": "python3"
  },
  "language_info": {
   "codemirror_mode": {
    "name": "ipython",
    "version": 3
   },
   "file_extension": ".py",
   "mimetype": "text/x-python",
   "name": "python",
   "nbconvert_exporter": "python",
   "pygments_lexer": "ipython3",
   "version": "3.8.8"
  }
 },
 "nbformat": 4,
 "nbformat_minor": 5
}
