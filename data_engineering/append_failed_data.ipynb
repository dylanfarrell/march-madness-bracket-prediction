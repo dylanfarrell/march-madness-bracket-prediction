{
 "cells": [
  {
   "cell_type": "code",
   "execution_count": 76,
   "id": "46e59bda",
   "metadata": {},
   "outputs": [],
   "source": [
    "from typing import List, Tuple\n",
    "import pandas as pd\n",
    "from argparser_config import get_parser\n",
    "\n",
    "from get_returning_player_team_info import get_returning_team_stats\n",
    "from create_weighted_player_stats import get_team_info\n",
    "\n",
    "import helper_functions as hf\n",
    "\n",
    "FUNCTION_TO_TABLE_DICT = {\n",
    "    get_returning_team_stats: \"returning_player_team_stats\",\n",
    "    get_team_info: \"team_weighted_info_tourney\",\n",
    "}\n",
    "\n",
    "\n",
    "def regenerate_failed_data(function, failed_team_season_lst):\n",
    "    outputs = []\n",
    "    for failed_team_season in failed_team_season_lst:\n",
    "        team, season = failed_team_season\n",
    "        output = function(team, season)\n",
    "        outputs.append([team, *output, season])\n",
    "    return pd.DataFrame(outputs)\n",
    "\n",
    "\n",
    "def load_existing_data(function, year):\n",
    "    file_path = f\"{hf.get_generated_dir(year)}/{FUNCTION_TO_TABLE_DICT[function]}.csv\"\n",
    "    df = pd.read_csv(file_path)\n",
    "    return df\n",
    "\n",
    "\n",
    "def append_failed_data(function, failed_team_seasons_lst, data_year):\n",
    "    failed_data = regenerate_failed_data(function, failed_team_seasons_lst)\n",
    "    existing_data = load_existing_data(function, data_year)\n",
    "    failed_data.columns = existing_data.columns\n",
    "    return pd.concat([existing_data, failed_data], ignore_index=True).sort_values(\n",
    "        by=[\"year\", \"team\"]\n",
    "    )"
   ]
  },
  {
   "cell_type": "markdown",
   "id": "feb7abdf",
   "metadata": {},
   "source": [
    "- Rerun `get_returning_team_stats` for updates to the returning player info table.\n",
    "- Rerun `get_team_info` for updates to the weighted team info table."
   ]
  },
  {
   "cell_type": "markdown",
   "id": "3ea4d7fc",
   "metadata": {},
   "source": [
    "## Failed Data: Weighted Info"
   ]
  },
  {
   "cell_type": "code",
   "execution_count": 99,
   "id": "09cf6737",
   "metadata": {},
   "outputs": [],
   "source": [
    "year = 2022"
   ]
  },
  {
   "cell_type": "code",
   "execution_count": 100,
   "id": "423870d1",
   "metadata": {},
   "outputs": [
    {
     "name": "stdout",
     "output_type": "stream",
     "text": [
      "Existing data has 1269 rows.\n"
     ]
    }
   ],
   "source": [
    "existing_data = load_existing_data(get_team_info, year)\n",
    "print(f\"Existing data has {len(existing_data)} rows.\")"
   ]
  },
  {
   "cell_type": "code",
   "execution_count": 101,
   "id": "0a12245f",
   "metadata": {},
   "outputs": [],
   "source": [
    "# The below teams failed while running the script due to API calls failing.\n",
    "# They both succeed when run as one-offs.\n",
    "failed_team_seasons_lst = [\n",
    "    ['syracuse', 2012],\n",
    "    ['minnesota', 2017]\n",
    "]"
   ]
  },
  {
   "cell_type": "code",
   "execution_count": 102,
   "id": "749e1a9b",
   "metadata": {},
   "outputs": [
    {
     "name": "stdout",
     "output_type": "stream",
     "text": [
      "New data has 1271 rows.\n"
     ]
    }
   ],
   "source": [
    "df = append_failed_data(get_team_info, failed_team_seasons_lst, year)\n",
    "print(f\"New data has {len(df)} rows.\")"
   ]
  },
  {
   "cell_type": "code",
   "execution_count": 103,
   "id": "86eeb14e",
   "metadata": {},
   "outputs": [
    {
     "name": "stdout",
     "output_type": "stream",
     "text": [
      "This file already exists. The overwrite flag is set to False so the existing file was not overwritten.\n"
     ]
    }
   ],
   "source": [
    "# write the dataframe to a csv\n",
    "file_path = f\"{hf.get_generated_dir(year)}/{FUNCTION_TO_TABLE_DICT[get_team_info]}.csv\"\n",
    "hf.write_to_csv(df, file_path, overwrite=False)"
   ]
  }
 ],
 "metadata": {
  "kernelspec": {
   "display_name": "Python Notebook Venv",
   "language": "python",
   "name": "venv"
  },
  "language_info": {
   "codemirror_mode": {
    "name": "ipython",
    "version": 3
   },
   "file_extension": ".py",
   "mimetype": "text/x-python",
   "name": "python",
   "nbconvert_exporter": "python",
   "pygments_lexer": "ipython3",
   "version": "3.10.9"
  }
 },
 "nbformat": 4,
 "nbformat_minor": 5
}
