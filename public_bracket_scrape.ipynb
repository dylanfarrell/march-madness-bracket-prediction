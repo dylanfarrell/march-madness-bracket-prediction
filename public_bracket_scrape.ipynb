{
 "cells": [
  {
   "cell_type": "code",
   "execution_count": 47,
   "id": "3c54c497",
   "metadata": {},
   "outputs": [],
   "source": [
    "from bs4 import BeautifulSoup\n",
    "import urllib.request\n",
    "import numpy as np\n",
    "import pandas as pd\n",
    "import matplotlib.pyplot as plt\n",
    "from pandasql import sqldf \n",
    "import helper_functions as hf\n",
    "from constants import CURRENT_YR, GENERATED_DIR\n",
    "%reload_ext autoreload\n",
    "%autoreload 2"
   ]
  },
  {
   "cell_type": "code",
   "execution_count": 44,
   "id": "40d2ba9e",
   "metadata": {},
   "outputs": [],
   "source": [
    "%aimport helper_functions"
   ]
  },
  {
   "cell_type": "code",
   "execution_count": 28,
   "id": "ccec0294",
   "metadata": {},
   "outputs": [],
   "source": [
    "def scrape_public_bracket(yr) -> pd.DataFrame:\n",
    "    link = 'https://fantasy.espn.com/tournament-challenge-bracket/'+str(yr)+'/en/whopickedwhom'\n",
    "    with urllib.request.urlopen(link) as url:\n",
    "        page = url.read()\n",
    "    soup = BeautifulSoup(page, \"html.parser\")\n",
    "    wpw_table = soup.find('table', {'class':'wpw-table'})\n",
    "    cols = ['yr', 'school', 'pct']\n",
    "    team_pcts = pd.DataFrame(columns=cols)\n",
    "    trs = wpw_table.find_all('tr')\n",
    "    for tr in trs[1:]:\n",
    "        tds = tr.find_all('td')\n",
    "        for td in tds:\n",
    "            school = td.find('span', {'class':'teamName'}).text.lower()\n",
    "            pct = float(td.find('span', {'class':'percentage'}).text.rstrip('%'))\n",
    "            new_row = pd.DataFrame(columns=cols)\n",
    "            new_row.loc[0] = [yr, school, pct]\n",
    "            team_pcts = pd.concat([team_pcts, new_row], ignore_index=True)\n",
    "    q = '''\n",
    "    SELECT\n",
    "        yr,\n",
    "        school, \n",
    "        pct AS pct_win_rd,\n",
    "        ROW_NUMBER() OVER(PARTITION BY school ORDER BY pct DESC) rd\n",
    "    FROM team_pcts\n",
    "    '''\n",
    "    team_pct_by_rd = sqldf(q)\n",
    "    return(team_pct_by_rd)"
   ]
  },
  {
   "cell_type": "code",
   "execution_count": 29,
   "id": "ac4e899e",
   "metadata": {},
   "outputs": [],
   "source": [
    "cols = ['yr', 'school', 'pct_win_rd', 'rd']\n",
    "public_bracket_df = pd.DataFrame(columns=cols)\n",
    "for yr in [2021, CURRENT_YR]:\n",
    "    public_bracket_df = pd.concat([public_bracket_df, scrape_public_bracket(yr)])"
   ]
  },
  {
   "cell_type": "code",
   "execution_count": 30,
   "id": "78d5796c",
   "metadata": {},
   "outputs": [
    {
     "data": {
      "text/html": [
       "<div>\n",
       "<style scoped>\n",
       "    .dataframe tbody tr th:only-of-type {\n",
       "        vertical-align: middle;\n",
       "    }\n",
       "\n",
       "    .dataframe tbody tr th {\n",
       "        vertical-align: top;\n",
       "    }\n",
       "\n",
       "    .dataframe thead th {\n",
       "        text-align: right;\n",
       "    }\n",
       "</style>\n",
       "<table border=\"1\" class=\"dataframe\">\n",
       "  <thead>\n",
       "    <tr style=\"text-align: right;\">\n",
       "      <th></th>\n",
       "      <th>yr</th>\n",
       "      <th>school</th>\n",
       "      <th>pct_win_rd</th>\n",
       "      <th>rd</th>\n",
       "    </tr>\n",
       "  </thead>\n",
       "  <tbody>\n",
       "    <tr>\n",
       "      <th>0</th>\n",
       "      <td>2021</td>\n",
       "      <td>alabama</td>\n",
       "      <td>96.9</td>\n",
       "      <td>1</td>\n",
       "    </tr>\n",
       "    <tr>\n",
       "      <th>1</th>\n",
       "      <td>2021</td>\n",
       "      <td>alabama</td>\n",
       "      <td>88.0</td>\n",
       "      <td>2</td>\n",
       "    </tr>\n",
       "    <tr>\n",
       "      <th>2</th>\n",
       "      <td>2021</td>\n",
       "      <td>alabama</td>\n",
       "      <td>75.1</td>\n",
       "      <td>3</td>\n",
       "    </tr>\n",
       "    <tr>\n",
       "      <th>3</th>\n",
       "      <td>2021</td>\n",
       "      <td>alabama</td>\n",
       "      <td>53.7</td>\n",
       "      <td>4</td>\n",
       "    </tr>\n",
       "    <tr>\n",
       "      <th>4</th>\n",
       "      <td>2021</td>\n",
       "      <td>alabama</td>\n",
       "      <td>36.6</td>\n",
       "      <td>5</td>\n",
       "    </tr>\n",
       "    <tr>\n",
       "      <th>...</th>\n",
       "      <td>...</td>\n",
       "      <td>...</td>\n",
       "      <td>...</td>\n",
       "      <td>...</td>\n",
       "    </tr>\n",
       "    <tr>\n",
       "      <th>379</th>\n",
       "      <td>2023</td>\n",
       "      <td>xavier</td>\n",
       "      <td>61.2</td>\n",
       "      <td>2</td>\n",
       "    </tr>\n",
       "    <tr>\n",
       "      <th>380</th>\n",
       "      <td>2023</td>\n",
       "      <td>xavier</td>\n",
       "      <td>20.9</td>\n",
       "      <td>3</td>\n",
       "    </tr>\n",
       "    <tr>\n",
       "      <th>381</th>\n",
       "      <td>2023</td>\n",
       "      <td>xavier</td>\n",
       "      <td>7.7</td>\n",
       "      <td>4</td>\n",
       "    </tr>\n",
       "    <tr>\n",
       "      <th>382</th>\n",
       "      <td>2023</td>\n",
       "      <td>xavier</td>\n",
       "      <td>2.4</td>\n",
       "      <td>5</td>\n",
       "    </tr>\n",
       "    <tr>\n",
       "      <th>383</th>\n",
       "      <td>2023</td>\n",
       "      <td>xavier</td>\n",
       "      <td>0.9</td>\n",
       "      <td>6</td>\n",
       "    </tr>\n",
       "  </tbody>\n",
       "</table>\n",
       "<p>768 rows × 4 columns</p>\n",
       "</div>"
      ],
      "text/plain": [
       "       yr   school  pct_win_rd rd\n",
       "0    2021  alabama        96.9  1\n",
       "1    2021  alabama        88.0  2\n",
       "2    2021  alabama        75.1  3\n",
       "3    2021  alabama        53.7  4\n",
       "4    2021  alabama        36.6  5\n",
       "..    ...      ...         ... ..\n",
       "379  2023   xavier        61.2  2\n",
       "380  2023   xavier        20.9  3\n",
       "381  2023   xavier         7.7  4\n",
       "382  2023   xavier         2.4  5\n",
       "383  2023   xavier         0.9  6\n",
       "\n",
       "[768 rows x 4 columns]"
      ]
     },
     "execution_count": 30,
     "metadata": {},
     "output_type": "execute_result"
    }
   ],
   "source": [
    "public_bracket_df"
   ]
  },
  {
   "cell_type": "code",
   "execution_count": 45,
   "id": "93c0618c",
   "metadata": {},
   "outputs": [
    {
     "data": {
      "text/html": [
       "<div>\n",
       "<style scoped>\n",
       "    .dataframe tbody tr th:only-of-type {\n",
       "        vertical-align: middle;\n",
       "    }\n",
       "\n",
       "    .dataframe tbody tr th {\n",
       "        vertical-align: top;\n",
       "    }\n",
       "\n",
       "    .dataframe thead th {\n",
       "        text-align: right;\n",
       "    }\n",
       "</style>\n",
       "<table border=\"1\" class=\"dataframe\">\n",
       "  <thead>\n",
       "    <tr style=\"text-align: right;\">\n",
       "      <th></th>\n",
       "      <th>TeamID</th>\n",
       "      <th>yr</th>\n",
       "      <th>school</th>\n",
       "      <th>pct_win_rd</th>\n",
       "      <th>rd</th>\n",
       "    </tr>\n",
       "  </thead>\n",
       "  <tbody>\n",
       "    <tr>\n",
       "      <th>0</th>\n",
       "      <td>1104</td>\n",
       "      <td>2021</td>\n",
       "      <td>alabama</td>\n",
       "      <td>96.9</td>\n",
       "      <td>1</td>\n",
       "    </tr>\n",
       "    <tr>\n",
       "      <th>1</th>\n",
       "      <td>1104</td>\n",
       "      <td>2021</td>\n",
       "      <td>alabama</td>\n",
       "      <td>88.0</td>\n",
       "      <td>2</td>\n",
       "    </tr>\n",
       "    <tr>\n",
       "      <th>2</th>\n",
       "      <td>1104</td>\n",
       "      <td>2021</td>\n",
       "      <td>alabama</td>\n",
       "      <td>75.1</td>\n",
       "      <td>3</td>\n",
       "    </tr>\n",
       "    <tr>\n",
       "      <th>3</th>\n",
       "      <td>1104</td>\n",
       "      <td>2021</td>\n",
       "      <td>alabama</td>\n",
       "      <td>53.7</td>\n",
       "      <td>4</td>\n",
       "    </tr>\n",
       "    <tr>\n",
       "      <th>4</th>\n",
       "      <td>1104</td>\n",
       "      <td>2021</td>\n",
       "      <td>alabama</td>\n",
       "      <td>36.6</td>\n",
       "      <td>5</td>\n",
       "    </tr>\n",
       "    <tr>\n",
       "      <th>...</th>\n",
       "      <td>...</td>\n",
       "      <td>...</td>\n",
       "      <td>...</td>\n",
       "      <td>...</td>\n",
       "      <td>...</td>\n",
       "    </tr>\n",
       "    <tr>\n",
       "      <th>715</th>\n",
       "      <td>1274</td>\n",
       "      <td>2023</td>\n",
       "      <td>miami</td>\n",
       "      <td>33.8</td>\n",
       "      <td>2</td>\n",
       "    </tr>\n",
       "    <tr>\n",
       "      <th>716</th>\n",
       "      <td>1274</td>\n",
       "      <td>2023</td>\n",
       "      <td>miami</td>\n",
       "      <td>9.3</td>\n",
       "      <td>3</td>\n",
       "    </tr>\n",
       "    <tr>\n",
       "      <th>717</th>\n",
       "      <td>1274</td>\n",
       "      <td>2023</td>\n",
       "      <td>miami</td>\n",
       "      <td>3.6</td>\n",
       "      <td>4</td>\n",
       "    </tr>\n",
       "    <tr>\n",
       "      <th>718</th>\n",
       "      <td>1274</td>\n",
       "      <td>2023</td>\n",
       "      <td>miami</td>\n",
       "      <td>1.2</td>\n",
       "      <td>5</td>\n",
       "    </tr>\n",
       "    <tr>\n",
       "      <th>719</th>\n",
       "      <td>1274</td>\n",
       "      <td>2023</td>\n",
       "      <td>miami</td>\n",
       "      <td>0.5</td>\n",
       "      <td>6</td>\n",
       "    </tr>\n",
       "  </tbody>\n",
       "</table>\n",
       "<p>720 rows × 5 columns</p>\n",
       "</div>"
      ],
      "text/plain": [
       "     TeamID    yr   school  pct_win_rd rd\n",
       "0      1104  2021  alabama        96.9  1\n",
       "1      1104  2021  alabama        88.0  2\n",
       "2      1104  2021  alabama        75.1  3\n",
       "3      1104  2021  alabama        53.7  4\n",
       "4      1104  2021  alabama        36.6  5\n",
       "..      ...   ...      ...         ... ..\n",
       "715    1274  2023    miami        33.8  2\n",
       "716    1274  2023    miami         9.3  3\n",
       "717    1274  2023    miami         3.6  4\n",
       "718    1274  2023    miami         1.2  5\n",
       "719    1274  2023    miami         0.5  6\n",
       "\n",
       "[720 rows x 5 columns]"
      ]
     },
     "execution_count": 45,
     "metadata": {},
     "output_type": "execute_result"
    }
   ],
   "source": [
    "joined_df = hf.scraped_df_join_to_team_spellings(public_bracket_df, 'school')\n",
    "joined_df"
   ]
  },
  {
   "cell_type": "code",
   "execution_count": 46,
   "id": "a833e691",
   "metadata": {},
   "outputs": [
    {
     "data": {
      "text/plain": [
       "array(['asu/nev', 'fau', 'kennesaw st', 'txso/fdu'], dtype=object)"
      ]
     },
     "execution_count": 46,
     "metadata": {},
     "output_type": "execute_result"
    }
   ],
   "source": [
    "check_for_missing_spellings(public_bracket_df, joined_df, 'school')"
   ]
  },
  {
   "cell_type": "code",
   "execution_count": 48,
   "id": "4f927672",
   "metadata": {},
   "outputs": [],
   "source": [
    "joined_df.to_csv(f'{GENERATED_DIR}/espn_who_picked_whom.csv')"
   ]
  },
  {
   "cell_type": "code",
   "execution_count": null,
   "id": "5786b55c",
   "metadata": {},
   "outputs": [],
   "source": []
  },
  {
   "cell_type": "code",
   "execution_count": null,
   "id": "60122f3d",
   "metadata": {},
   "outputs": [],
   "source": []
  },
  {
   "cell_type": "code",
   "execution_count": null,
   "id": "a115c2cb",
   "metadata": {},
   "outputs": [],
   "source": []
  },
  {
   "cell_type": "code",
   "execution_count": null,
   "id": "9ef23ee1",
   "metadata": {},
   "outputs": [],
   "source": []
  },
  {
   "cell_type": "code",
   "execution_count": null,
   "id": "6a84f926",
   "metadata": {},
   "outputs": [],
   "source": []
  },
  {
   "cell_type": "code",
   "execution_count": null,
   "id": "31b34588",
   "metadata": {},
   "outputs": [],
   "source": []
  },
  {
   "cell_type": "code",
   "execution_count": null,
   "id": "4a0078a0",
   "metadata": {},
   "outputs": [],
   "source": []
  },
  {
   "cell_type": "code",
   "execution_count": null,
   "id": "8803934a",
   "metadata": {},
   "outputs": [],
   "source": []
  },
  {
   "cell_type": "code",
   "execution_count": null,
   "id": "7d81424d",
   "metadata": {},
   "outputs": [],
   "source": []
  },
  {
   "cell_type": "code",
   "execution_count": null,
   "id": "5f2b59cb",
   "metadata": {},
   "outputs": [],
   "source": []
  },
  {
   "cell_type": "code",
   "execution_count": 82,
   "id": "4a860ad9",
   "metadata": {},
   "outputs": [
    {
     "data": {
      "text/plain": [
       "array([[  1.,  nan,  nan,  nan,  nan,  nan,  nan,  nan,  nan,  nan,  nan,\n",
       "         nan,  nan,  nan,  nan,  nan],\n",
       "       [  2.,   4.,  nan,  nan,  nan,  nan,  nan,  nan,  nan,  nan,  nan,\n",
       "         nan,  nan,  nan,  nan,  nan],\n",
       "       [  3.,   6.,   9.,  nan,  nan,  nan,  nan,  nan,  nan,  nan,  nan,\n",
       "         nan,  nan,  nan,  nan,  nan],\n",
       "       [  4.,   8.,  12.,  16.,  nan,  nan,  nan,  nan,  nan,  nan,  nan,\n",
       "         nan,  nan,  nan,  nan,  nan],\n",
       "       [  5.,  10.,  15.,  20.,  25.,  nan,  nan,  nan,  nan,  nan,  nan,\n",
       "         nan,  nan,  nan,  nan,  nan],\n",
       "       [  6.,  12.,  18.,  24.,  30.,  36.,  nan,  nan,  nan,  nan,  nan,\n",
       "         nan,  nan,  nan,  nan,  nan],\n",
       "       [  7.,  14.,  21.,  28.,  35.,  42.,  49.,  nan,  nan,  nan,  nan,\n",
       "         nan,  nan,  nan,  nan,  nan],\n",
       "       [  8.,  16.,  24.,  32.,  40.,  48.,  56.,  64.,  nan,  nan,  nan,\n",
       "         nan,  nan,  nan,  nan,  nan],\n",
       "       [  9.,  18.,  27.,  36.,  45.,  54.,  63.,  72.,  81.,  nan,  nan,\n",
       "         nan,  nan,  nan,  nan,  nan],\n",
       "       [ 10.,  20.,  30.,  40.,  50.,  60.,  70.,  80.,  90., 100.,  nan,\n",
       "         nan,  nan,  nan,  nan,  nan],\n",
       "       [ 11.,  22.,  33.,  44.,  55.,  66.,  77.,  88.,  99., 110., 121.,\n",
       "         nan,  nan,  nan,  nan,  nan],\n",
       "       [ 12.,  24.,  36.,  48.,  60.,  72.,  84.,  96., 108., 120., 132.,\n",
       "        144.,  nan,  nan,  nan,  nan],\n",
       "       [ 13.,  26.,  39.,  52.,  65.,  78.,  91., 104., 117., 130., 143.,\n",
       "        156., 169.,  nan,  nan,  nan],\n",
       "       [ 14.,  28.,  42.,  56.,  70.,  84.,  98., 112., 126., 140., 154.,\n",
       "        168., 182., 196.,  nan,  nan],\n",
       "       [ 15.,  30.,  45.,  60.,  75.,  90., 105., 120., 135., 150., 165.,\n",
       "        180., 195., 210., 225.,  nan],\n",
       "       [ 16.,  32.,  48.,  64.,  80.,  96., 112., 128., 144., 160., 176.,\n",
       "        192., 208., 224., 240., 256.]])"
      ]
     },
     "execution_count": 82,
     "metadata": {},
     "output_type": "execute_result"
    }
   ],
   "source": [
    "heatmap_arr"
   ]
  },
  {
   "cell_type": "code",
   "execution_count": 83,
   "id": "24da7ef6",
   "metadata": {},
   "outputs": [
    {
     "data": {
      "image/png": "[encoded data removed]",
      "text/plain": [
       "<Figure size 432x288 with 1 Axes>"
      ]
     },
     "metadata": {
      "needs_background": "light"
     },
     "output_type": "display_data"
    }
   ],
   "source": [
    "plt.imshow(heatmap_arr, cmap='hot', interpolation='nearest')\n",
    "plt.yticks(range(16))\n",
    "plt.xticks(range(16))\n",
    "plt.show()"
   ]
  },
  {
   "cell_type": "code",
   "execution_count": 88,
   "id": "e057cefb",
   "metadata": {},
   "outputs": [
    {
     "data": {
      "image/png": "[encoded data removed]",
      "text/plain": [
       "<Figure size 432x288 with 2 Axes>"
      ]
     },
     "metadata": {
      "needs_background": "light"
     },
     "output_type": "display_data"
    }
   ],
   "source": [
    "import seaborn as sns\n",
    "import matplotlib.pylab as plt\n",
    "\n",
    "ax = sns.heatmap(0.05/np.sqrt(heatmap_arr), linewidth=0.5)\n",
    "plt.show()"
   ]
  },
  {
   "cell_type": "code",
   "execution_count": null,
   "id": "54108fd6",
   "metadata": {},
   "outputs": [],
   "source": []
  },
  {
   "cell_type": "code",
   "execution_count": 8,
   "id": "728239d8",
   "metadata": {},
   "outputs": [],
   "source": [
    "trs = wpw_table.find_all('tr')"
   ]
  },
  {
   "cell_type": "code",
   "execution_count": 10,
   "id": "c4f8a116",
   "metadata": {},
   "outputs": [],
   "source": [
    "tds = trs[1].find_all('td')"
   ]
  },
  {
   "cell_type": "code",
   "execution_count": 15,
   "id": "5c73888f",
   "metadata": {},
   "outputs": [
    {
     "data": {
      "text/plain": [
       "'Arizona'"
      ]
     },
     "execution_count": 15,
     "metadata": {},
     "output_type": "execute_result"
    }
   ],
   "source": [
    "tds[0].find('span', {'class':'teamName'}).text"
   ]
  },
  {
   "cell_type": "code",
   "execution_count": 16,
   "id": "f84262e8",
   "metadata": {},
   "outputs": [
    {
     "data": {
      "text/plain": [
       "'97.0%'"
      ]
     },
     "execution_count": 16,
     "metadata": {},
     "output_type": "execute_result"
    }
   ],
   "source": [
    "tds[0].find('span', {'class':'percentage'}).text"
   ]
  },
  {
   "cell_type": "code",
   "execution_count": null,
   "id": "ad8d6ffd",
   "metadata": {},
   "outputs": [],
   "source": []
  }
 ],
 "metadata": {
  "kernelspec": {
   "display_name": "Python 3 (ipykernel)",
   "language": "python",
   "name": "python3"
  },
  "language_info": {
   "codemirror_mode": {
    "name": "ipython",
    "version": 3
   },
   "file_extension": ".py",
   "mimetype": "text/x-python",
   "name": "python",
   "nbconvert_exporter": "python",
   "pygments_lexer": "ipython3",
   "version": "3.9.16"
  }
 },
 "nbformat": 4,
 "nbformat_minor": 5
}
