{
 "cells": [
  {
   "cell_type": "code",
   "execution_count": 2,
   "id": "15670522",
   "metadata": {},
   "outputs": [],
   "source": [
    "## This file uses all generated data, so it needs to be run after the files that use kaggle data"
   ]
  },
  {
   "cell_type": "code",
   "execution_count": 46,
   "id": "2a4e6a0a",
   "metadata": {},
   "outputs": [],
   "source": [
    "import numpy as np\n",
    "import pandas as pd\n",
    "from itertools import combinations\n"
   ]
  },
  {
   "cell_type": "code",
   "execution_count": 35,
   "id": "e0a9a402",
   "metadata": {},
   "outputs": [],
   "source": [
    "data = pd.read_csv('../data/2023/gold_data/gold_data_all.csv')"
   ]
  },
  {
   "cell_type": "code",
   "execution_count": 36,
   "id": "cac1dc4d",
   "metadata": {},
   "outputs": [],
   "source": [
    "id_cols = ['TeamID','team_name','Seed','Season']\n",
    "input_features = [\n",
    " 'is_ap_pre_top_5',\n",
    " 'is_ap_pre_top_15',\n",
    " 'is_ap_pre_top_25',\n",
    " 'wins_cur',\n",
    " 'losses_cur',\n",
    " 'games_cur',\n",
    " 'coach_wl_cur',\n",
    " 'wins_car',\n",
    " 'losses_car',\n",
    " 'games_car',\n",
    " 'coach_wl_car',\n",
    " 'tourneys_car',\n",
    " 'sw16_car',\n",
    " 'ff_car',\n",
    " 'champ_car',\n",
    " 'preseason_pts',\n",
    " 'returning_min_pct',\n",
    " 'returning_score_pct',\n",
    " 'g',\n",
    " 'wins',\n",
    " 'losses',\n",
    " 'win_loss_pct',\n",
    " 'srs',\n",
    " 'sos',\n",
    " 'wins_conf',\n",
    " 'losses_conf',\n",
    " 'wins_home',\n",
    " 'losses_home',\n",
    " 'wins_visitor',\n",
    " 'losses_visitor',\n",
    " 'pts',\n",
    " 'opp_pts',\n",
    " 'mp',\n",
    " 'fg',\n",
    " 'fga',\n",
    " 'fg_pct',\n",
    " 'fg3',\n",
    " 'fg3a',\n",
    " 'fg3_pct',\n",
    " 'ft',\n",
    " 'fta',\n",
    " 'ft_pct',\n",
    " 'orb',\n",
    " 'trb',\n",
    " 'ast',\n",
    " 'stl',\n",
    " 'blk',\n",
    " 'tov',\n",
    " 'pf',\n",
    " 'avg_yr',\n",
    " 'avg_height',\n",
    " 'avg_weight',\n",
    " 'pi_i',\n",
    " 'total_games',\n",
    " 'num_wins',\n",
    " 'num_losses',\n",
    " 'win_pct',\n",
    " 'avg_points_for',\n",
    " 'avg_points_against',\n",
    " 'avg_game_margin',\n",
    " 'std_game_margin',\n",
    " 'non_home_wins',\n",
    " 'home_losses',\n",
    " 'close_wins',\n",
    " 'close_losses',\n",
    " '3FGA_pg',\n",
    " '3FGM_pg',\n",
    " '3_pct',\n",
    " 'FTM_pg',\n",
    " 'FTA_pg',\n",
    " 'FT_pct',\n",
    " 'TOV_pg',\n",
    " 'avg_pace',\n",
    " 'off_eff',\n",
    " 'def_eff',\n",
    " 'pythag_win_pct',\n",
    " 'luck',\n",
    " 'wins_vs_tourney_teams',\n",
    " 'away_wins_vs_tourney_teams',\n",
    " 'losses_vs_tourney_teams',\n",
    " 'losses_vs_non_tourney_teams',\n",
    " 'games_vs_tourney_teams',\n",
    " 'final_net',\n",
    " 'prev_net',\n",
    " 'net_improvement',\n",
    " 'final_pom',\n",
    " 'prev_pom',\n",
    " 'pom_improvement'\n",
    "]"
   ]
  },
  {
   "cell_type": "code",
   "execution_count": 37,
   "id": "c6faad8d",
   "metadata": {},
   "outputs": [],
   "source": [
    "data = data[id_cols+input_features]"
   ]
  },
  {
   "cell_type": "code",
   "execution_count": 38,
   "id": "65fe08fc",
   "metadata": {},
   "outputs": [],
   "source": [
    "tourney_games = pd.read_csv('../data/2023/kaggle_data/MNCAATourneyCompactResults.csv')\n",
    "tourney_games = tourney_games[tourney_games['Season'] >= data['Season'].min()]"
   ]
  },
  {
   "cell_type": "code",
   "execution_count": 40,
   "id": "0e525525",
   "metadata": {},
   "outputs": [],
   "source": [
    "tourney_games = tourney_games.merge(data, left_on=['Season', 'WTeamID'], right_on=['Season', 'TeamID'])\\\n",
    ".merge(data, left_on=['Season', 'LTeamID'], right_on=['Season', 'TeamID'], suffixes=['_w', '_l'])"
   ]
  },
  {
   "cell_type": "code",
   "execution_count": 42,
   "id": "f822ede3",
   "metadata": {},
   "outputs": [],
   "source": [
    "winner_first = tourney_games.copy()\n",
    "winner_first['diff_score'] = winner_first['WScore'] - winner_first['LScore']\n",
    "loser_first = tourney_games.copy()\n",
    "loser_first['diff_score'] = loser_first['LScore'] - winner_first['WScore']\n"
   ]
  },
  {
   "cell_type": "code",
   "execution_count": 44,
   "id": "99ff499b",
   "metadata": {},
   "outputs": [
    {
     "name": "stdout",
     "output_type": "stream",
     "text": [
      "is_ap_pre_top_5\n",
      "is_ap_pre_top_15\n",
      "is_ap_pre_top_25\n"
     ]
    }
   ],
   "source": [
    "for col in input_features:\n",
    "    try:\n",
    "        winner_first['diff_'+col] = winner_first[col+'_w'] - winner_first[col+'_l']\n",
    "        loser_first['diff_'+col] = loser_first[col+'_l'] - loser_first[col+'_w']\n",
    "    except:\n",
    "        print(col)"
   ]
  },
  {
   "cell_type": "code",
   "execution_count": 45,
   "id": "cce60d54",
   "metadata": {},
   "outputs": [],
   "source": [
    "model_data = pd.concat([winner_first,loser_first],ignore_index=True)"
   ]
  },
  {
   "cell_type": "code",
   "execution_count": 137,
   "id": "8a5537f9",
   "metadata": {},
   "outputs": [],
   "source": [
    "model_data.to_csv('data/2023/model_data/matchup_features.csv', index=False)"
   ]
  },
  {
   "cell_type": "markdown",
   "id": "53821c22",
   "metadata": {},
   "source": [
    "## 2023 Matchups"
   ]
  },
  {
   "cell_type": "code",
   "execution_count": 50,
   "id": "2492fcc6",
   "metadata": {},
   "outputs": [],
   "source": [
    "seeds = pd.read_csv(\"data/2023/kaggle_data/MNCAATourneySeeds.csv\")"
   ]
  },
  {
   "cell_type": "code",
   "execution_count": 53,
   "id": "15b2d2aa",
   "metadata": {},
   "outputs": [],
   "source": [
    "curr = seeds[seeds['Season']==2023]\n",
    "\n",
    "# get all two-pair combinations of column 'A' as a list\n",
    "combos = list(combinations(seeds['TeamID'], 2))\n",
    "\n",
    "unique_pairs = set(frozenset(pair) for pair in combos)\n",
    "\n",
    "\n",
    "# create a new dataframe from the combinations list\n",
    "combo_df = pd.DataFrame(unique_pairs, columns=['team1', 'team2'])\n",
    "combo_df = combo_df[combo_df['team1'] != combo_df['team2']]\n",
    "combo_df['Season']=2023"
   ]
  },
  {
   "cell_type": "code",
   "execution_count": 61,
   "id": "bbb2d77e",
   "metadata": {},
   "outputs": [],
   "source": [
    "# 2023 matchups\n",
    "bracket_data = combo_df.merge(data, left_on=['Season', 'team1'], right_on=['Season', 'TeamID'])\\\n",
    ".merge(data, left_on=['Season', 'team2'], right_on=['Season', 'TeamID'], suffixes=['_1', '_2'])"
   ]
  },
  {
   "cell_type": "code",
   "execution_count": 63,
   "id": "bf1bca76",
   "metadata": {},
   "outputs": [],
   "source": [
    "for col in input_features:\n",
    "    bracket_data['diff_'+col] = bracket_data[col+'_1'] - bracket_data[col+'_2']\n",
    "diff_cols = [col for col in bracket_data.columns if 'diff' in col]\n",
    "matchup_cols = ['Season', 'TeamID_1', 'TeamID_2', 'Seed_1', 'Seed_2'] + diff_cols\n",
    "bracket_data = bracket_data[matchup_cols]"
   ]
  },
  {
   "cell_type": "code",
   "execution_count": 65,
   "id": "935aabbf",
   "metadata": {},
   "outputs": [],
   "source": [
    "bracket_data.to_csv('../data/2023/bracket_data/bracket_data.csv', index=False)"
   ]
  }
 ],
 "metadata": {
  "kernelspec": {
   "display_name": "Python 3 (ipykernel)",
   "language": "python",
   "name": "python3"
  },
  "language_info": {
   "codemirror_mode": {
    "name": "ipython",
    "version": 3
   },
   "file_extension": ".py",
   "mimetype": "text/x-python",
   "name": "python",
   "nbconvert_exporter": "python",
   "pygments_lexer": "ipython3",
   "version": "3.10.7"
  }
 },
 "nbformat": 4,
 "nbformat_minor": 5
}
