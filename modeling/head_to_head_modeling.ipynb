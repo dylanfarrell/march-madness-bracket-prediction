{
 "cells": [
  {
   "cell_type": "code",
   "execution_count": 225,
   "id": "decaa805",
   "metadata": {},
   "outputs": [],
   "source": [
    "import pandas as pd\n",
    "import numpy as np\n",
    "from sklearn.model_selection import train_test_split, cross_val_score, cross_val_predict, StratifiedKFold, KFold, RandomizedSearchCV\n",
    "from sklearn.metrics import confusion_matrix\n",
    "from sklearn.linear_model import LogisticRegression, LinearRegression\n",
    "from sklearn.svm import SVC, SVR\n",
    "from sklearn.ensemble import RandomForestRegressor, RandomForestClassifier\n",
    "from xgboost import XGBRegressor, XGBClassifier\n",
    "from sklearn.feature_selection import RFECV\n",
    "from sklearn.metrics import mean_squared_error\n",
    "from sklearn.preprocessing import StandardScaler\n",
    "import matplotlib.pyplot as plt\n",
    "import warnings\n",
    "from sklearn.pipeline import Pipeline\n",
    "from sklearn.metrics import log_loss\n"
   ]
  },
  {
   "cell_type": "markdown",
   "id": "b68d37dd",
   "metadata": {},
   "source": [
    "# 1) Win classifier"
   ]
  },
  {
   "cell_type": "code",
   "execution_count": 226,
   "id": "a899bc07",
   "metadata": {},
   "outputs": [],
   "source": [
    "from hyperopt import fmin, tpe, hp, anneal, Trials\n",
    "from sklearn.compose import ColumnTransformer\n",
    "import joblib\n",
    "from sklearn.impute import SimpleImputer"
   ]
  },
  {
   "cell_type": "code",
   "execution_count": 235,
   "id": "039acfb6",
   "metadata": {},
   "outputs": [],
   "source": [
    "## read in the dataset\n",
    "df = pd.read_csv('../data/2024/model_data/matchup_features.csv')\n",
    "X = df[[x for x in df.columns if x != 'diff_score']]\n",
    "y = df['diff_score']\n",
    "# train_test_split\n",
    "X_train, X_test, y_train, y_test = train_test_split(X, y, test_size=0.10, random_state=42)\n",
    "\n",
    "\n",
    "numerics = [x for x in df.columns if x not in ['diff_score','Season','TeamID_1','TeamID_2','Seed_1','Seed_2'] and 'diff_' in x]\n",
    "\n",
    "numeric_transformer = Pipeline(steps=[\n",
    "    ('imputer', SimpleImputer(strategy='mean')),\n",
    "    ('scaler', StandardScaler())\n",
    "])\n",
    "\n",
    "preprocessor = ColumnTransformer(\n",
    "    [(\"numerics\",numeric_transformer,numerics)]\n",
    ")\n"
   ]
  },
  {
   "cell_type": "code",
   "execution_count": 228,
   "id": "dc5423a2",
   "metadata": {},
   "outputs": [],
   "source": [
    "def gb_mse_cv(params, random_state=42):\n",
    "    \n",
    "    \n",
    "    # the function gets a set of variable parameters in \"param\"\n",
    "    params = {'n_estimators': int(params['n_estimators']), \n",
    "              'max_depth': int(params['max_depth']),\n",
    "              'min_child_weight': params['min_child_weight'],\n",
    "              'subsample': params['subsample'],\n",
    "              'colsample_bytree': params['colsample_bytree'],\n",
    "              'colsample_bynode': params['colsample_bynode'],\n",
    "              'eta': params['eta'],\n",
    "              'gamma': params['gamma'],\n",
    "              'reg_lambda': params['reg_lambda'],\n",
    "              'reg_alpha': params['reg_alpha']             \n",
    "             }\n",
    "    \n",
    "\n",
    "\n",
    "    model = XGBRegressor(random_state=random_state,verbosity=0, **params)    \n",
    "    pipe = Pipeline([('preprocessor', preprocessor), ('model', model)])\n",
    "    \n",
    "    # and then conduct the cross validation with the same folds as before\n",
    "    score = -cross_val_score(pipe, X_train, y_train, cv=KFold(3), scoring=\"neg_root_mean_squared_error\").mean()\n",
    "\n",
    "    return score"
   ]
  },
  {
   "cell_type": "code",
   "execution_count": 229,
   "id": "cd73cfb9",
   "metadata": {},
   "outputs": [
    {
     "name": "stdout",
     "output_type": "stream",
     "text": [
      "100%|██████████| 100/100 [01:45<00:00,  1.05s/trial, best loss: 11.060670366982174]\n",
      "{'colsample_bynode': 0.9499931783470599, 'colsample_bytree': 0.7199191298941757, 'eta': 0.036856341431951815, 'gamma': 0.4798977194094103, 'max_depth': 2.0, 'min_child_weight': 64.0, 'n_estimators': 118.0, 'reg_alpha': 25.70437965964932, 'reg_lambda': 8.646840779113285, 'subsample': 0.5813365999495217}\n"
     ]
    }
   ],
   "source": [
    "# possible values of parameters\n",
    "space={'n_estimators': hp.quniform('n_estimators', 64, 128, 1),\n",
    "       'max_depth' : hp.quniform('max_depth', 1, 15, 1),\n",
    "       'min_child_weight': hp.quniform('min_child_weight', 1, 100, 1),\n",
    "       'subsample': hp.uniform('subsample',0.3,1),\n",
    "       'colsample_bytree': hp.uniform('colsample_bytree',0.3,1),\n",
    "       'colsample_bynode': hp.uniform('colsample_bynode',0.3,1),\n",
    "       'eta': hp.loguniform('eta', -5, -1),\n",
    "       'gamma': hp.uniform('gamma', 0,20),\n",
    "       'reg_lambda': hp.loguniform('reg_lambda',0,7),\n",
    "       'reg_alpha': hp.uniform('reg_alpha',0,100)       \n",
    "      }\n",
    "\n",
    "# trials will contain logging information\n",
    "trials = Trials()\n",
    "\n",
    "best=fmin(fn=gb_mse_cv, # function to optimize\n",
    "          space=space, \n",
    "          algo=tpe.suggest, # optimization algorithm, hyperotp will select its parameters automatically\n",
    "          max_evals=100, # maximum number of iterations\n",
    "          trials=trials, # logging\n",
    "          rstate=np.random.default_rng(42) # fixing random state for the reproducibility\n",
    "         )\n",
    "\n",
    "print(best)"
   ]
  },
  {
   "cell_type": "code",
   "execution_count": 237,
   "id": "a057fceb",
   "metadata": {},
   "outputs": [],
   "source": [
    "xgb_reg = XGBRegressor(\n",
    "    verbosity=0,\n",
    "    colsample_bytree= best['colsample_bytree'],\n",
    "    eta = best['eta'],\n",
    "    gamma = best['gamma'],\n",
    "    max_depth = int(best['max_depth']),\n",
    "    min_child_weight = best['min_child_weight'],\n",
    "    n_estimators = int(best['n_estimators']),\n",
    "    reg_alpha = best['reg_alpha'],\n",
    "    reg_lambda = best['reg_lambda'],\n",
    "    subsample = best['subsample'] \n",
    ")"
   ]
  },
  {
   "cell_type": "code",
   "execution_count": 238,
   "id": "ca93d2fe",
   "metadata": {},
   "outputs": [],
   "source": [
    "reg_pipe = Pipeline([('preprocessor', preprocessor), ('model', xgb_reg)])"
   ]
  },
  {
   "cell_type": "code",
   "execution_count": 239,
   "id": "a76d839c",
   "metadata": {},
   "outputs": [
    {
     "name": "stdout",
     "output_type": "stream",
     "text": [
      "0.45098184894678883\n",
      "0.40198468386822617\n"
     ]
    }
   ],
   "source": [
    "reg_pipe.fit(X_train, y_train)\n",
    "print(reg_pipe.score(X_train,y_train))\n",
    "print(reg_pipe.score(X_test,y_test))"
   ]
  },
  {
   "cell_type": "code",
   "execution_count": null,
   "id": "480bdd2e",
   "metadata": {},
   "outputs": [],
   "source": []
  },
  {
   "cell_type": "code",
   "execution_count": 233,
   "id": "e20e49d4",
   "metadata": {},
   "outputs": [
    {
     "data": {
      "text/html": [
       "<div>\n",
       "<style scoped>\n",
       "    .dataframe tbody tr th:only-of-type {\n",
       "        vertical-align: middle;\n",
       "    }\n",
       "\n",
       "    .dataframe tbody tr th {\n",
       "        vertical-align: top;\n",
       "    }\n",
       "\n",
       "    .dataframe thead th {\n",
       "        text-align: right;\n",
       "    }\n",
       "</style>\n",
       "<table border=\"1\" class=\"dataframe\">\n",
       "  <thead>\n",
       "    <tr style=\"text-align: right;\">\n",
       "      <th></th>\n",
       "      <th>Feature</th>\n",
       "      <th>Importance</th>\n",
       "    </tr>\n",
       "  </thead>\n",
       "  <tbody>\n",
       "    <tr>\n",
       "      <th>59</th>\n",
       "      <td>diff_prev_pom</td>\n",
       "      <td>0.134211</td>\n",
       "    </tr>\n",
       "    <tr>\n",
       "      <th>58</th>\n",
       "      <td>diff_final_pom</td>\n",
       "      <td>0.130888</td>\n",
       "    </tr>\n",
       "    <tr>\n",
       "      <th>25</th>\n",
       "      <td>diff_pi_i</td>\n",
       "      <td>0.084612</td>\n",
       "    </tr>\n",
       "    <tr>\n",
       "      <th>12</th>\n",
       "      <td>diff_sw16_car</td>\n",
       "      <td>0.074774</td>\n",
       "    </tr>\n",
       "    <tr>\n",
       "      <th>56</th>\n",
       "      <td>diff_prev_net</td>\n",
       "      <td>0.046752</td>\n",
       "    </tr>\n",
       "    <tr>\n",
       "      <th>1</th>\n",
       "      <td>diff_is_ap_pre_top_15</td>\n",
       "      <td>0.034826</td>\n",
       "    </tr>\n",
       "    <tr>\n",
       "      <th>55</th>\n",
       "      <td>diff_final_net</td>\n",
       "      <td>0.031603</td>\n",
       "    </tr>\n",
       "    <tr>\n",
       "      <th>15</th>\n",
       "      <td>diff_preseason_pts</td>\n",
       "      <td>0.026398</td>\n",
       "    </tr>\n",
       "    <tr>\n",
       "      <th>10</th>\n",
       "      <td>diff_coach_wl_car</td>\n",
       "      <td>0.024247</td>\n",
       "    </tr>\n",
       "    <tr>\n",
       "      <th>13</th>\n",
       "      <td>diff_ff_car</td>\n",
       "      <td>0.019954</td>\n",
       "    </tr>\n",
       "    <tr>\n",
       "      <th>26</th>\n",
       "      <td>diff_total_games</td>\n",
       "      <td>0.019883</td>\n",
       "    </tr>\n",
       "    <tr>\n",
       "      <th>29</th>\n",
       "      <td>diff_win_pct</td>\n",
       "      <td>0.016526</td>\n",
       "    </tr>\n",
       "    <tr>\n",
       "      <th>6</th>\n",
       "      <td>diff_coach_wl_cur</td>\n",
       "      <td>0.016364</td>\n",
       "    </tr>\n",
       "    <tr>\n",
       "      <th>7</th>\n",
       "      <td>diff_wins_car</td>\n",
       "      <td>0.014857</td>\n",
       "    </tr>\n",
       "    <tr>\n",
       "      <th>54</th>\n",
       "      <td>diff_games_vs_tourney_teams</td>\n",
       "      <td>0.014572</td>\n",
       "    </tr>\n",
       "    <tr>\n",
       "      <th>24</th>\n",
       "      <td>diff_avg_weight</td>\n",
       "      <td>0.013398</td>\n",
       "    </tr>\n",
       "    <tr>\n",
       "      <th>27</th>\n",
       "      <td>diff_num_wins</td>\n",
       "      <td>0.013070</td>\n",
       "    </tr>\n",
       "    <tr>\n",
       "      <th>46</th>\n",
       "      <td>diff_off_eff</td>\n",
       "      <td>0.012631</td>\n",
       "    </tr>\n",
       "    <tr>\n",
       "      <th>31</th>\n",
       "      <td>diff_avg_points_against</td>\n",
       "      <td>0.012562</td>\n",
       "    </tr>\n",
       "    <tr>\n",
       "      <th>20</th>\n",
       "      <td>diff_wins_home</td>\n",
       "      <td>0.012511</td>\n",
       "    </tr>\n",
       "    <tr>\n",
       "      <th>21</th>\n",
       "      <td>diff_losses_home</td>\n",
       "      <td>0.012377</td>\n",
       "    </tr>\n",
       "    <tr>\n",
       "      <th>22</th>\n",
       "      <td>diff_avg_yr</td>\n",
       "      <td>0.012008</td>\n",
       "    </tr>\n",
       "    <tr>\n",
       "      <th>14</th>\n",
       "      <td>diff_champ_car</td>\n",
       "      <td>0.011295</td>\n",
       "    </tr>\n",
       "    <tr>\n",
       "      <th>41</th>\n",
       "      <td>diff_FTM_pg</td>\n",
       "      <td>0.011073</td>\n",
       "    </tr>\n",
       "    <tr>\n",
       "      <th>42</th>\n",
       "      <td>diff_FTA_pg</td>\n",
       "      <td>0.010364</td>\n",
       "    </tr>\n",
       "    <tr>\n",
       "      <th>48</th>\n",
       "      <td>diff_pythag_win_pct</td>\n",
       "      <td>0.009821</td>\n",
       "    </tr>\n",
       "    <tr>\n",
       "      <th>50</th>\n",
       "      <td>diff_wins_vs_tourney_teams</td>\n",
       "      <td>0.009806</td>\n",
       "    </tr>\n",
       "    <tr>\n",
       "      <th>52</th>\n",
       "      <td>diff_losses_vs_tourney_teams</td>\n",
       "      <td>0.009797</td>\n",
       "    </tr>\n",
       "    <tr>\n",
       "      <th>33</th>\n",
       "      <td>diff_std_game_margin</td>\n",
       "      <td>0.009680</td>\n",
       "    </tr>\n",
       "    <tr>\n",
       "      <th>11</th>\n",
       "      <td>diff_tourneys_car</td>\n",
       "      <td>0.009433</td>\n",
       "    </tr>\n",
       "    <tr>\n",
       "      <th>44</th>\n",
       "      <td>diff_TOV_pg</td>\n",
       "      <td>0.009164</td>\n",
       "    </tr>\n",
       "    <tr>\n",
       "      <th>43</th>\n",
       "      <td>diff_FT_pct</td>\n",
       "      <td>0.009154</td>\n",
       "    </tr>\n",
       "    <tr>\n",
       "      <th>23</th>\n",
       "      <td>diff_avg_height</td>\n",
       "      <td>0.009034</td>\n",
       "    </tr>\n",
       "    <tr>\n",
       "      <th>3</th>\n",
       "      <td>diff_wins_cur</td>\n",
       "      <td>0.009017</td>\n",
       "    </tr>\n",
       "    <tr>\n",
       "      <th>4</th>\n",
       "      <td>diff_losses_cur</td>\n",
       "      <td>0.008684</td>\n",
       "    </tr>\n",
       "    <tr>\n",
       "      <th>49</th>\n",
       "      <td>diff_luck</td>\n",
       "      <td>0.008353</td>\n",
       "    </tr>\n",
       "    <tr>\n",
       "      <th>18</th>\n",
       "      <td>diff_wins_conf</td>\n",
       "      <td>0.008320</td>\n",
       "    </tr>\n",
       "    <tr>\n",
       "      <th>16</th>\n",
       "      <td>diff_returning_min_pct</td>\n",
       "      <td>0.007981</td>\n",
       "    </tr>\n",
       "    <tr>\n",
       "      <th>19</th>\n",
       "      <td>diff_losses_conf</td>\n",
       "      <td>0.007797</td>\n",
       "    </tr>\n",
       "    <tr>\n",
       "      <th>45</th>\n",
       "      <td>diff_avg_pace</td>\n",
       "      <td>0.007093</td>\n",
       "    </tr>\n",
       "    <tr>\n",
       "      <th>39</th>\n",
       "      <td>diff_3FGM_pg</td>\n",
       "      <td>0.006936</td>\n",
       "    </tr>\n",
       "    <tr>\n",
       "      <th>60</th>\n",
       "      <td>diff_pom_improvement</td>\n",
       "      <td>0.006725</td>\n",
       "    </tr>\n",
       "    <tr>\n",
       "      <th>5</th>\n",
       "      <td>diff_games_cur</td>\n",
       "      <td>0.006706</td>\n",
       "    </tr>\n",
       "    <tr>\n",
       "      <th>8</th>\n",
       "      <td>diff_losses_car</td>\n",
       "      <td>0.006638</td>\n",
       "    </tr>\n",
       "    <tr>\n",
       "      <th>40</th>\n",
       "      <td>diff_3_pct</td>\n",
       "      <td>0.006541</td>\n",
       "    </tr>\n",
       "    <tr>\n",
       "      <th>30</th>\n",
       "      <td>diff_avg_points_for</td>\n",
       "      <td>0.005986</td>\n",
       "    </tr>\n",
       "    <tr>\n",
       "      <th>34</th>\n",
       "      <td>diff_non_home_wins</td>\n",
       "      <td>0.005909</td>\n",
       "    </tr>\n",
       "    <tr>\n",
       "      <th>17</th>\n",
       "      <td>diff_returning_score_pct</td>\n",
       "      <td>0.005393</td>\n",
       "    </tr>\n",
       "    <tr>\n",
       "      <th>47</th>\n",
       "      <td>diff_def_eff</td>\n",
       "      <td>0.004278</td>\n",
       "    </tr>\n",
       "    <tr>\n",
       "      <th>38</th>\n",
       "      <td>diff_3FGA_pg</td>\n",
       "      <td>0.000000</td>\n",
       "    </tr>\n",
       "    <tr>\n",
       "      <th>37</th>\n",
       "      <td>diff_close_losses</td>\n",
       "      <td>0.000000</td>\n",
       "    </tr>\n",
       "    <tr>\n",
       "      <th>36</th>\n",
       "      <td>diff_close_wins</td>\n",
       "      <td>0.000000</td>\n",
       "    </tr>\n",
       "    <tr>\n",
       "      <th>35</th>\n",
       "      <td>diff_home_losses</td>\n",
       "      <td>0.000000</td>\n",
       "    </tr>\n",
       "    <tr>\n",
       "      <th>51</th>\n",
       "      <td>diff_away_wins_vs_tourney_teams</td>\n",
       "      <td>0.000000</td>\n",
       "    </tr>\n",
       "    <tr>\n",
       "      <th>53</th>\n",
       "      <td>diff_losses_vs_non_tourney_teams</td>\n",
       "      <td>0.000000</td>\n",
       "    </tr>\n",
       "    <tr>\n",
       "      <th>32</th>\n",
       "      <td>diff_avg_game_margin</td>\n",
       "      <td>0.000000</td>\n",
       "    </tr>\n",
       "    <tr>\n",
       "      <th>28</th>\n",
       "      <td>diff_num_losses</td>\n",
       "      <td>0.000000</td>\n",
       "    </tr>\n",
       "    <tr>\n",
       "      <th>57</th>\n",
       "      <td>diff_net_improvement</td>\n",
       "      <td>0.000000</td>\n",
       "    </tr>\n",
       "    <tr>\n",
       "      <th>9</th>\n",
       "      <td>diff_games_car</td>\n",
       "      <td>0.000000</td>\n",
       "    </tr>\n",
       "    <tr>\n",
       "      <th>2</th>\n",
       "      <td>diff_is_ap_pre_top_25</td>\n",
       "      <td>0.000000</td>\n",
       "    </tr>\n",
       "  </tbody>\n",
       "</table>\n",
       "</div>"
      ],
      "text/plain": [
       "                             Feature  Importance\n",
       "59                     diff_prev_pom    0.134211\n",
       "58                    diff_final_pom    0.130888\n",
       "25                         diff_pi_i    0.084612\n",
       "12                     diff_sw16_car    0.074774\n",
       "56                     diff_prev_net    0.046752\n",
       "1              diff_is_ap_pre_top_15    0.034826\n",
       "55                    diff_final_net    0.031603\n",
       "15                diff_preseason_pts    0.026398\n",
       "10                 diff_coach_wl_car    0.024247\n",
       "13                       diff_ff_car    0.019954\n",
       "26                  diff_total_games    0.019883\n",
       "29                      diff_win_pct    0.016526\n",
       "6                  diff_coach_wl_cur    0.016364\n",
       "7                      diff_wins_car    0.014857\n",
       "54       diff_games_vs_tourney_teams    0.014572\n",
       "24                   diff_avg_weight    0.013398\n",
       "27                     diff_num_wins    0.013070\n",
       "46                      diff_off_eff    0.012631\n",
       "31           diff_avg_points_against    0.012562\n",
       "20                    diff_wins_home    0.012511\n",
       "21                  diff_losses_home    0.012377\n",
       "22                       diff_avg_yr    0.012008\n",
       "14                    diff_champ_car    0.011295\n",
       "41                       diff_FTM_pg    0.011073\n",
       "42                       diff_FTA_pg    0.010364\n",
       "48               diff_pythag_win_pct    0.009821\n",
       "50        diff_wins_vs_tourney_teams    0.009806\n",
       "52      diff_losses_vs_tourney_teams    0.009797\n",
       "33              diff_std_game_margin    0.009680\n",
       "11                 diff_tourneys_car    0.009433\n",
       "44                       diff_TOV_pg    0.009164\n",
       "43                       diff_FT_pct    0.009154\n",
       "23                   diff_avg_height    0.009034\n",
       "3                      diff_wins_cur    0.009017\n",
       "4                    diff_losses_cur    0.008684\n",
       "49                         diff_luck    0.008353\n",
       "18                    diff_wins_conf    0.008320\n",
       "16            diff_returning_min_pct    0.007981\n",
       "19                  diff_losses_conf    0.007797\n",
       "45                     diff_avg_pace    0.007093\n",
       "39                      diff_3FGM_pg    0.006936\n",
       "60              diff_pom_improvement    0.006725\n",
       "5                     diff_games_cur    0.006706\n",
       "8                    diff_losses_car    0.006638\n",
       "40                        diff_3_pct    0.006541\n",
       "30               diff_avg_points_for    0.005986\n",
       "34                diff_non_home_wins    0.005909\n",
       "17          diff_returning_score_pct    0.005393\n",
       "47                      diff_def_eff    0.004278\n",
       "38                      diff_3FGA_pg    0.000000\n",
       "37                 diff_close_losses    0.000000\n",
       "36                   diff_close_wins    0.000000\n",
       "35                  diff_home_losses    0.000000\n",
       "51   diff_away_wins_vs_tourney_teams    0.000000\n",
       "53  diff_losses_vs_non_tourney_teams    0.000000\n",
       "32              diff_avg_game_margin    0.000000\n",
       "28                   diff_num_losses    0.000000\n",
       "57              diff_net_improvement    0.000000\n",
       "9                     diff_games_car    0.000000\n",
       "2              diff_is_ap_pre_top_25    0.000000"
      ]
     },
     "execution_count": 233,
     "metadata": {},
     "output_type": "execute_result"
    }
   ],
   "source": [
    "feature_importance_df = pd.DataFrame(zip(numerics,reg_pipe['model'].feature_importances_),columns=['Feature','Importance'])\n",
    "feature_importance_df.sort_values(by='Importance',inplace=True,ascending=False)\n",
    "feature_importance_df.head(60)"
   ]
  },
  {
   "cell_type": "code",
   "execution_count": 240,
   "id": "3e5cf3d5",
   "metadata": {},
   "outputs": [
    {
     "data": {
      "text/plain": [
       "['../models/2024/xgb_spread_pipeline_v01.joblib']"
      ]
     },
     "execution_count": 240,
     "metadata": {},
     "output_type": "execute_result"
    }
   ],
   "source": [
    "joblib.dump(reg_pipe, '../models/2024/xgb_spread_pipeline_v01.joblib')"
   ]
  },
  {
   "cell_type": "markdown",
   "id": "a406043c",
   "metadata": {},
   "source": [
    "# Classifier"
   ]
  },
  {
   "cell_type": "code",
   "execution_count": 222,
   "id": "b9e2f35d",
   "metadata": {},
   "outputs": [],
   "source": [
    "## read in the dataset\n",
    "# df = pd.read_csv('../data/2024/model_data/matchup_features.csv')\n",
    "# X = df[[x for x in df.columns if x != 'diff_score']]\n",
    "# y = df['diff_score'].map(lambda x: int(x>0))\n",
    "# train_test_split\n",
    "# X_train, X_test, y_train, y_test = train_test_split(X, y, test_size=0.10, random_state=42,stratify=y)\n",
    "X_train['pred_diff_score'] = reg_pipe.predict(X_train)\n",
    "X_test['pred_diff_score'] = reg_pipe.predict(X_test)\n",
    "y_train = y_train.map(lambda x: int(x>0))\n",
    "y_test = y_test.map(lambda x: int(x>0))\n",
    "\n",
    "\n",
    "\n",
    "numerics = [x for x in df.columns if x not in ['diff_score','Season','TeamID_1','TeamID_2','Seed_1','Seed_2'] and 'diff_' in x] # and x in ['diff_'+y for y in diff_cols]]\n",
    "# numerics += ['pred_diff_score']\n",
    "\n",
    "numeric_transformer = Pipeline(steps=[\n",
    "    ('imputer', SimpleImputer(strategy='mean')),\n",
    "    ('scaler', StandardScaler())\n",
    "])\n",
    "\n",
    "preprocessor = ColumnTransformer(\n",
    "    [(\"numerics\",numeric_transformer,numerics)]\n",
    ")\n"
   ]
  },
  {
   "cell_type": "code",
   "execution_count": 223,
   "id": "90fd7b74",
   "metadata": {},
   "outputs": [],
   "source": [
    "def gb_mse_cv(params, random_state=42):\n",
    "    \n",
    "    \n",
    "    # the function gets a set of variable parameters in \"param\"\n",
    "    params = {'n_estimators': int(params['n_estimators']), \n",
    "              'max_depth': int(params['max_depth']),\n",
    "              'min_child_weight': params['min_child_weight'],\n",
    "              'subsample': params['subsample'],\n",
    "              'colsample_bytree': params['colsample_bytree'],\n",
    "              'eta': params['eta'],\n",
    "              'gamma': params['gamma'],\n",
    "              'reg_lambda': params['reg_lambda'],\n",
    "              'reg_alpha': params['reg_alpha']             \n",
    "             }\n",
    "    \n",
    "\n",
    "\n",
    "    model = XGBClassifier(random_state=random_state,verbosity=0, **params)    \n",
    "    pipe = Pipeline([('preprocessor', preprocessor), ('model', model)])\n",
    "    \n",
    "    # and then conduct the cross validation with the same folds as before\n",
    "    score = -cross_val_score(pipe, X_train, y_train, cv=StratifiedKFold(3), scoring=\"neg_log_loss\").mean()\n",
    "\n",
    "    return score"
   ]
  },
  {
   "cell_type": "code",
   "execution_count": 224,
   "id": "f0a89f6a",
   "metadata": {},
   "outputs": [
    {
     "name": "stdout",
     "output_type": "stream",
     "text": [
      "100%|██████████| 100/100 [2:18:13<00:00, 82.93s/trial, best loss: 0.5320177801490275]    \n",
      "{'colsample_bytree': 0.8546129973808382, 'eta': 0.0667542673003125, 'gamma': 2.1631001346226353, 'max_depth': 19.0, 'min_child_weight': 18.0, 'n_estimators': 117.0, 'reg_alpha': 4.364779874082793, 'reg_lambda': 6.851539780836213, 'subsample': 0.6000357667820124}\n"
     ]
    }
   ],
   "source": [
    "# possible values of parameters\n",
    "space={'n_estimators': hp.quniform('n_estimators', 64, 128, 1),\n",
    "       'max_depth' : hp.quniform('max_depth', 3, 20, 1),\n",
    "       'min_child_weight': hp.quniform('min_child_weight', 1, 40, 1),\n",
    "       'subsample': hp.uniform('subsample',0.5,1),\n",
    "       'colsample_bytree': hp.uniform('colsample_bytree',0.5,1),\n",
    "       'eta': hp.loguniform('eta', -5, -1),\n",
    "       'gamma': hp.uniform('gamma', 0,20),\n",
    "       'reg_lambda': hp.loguniform('reg_lambda',0,7),\n",
    "       'reg_alpha': hp.uniform('reg_alpha',0,100)       \n",
    "      }\n",
    "\n",
    "# trials will contain logging information\n",
    "trials = Trials()\n",
    "\n",
    "best=fmin(fn=gb_mse_cv, # function to optimize\n",
    "          space=space, \n",
    "          algo=tpe.suggest, # optimization algorithm, hyperotp will select its parameters automatically\n",
    "          max_evals=100, # maximum number of iterations\n",
    "          trials=trials, # logging\n",
    "          rstate=np.random.default_rng(42) # fixing random state for the reproducibility\n",
    "         )\n",
    "\n",
    "print(best)"
   ]
  },
  {
   "cell_type": "code",
   "execution_count": 166,
   "id": "9a4c1b79",
   "metadata": {},
   "outputs": [
    {
     "name": "stdout",
     "output_type": "stream",
     "text": [
      "100%|██████████| 100/100 [01:53<00:00,  1.14s/trial, best loss: 0.5335255262589969]\n",
      "{'colsample_bytree': 0.6794169625830152, 'eta': 0.04957086734749227, 'gamma': 6.81848989096027, 'max_depth': 12.0, 'min_child_weight': 25.0, 'n_estimators': 68.0, 'reg_alpha': 0.23248513873374, 'reg_lambda': 1.8454906535222741, 'subsample': 0.6321096336124826}\n"
     ]
    }
   ],
   "source": [
    "# possible values of parameters\n",
    "space={'n_estimators': hp.quniform('n_estimators', 64, 128, 1),\n",
    "       'max_depth' : hp.quniform('max_depth', 3, 20, 1),\n",
    "       'min_child_weight': hp.quniform('min_child_weight', 1, 40, 1),\n",
    "       'subsample': hp.uniform('subsample',0.5,1),\n",
    "       'colsample_bytree': hp.uniform('colsample_bytree',0.5,1),\n",
    "       'eta': hp.loguniform('eta', -5, -1),\n",
    "       'gamma': hp.uniform('gamma', 0,20),\n",
    "       'reg_lambda': hp.loguniform('reg_lambda',0,7),\n",
    "       'reg_alpha': hp.uniform('reg_alpha',0,100)       \n",
    "      }\n",
    "\n",
    "# trials will contain logging information\n",
    "trials = Trials()\n",
    "\n",
    "best=fmin(fn=gb_mse_cv, # function to optimize\n",
    "          space=space, \n",
    "          algo=tpe.suggest, # optimization algorithm, hyperotp will select its parameters automatically\n",
    "          max_evals=100, # maximum number of iterations\n",
    "          trials=trials, # logging\n",
    "          rstate=np.random.default_rng(42) # fixing random state for the reproducibility\n",
    "         )\n",
    "\n",
    "print(best)"
   ]
  },
  {
   "cell_type": "code",
   "execution_count": 217,
   "id": "1aa89355",
   "metadata": {},
   "outputs": [],
   "source": [
    "xgb_clf = XGBClassifier(\n",
    "    verbosity=0,\n",
    "    colsample_bytree= best['colsample_bytree'],\n",
    "    eta = best['eta'],\n",
    "    gamma = best['gamma'],\n",
    "    max_depth = int(best['max_depth']),\n",
    "    min_child_weight = best['min_child_weight'],\n",
    "    n_estimators = int(best['n_estimators']),\n",
    "    reg_alpha = best['reg_alpha'],\n",
    "    reg_lambda = best['reg_lambda'],\n",
    "    subsample = best['subsample'] \n",
    ")"
   ]
  },
  {
   "cell_type": "code",
   "execution_count": 218,
   "id": "25d85a93",
   "metadata": {},
   "outputs": [],
   "source": [
    "pipe = Pipeline([('preprocessor', preprocessor), ('model', xgb_clf)])"
   ]
  },
  {
   "cell_type": "code",
   "execution_count": 219,
   "id": "68cdf063",
   "metadata": {},
   "outputs": [
    {
     "name": "stdout",
     "output_type": "stream",
     "text": [
      "0.8232135481206113\n",
      "0.7360594795539034\n"
     ]
    }
   ],
   "source": [
    "pipe.fit(X_train, y_train)\n",
    "print(pipe.score(X_train,y_train))\n",
    "print(pipe.score(X_test,y_test))"
   ]
  },
  {
   "cell_type": "code",
   "execution_count": 220,
   "id": "25810cfe",
   "metadata": {},
   "outputs": [
    {
     "name": "stdout",
     "output_type": "stream",
     "text": [
      "0.5301191673252981\n"
     ]
    }
   ],
   "source": [
    "preds_test = pipe.predict_proba(X_test)[:,1]\n",
    "score = log_loss(y_test, preds_test)\n",
    "print(score)"
   ]
  },
  {
   "cell_type": "code",
   "execution_count": 169,
   "id": "a00c66db",
   "metadata": {},
   "outputs": [
    {
     "name": "stdout",
     "output_type": "stream",
     "text": [
      "0.7575382073523338\n",
      "0.758364312267658\n"
     ]
    }
   ],
   "source": [
    "pipe.fit(X_train, y_train)\n",
    "print(pipe.score(X_train,y_train))\n",
    "print(pipe.score(X_test,y_test))"
   ]
  },
  {
   "cell_type": "code",
   "execution_count": 122,
   "id": "70bd981e",
   "metadata": {},
   "outputs": [],
   "source": [
    "# import os\n",
    "# os.makedirs('../models/2024/')\n",
    "# joblib.dump(pipe, '../models/2024/xgb_pipeline_v01.joblib')"
   ]
  },
  {
   "cell_type": "code",
   "execution_count": 221,
   "id": "468ee329",
   "metadata": {},
   "outputs": [
    {
     "data": {
      "text/html": [
       "<div>\n",
       "<style scoped>\n",
       "    .dataframe tbody tr th:only-of-type {\n",
       "        vertical-align: middle;\n",
       "    }\n",
       "\n",
       "    .dataframe tbody tr th {\n",
       "        vertical-align: top;\n",
       "    }\n",
       "\n",
       "    .dataframe thead th {\n",
       "        text-align: right;\n",
       "    }\n",
       "</style>\n",
       "<table border=\"1\" class=\"dataframe\">\n",
       "  <thead>\n",
       "    <tr style=\"text-align: right;\">\n",
       "      <th></th>\n",
       "      <th>Feature</th>\n",
       "      <th>Importance</th>\n",
       "    </tr>\n",
       "  </thead>\n",
       "  <tbody>\n",
       "    <tr>\n",
       "      <th>61</th>\n",
       "      <td>pred_diff_score</td>\n",
       "      <td>0.096997</td>\n",
       "    </tr>\n",
       "    <tr>\n",
       "      <th>58</th>\n",
       "      <td>diff_final_pom</td>\n",
       "      <td>0.089381</td>\n",
       "    </tr>\n",
       "    <tr>\n",
       "      <th>55</th>\n",
       "      <td>diff_final_net</td>\n",
       "      <td>0.049117</td>\n",
       "    </tr>\n",
       "    <tr>\n",
       "      <th>12</th>\n",
       "      <td>diff_sw16_car</td>\n",
       "      <td>0.037000</td>\n",
       "    </tr>\n",
       "    <tr>\n",
       "      <th>25</th>\n",
       "      <td>diff_pi_i</td>\n",
       "      <td>0.035544</td>\n",
       "    </tr>\n",
       "    <tr>\n",
       "      <th>59</th>\n",
       "      <td>diff_prev_pom</td>\n",
       "      <td>0.026784</td>\n",
       "    </tr>\n",
       "    <tr>\n",
       "      <th>14</th>\n",
       "      <td>diff_champ_car</td>\n",
       "      <td>0.020038</td>\n",
       "    </tr>\n",
       "    <tr>\n",
       "      <th>15</th>\n",
       "      <td>diff_preseason_pts</td>\n",
       "      <td>0.019921</td>\n",
       "    </tr>\n",
       "    <tr>\n",
       "      <th>21</th>\n",
       "      <td>diff_losses_home</td>\n",
       "      <td>0.017357</td>\n",
       "    </tr>\n",
       "    <tr>\n",
       "      <th>56</th>\n",
       "      <td>diff_prev_net</td>\n",
       "      <td>0.016280</td>\n",
       "    </tr>\n",
       "    <tr>\n",
       "      <th>11</th>\n",
       "      <td>diff_tourneys_car</td>\n",
       "      <td>0.015118</td>\n",
       "    </tr>\n",
       "    <tr>\n",
       "      <th>18</th>\n",
       "      <td>diff_wins_conf</td>\n",
       "      <td>0.014814</td>\n",
       "    </tr>\n",
       "    <tr>\n",
       "      <th>13</th>\n",
       "      <td>diff_ff_car</td>\n",
       "      <td>0.014677</td>\n",
       "    </tr>\n",
       "    <tr>\n",
       "      <th>60</th>\n",
       "      <td>diff_pom_improvement</td>\n",
       "      <td>0.014182</td>\n",
       "    </tr>\n",
       "    <tr>\n",
       "      <th>57</th>\n",
       "      <td>diff_net_improvement</td>\n",
       "      <td>0.014160</td>\n",
       "    </tr>\n",
       "    <tr>\n",
       "      <th>42</th>\n",
       "      <td>diff_FTA_pg</td>\n",
       "      <td>0.013874</td>\n",
       "    </tr>\n",
       "    <tr>\n",
       "      <th>34</th>\n",
       "      <td>diff_non_home_wins</td>\n",
       "      <td>0.013840</td>\n",
       "    </tr>\n",
       "    <tr>\n",
       "      <th>28</th>\n",
       "      <td>diff_num_losses</td>\n",
       "      <td>0.013255</td>\n",
       "    </tr>\n",
       "    <tr>\n",
       "      <th>19</th>\n",
       "      <td>diff_losses_conf</td>\n",
       "      <td>0.013196</td>\n",
       "    </tr>\n",
       "    <tr>\n",
       "      <th>3</th>\n",
       "      <td>diff_wins_cur</td>\n",
       "      <td>0.013118</td>\n",
       "    </tr>\n",
       "    <tr>\n",
       "      <th>16</th>\n",
       "      <td>diff_returning_min_pct</td>\n",
       "      <td>0.012944</td>\n",
       "    </tr>\n",
       "    <tr>\n",
       "      <th>32</th>\n",
       "      <td>diff_avg_game_margin</td>\n",
       "      <td>0.012677</td>\n",
       "    </tr>\n",
       "    <tr>\n",
       "      <th>50</th>\n",
       "      <td>diff_wins_vs_tourney_teams</td>\n",
       "      <td>0.012629</td>\n",
       "    </tr>\n",
       "    <tr>\n",
       "      <th>44</th>\n",
       "      <td>diff_TOV_pg</td>\n",
       "      <td>0.012517</td>\n",
       "    </tr>\n",
       "    <tr>\n",
       "      <th>53</th>\n",
       "      <td>diff_losses_vs_non_tourney_teams</td>\n",
       "      <td>0.012508</td>\n",
       "    </tr>\n",
       "    <tr>\n",
       "      <th>10</th>\n",
       "      <td>diff_coach_wl_car</td>\n",
       "      <td>0.012501</td>\n",
       "    </tr>\n",
       "    <tr>\n",
       "      <th>23</th>\n",
       "      <td>diff_avg_height</td>\n",
       "      <td>0.012371</td>\n",
       "    </tr>\n",
       "    <tr>\n",
       "      <th>22</th>\n",
       "      <td>diff_avg_yr</td>\n",
       "      <td>0.012315</td>\n",
       "    </tr>\n",
       "    <tr>\n",
       "      <th>37</th>\n",
       "      <td>diff_close_losses</td>\n",
       "      <td>0.012281</td>\n",
       "    </tr>\n",
       "    <tr>\n",
       "      <th>4</th>\n",
       "      <td>diff_losses_cur</td>\n",
       "      <td>0.012174</td>\n",
       "    </tr>\n",
       "    <tr>\n",
       "      <th>49</th>\n",
       "      <td>diff_luck</td>\n",
       "      <td>0.012102</td>\n",
       "    </tr>\n",
       "    <tr>\n",
       "      <th>17</th>\n",
       "      <td>diff_returning_score_pct</td>\n",
       "      <td>0.012031</td>\n",
       "    </tr>\n",
       "    <tr>\n",
       "      <th>6</th>\n",
       "      <td>diff_coach_wl_cur</td>\n",
       "      <td>0.012011</td>\n",
       "    </tr>\n",
       "    <tr>\n",
       "      <th>29</th>\n",
       "      <td>diff_win_pct</td>\n",
       "      <td>0.011883</td>\n",
       "    </tr>\n",
       "    <tr>\n",
       "      <th>33</th>\n",
       "      <td>diff_std_game_margin</td>\n",
       "      <td>0.011764</td>\n",
       "    </tr>\n",
       "    <tr>\n",
       "      <th>43</th>\n",
       "      <td>diff_FT_pct</td>\n",
       "      <td>0.011754</td>\n",
       "    </tr>\n",
       "    <tr>\n",
       "      <th>52</th>\n",
       "      <td>diff_losses_vs_tourney_teams</td>\n",
       "      <td>0.011722</td>\n",
       "    </tr>\n",
       "    <tr>\n",
       "      <th>8</th>\n",
       "      <td>diff_losses_car</td>\n",
       "      <td>0.011650</td>\n",
       "    </tr>\n",
       "    <tr>\n",
       "      <th>41</th>\n",
       "      <td>diff_FTM_pg</td>\n",
       "      <td>0.011598</td>\n",
       "    </tr>\n",
       "    <tr>\n",
       "      <th>40</th>\n",
       "      <td>diff_3_pct</td>\n",
       "      <td>0.011556</td>\n",
       "    </tr>\n",
       "    <tr>\n",
       "      <th>31</th>\n",
       "      <td>diff_avg_points_against</td>\n",
       "      <td>0.011456</td>\n",
       "    </tr>\n",
       "    <tr>\n",
       "      <th>39</th>\n",
       "      <td>diff_3FGM_pg</td>\n",
       "      <td>0.011361</td>\n",
       "    </tr>\n",
       "    <tr>\n",
       "      <th>51</th>\n",
       "      <td>diff_away_wins_vs_tourney_teams</td>\n",
       "      <td>0.011359</td>\n",
       "    </tr>\n",
       "    <tr>\n",
       "      <th>48</th>\n",
       "      <td>diff_pythag_win_pct</td>\n",
       "      <td>0.011316</td>\n",
       "    </tr>\n",
       "    <tr>\n",
       "      <th>26</th>\n",
       "      <td>diff_total_games</td>\n",
       "      <td>0.011282</td>\n",
       "    </tr>\n",
       "    <tr>\n",
       "      <th>7</th>\n",
       "      <td>diff_wins_car</td>\n",
       "      <td>0.011264</td>\n",
       "    </tr>\n",
       "    <tr>\n",
       "      <th>5</th>\n",
       "      <td>diff_games_cur</td>\n",
       "      <td>0.011263</td>\n",
       "    </tr>\n",
       "    <tr>\n",
       "      <th>9</th>\n",
       "      <td>diff_games_car</td>\n",
       "      <td>0.011183</td>\n",
       "    </tr>\n",
       "    <tr>\n",
       "      <th>24</th>\n",
       "      <td>diff_avg_weight</td>\n",
       "      <td>0.011076</td>\n",
       "    </tr>\n",
       "    <tr>\n",
       "      <th>27</th>\n",
       "      <td>diff_num_wins</td>\n",
       "      <td>0.011027</td>\n",
       "    </tr>\n",
       "    <tr>\n",
       "      <th>36</th>\n",
       "      <td>diff_close_wins</td>\n",
       "      <td>0.010992</td>\n",
       "    </tr>\n",
       "    <tr>\n",
       "      <th>30</th>\n",
       "      <td>diff_avg_points_for</td>\n",
       "      <td>0.010889</td>\n",
       "    </tr>\n",
       "    <tr>\n",
       "      <th>47</th>\n",
       "      <td>diff_def_eff</td>\n",
       "      <td>0.010870</td>\n",
       "    </tr>\n",
       "    <tr>\n",
       "      <th>45</th>\n",
       "      <td>diff_avg_pace</td>\n",
       "      <td>0.010813</td>\n",
       "    </tr>\n",
       "    <tr>\n",
       "      <th>54</th>\n",
       "      <td>diff_games_vs_tourney_teams</td>\n",
       "      <td>0.010767</td>\n",
       "    </tr>\n",
       "    <tr>\n",
       "      <th>20</th>\n",
       "      <td>diff_wins_home</td>\n",
       "      <td>0.010528</td>\n",
       "    </tr>\n",
       "    <tr>\n",
       "      <th>38</th>\n",
       "      <td>diff_3FGA_pg</td>\n",
       "      <td>0.010478</td>\n",
       "    </tr>\n",
       "    <tr>\n",
       "      <th>35</th>\n",
       "      <td>diff_home_losses</td>\n",
       "      <td>0.010235</td>\n",
       "    </tr>\n",
       "    <tr>\n",
       "      <th>46</th>\n",
       "      <td>diff_off_eff</td>\n",
       "      <td>0.010200</td>\n",
       "    </tr>\n",
       "    <tr>\n",
       "      <th>1</th>\n",
       "      <td>diff_is_ap_pre_top_15</td>\n",
       "      <td>0.000000</td>\n",
       "    </tr>\n",
       "  </tbody>\n",
       "</table>\n",
       "</div>"
      ],
      "text/plain": [
       "                             Feature  Importance\n",
       "61                   pred_diff_score    0.096997\n",
       "58                    diff_final_pom    0.089381\n",
       "55                    diff_final_net    0.049117\n",
       "12                     diff_sw16_car    0.037000\n",
       "25                         diff_pi_i    0.035544\n",
       "59                     diff_prev_pom    0.026784\n",
       "14                    diff_champ_car    0.020038\n",
       "15                diff_preseason_pts    0.019921\n",
       "21                  diff_losses_home    0.017357\n",
       "56                     diff_prev_net    0.016280\n",
       "11                 diff_tourneys_car    0.015118\n",
       "18                    diff_wins_conf    0.014814\n",
       "13                       diff_ff_car    0.014677\n",
       "60              diff_pom_improvement    0.014182\n",
       "57              diff_net_improvement    0.014160\n",
       "42                       diff_FTA_pg    0.013874\n",
       "34                diff_non_home_wins    0.013840\n",
       "28                   diff_num_losses    0.013255\n",
       "19                  diff_losses_conf    0.013196\n",
       "3                      diff_wins_cur    0.013118\n",
       "16            diff_returning_min_pct    0.012944\n",
       "32              diff_avg_game_margin    0.012677\n",
       "50        diff_wins_vs_tourney_teams    0.012629\n",
       "44                       diff_TOV_pg    0.012517\n",
       "53  diff_losses_vs_non_tourney_teams    0.012508\n",
       "10                 diff_coach_wl_car    0.012501\n",
       "23                   diff_avg_height    0.012371\n",
       "22                       diff_avg_yr    0.012315\n",
       "37                 diff_close_losses    0.012281\n",
       "4                    diff_losses_cur    0.012174\n",
       "49                         diff_luck    0.012102\n",
       "17          diff_returning_score_pct    0.012031\n",
       "6                  diff_coach_wl_cur    0.012011\n",
       "29                      diff_win_pct    0.011883\n",
       "33              diff_std_game_margin    0.011764\n",
       "43                       diff_FT_pct    0.011754\n",
       "52      diff_losses_vs_tourney_teams    0.011722\n",
       "8                    diff_losses_car    0.011650\n",
       "41                       diff_FTM_pg    0.011598\n",
       "40                        diff_3_pct    0.011556\n",
       "31           diff_avg_points_against    0.011456\n",
       "39                      diff_3FGM_pg    0.011361\n",
       "51   diff_away_wins_vs_tourney_teams    0.011359\n",
       "48               diff_pythag_win_pct    0.011316\n",
       "26                  diff_total_games    0.011282\n",
       "7                      diff_wins_car    0.011264\n",
       "5                     diff_games_cur    0.011263\n",
       "9                     diff_games_car    0.011183\n",
       "24                   diff_avg_weight    0.011076\n",
       "27                     diff_num_wins    0.011027\n",
       "36                   diff_close_wins    0.010992\n",
       "30               diff_avg_points_for    0.010889\n",
       "47                      diff_def_eff    0.010870\n",
       "45                     diff_avg_pace    0.010813\n",
       "54       diff_games_vs_tourney_teams    0.010767\n",
       "20                    diff_wins_home    0.010528\n",
       "38                      diff_3FGA_pg    0.010478\n",
       "35                  diff_home_losses    0.010235\n",
       "46                      diff_off_eff    0.010200\n",
       "1              diff_is_ap_pre_top_15    0.000000"
      ]
     },
     "execution_count": 221,
     "metadata": {},
     "output_type": "execute_result"
    }
   ],
   "source": [
    "feature_importance_df = pd.DataFrame(zip(numerics,pipe['model'].feature_importances_),columns=['Feature','Importance'])\n",
    "feature_importance_df.sort_values(by='Importance',inplace=True,ascending=False)\n",
    "feature_importance_df.head(60)"
   ]
  },
  {
   "cell_type": "code",
   "execution_count": 175,
   "id": "371ffa61",
   "metadata": {},
   "outputs": [],
   "source": [
    "feature_importance_df.to_csv('../data/2024/model_data/2024_feature_importance.csv',index=False)"
   ]
  },
  {
   "cell_type": "markdown",
   "id": "1b2b9df0",
   "metadata": {},
   "source": [
    "# 2) Score differential predictor"
   ]
  },
  {
   "cell_type": "markdown",
   "id": "f1fdba50",
   "metadata": {},
   "source": [
    "## 2a) Picking a model"
   ]
  },
  {
   "cell_type": "code",
   "execution_count": 339,
   "id": "39432d26",
   "metadata": {},
   "outputs": [
    {
     "name": "stdout",
     "output_type": "stream",
     "text": [
      "Optimal number of features : 8\n"
     ]
    },
    {
     "data": {
      "image/png": "[encoded data removed]",
      "text/plain": [
       "<Figure size 432x288 with 1 Axes>"
      ]
     },
     "metadata": {
      "needs_background": "light"
     },
     "output_type": "display_data"
    }
   ],
   "source": [
    "# linear regression\n",
    "lin_reg = LinearRegression()\n",
    "lin_rfecv = RFECV(estimator=lin_reg,step=1,cv=2,scoring='neg_mean_squared_error',\n",
    "             min_features_to_select=min_features_to_select)\n",
    "\n",
    "lin_rfecv.fit(X_train, y_train_dif)\n",
    "print(\"Optimal number of features : %d\" % lin_rfecv.n_features_)\n",
    "\n",
    "# Plot number of features VS. cross-validation scores\n",
    "plt.figure()\n",
    "plt.xlabel(\"Number of features selected\")\n",
    "plt.ylabel(\"Cross validation score (neg_mean_squared_error)\")\n",
    "plt.plot(\n",
    "    range(min_features_to_select, len(lin_rfecv.grid_scores_) + min_features_to_select),\n",
    "    lin_rfecv.grid_scores_,\n",
    ")\n",
    "plt.show()\n",
    "\n",
    "# scores = cross_val_score(lin_reg, X, y_dif, scoring=\"neg_mean_squared_error\", cv=5)\n",
    "# rmse_scores = np.sqrt(-scores)\n",
    "# print('Mean: ',rmse_scores.mean())\n",
    "# print('Std: ',rmse_scores.std())"
   ]
  },
  {
   "cell_type": "code",
   "execution_count": 354,
   "id": "e0cc3d0c",
   "metadata": {},
   "outputs": [
    {
     "name": "stdout",
     "output_type": "stream",
     "text": [
      "0.42335638882565674\n",
      "11.010604028646712\n",
      "['diff_avg_points_for' 'diff_avg_points_against' 'diff_avg_game_margin'\n",
      " 'diff_pythag_win_pct' 'diff_final_pom' 'diff_pi_i' 'diff_tourneys_car'\n",
      " 'diff_sw16_car']\n"
     ]
    }
   ],
   "source": [
    "selected_features = np.ma.compressed(np.ma.masked_array(X.columns,np.invert(lin_rfecv.support_)))\n",
    "\n",
    "lin_reg = LinearRegression()\n",
    "lin_reg.fit(X_train[selected_features], y_train_dif)\n",
    "print(lin_reg.score(X_train[selected_features],y_train_dif))\n",
    "print(mean_squared_error(y_train_dif,lin_reg.predict(X_train[selected_features]))**0.5)\n",
    "print(selected_features)"
   ]
  },
  {
   "cell_type": "code",
   "execution_count": 343,
   "id": "3267416b",
   "metadata": {},
   "outputs": [
    {
     "data": {
      "text/plain": [
       "array([-4.28003549,  3.10428375,  5.78067235, -2.35445505, -5.81775989,\n",
       "        3.09784647, -2.56496173,  3.99163977])"
      ]
     },
     "execution_count": 343,
     "metadata": {},
     "output_type": "execute_result"
    }
   ],
   "source": [
    "lin_reg.coef_"
   ]
  },
  {
   "cell_type": "code",
   "execution_count": null,
   "id": "96ac71bd",
   "metadata": {},
   "outputs": [],
   "source": []
  },
  {
   "cell_type": "code",
   "execution_count": 347,
   "id": "f6e11c5a",
   "metadata": {},
   "outputs": [
    {
     "name": "stdout",
     "output_type": "stream",
     "text": [
      "Optimal number of features : 8\n"
     ]
    },
    {
     "data": {
      "image/png": "[encoded data removed]",
      "text/plain": [
       "<Figure size 432x288 with 1 Axes>"
      ]
     },
     "metadata": {
      "needs_background": "light"
     },
     "output_type": "display_data"
    }
   ],
   "source": [
    "# support vector machine\n",
    "svr_reg = SVR(kernel='linear')\n",
    "\n",
    "svr_rfecv = RFECV(estimator=svr_reg,step=1,cv=2,scoring='neg_mean_squared_error',\n",
    "             min_features_to_select=min_features_to_select)\n",
    "\n",
    "svr_rfecv.fit(X_train, y_train_dif)\n",
    "print(\"Optimal number of features : %d\" % svr_rfecv.n_features_)\n",
    "\n",
    "# Plot number of features VS. cross-validation scores\n",
    "plt.figure()\n",
    "plt.xlabel(\"Number of features selected\")\n",
    "plt.ylabel(\"Cross validation score (neg_mean_squared_error)\")\n",
    "plt.plot(\n",
    "    range(min_features_to_select, len(svr_rfecv.grid_scores_) + min_features_to_select),\n",
    "    svr_rfecv.grid_scores_,\n",
    ")\n",
    "plt.show()\n",
    "\n",
    "# scores = cross_val_score(svr_reg, X, y_dif, scoring=\"neg_mean_squared_error\", cv=5)\n",
    "# rmse_scores = np.sqrt(-scores)\n",
    "# print('Mean: ',rmse_scores.mean())\n",
    "# print('Std: ',rmse_scores.std())"
   ]
  },
  {
   "cell_type": "code",
   "execution_count": 355,
   "id": "6fe23e4a",
   "metadata": {},
   "outputs": [
    {
     "name": "stdout",
     "output_type": "stream",
     "text": [
      "0.4236488031222455\n",
      "11.007811952013084\n",
      "['diff_avg_game_margin' 'diff_pythag_win_pct' 'diff_final_net'\n",
      " 'diff_final_pom' 'diff_pi_i' 'diff_coach_WL_car' 'diff_tourneys_car'\n",
      " 'diff_sw16_car']\n"
     ]
    }
   ],
   "source": [
    "selected_features = np.ma.compressed(np.ma.masked_array(X.columns,np.invert(svr_rfecv.support_)))\n",
    "\n",
    "svr_reg = SVR(kernel='linear')\n",
    "svr_reg.fit(X_train[selected_features], y_train_dif)\n",
    "print(svr_reg.score(X_train[selected_features],y_train_dif))\n",
    "print(mean_squared_error(y_train_dif,svr_reg.predict(X_train[selected_features]))**0.5)\n",
    "print(selected_features)"
   ]
  },
  {
   "cell_type": "code",
   "execution_count": 358,
   "id": "181fc626",
   "metadata": {},
   "outputs": [
    {
     "name": "stdout",
     "output_type": "stream",
     "text": [
      "Optimal number of features : 25\n"
     ]
    },
    {
     "data": {
      "image/png": "[encoded data removed]",
      "text/plain": [
       "<Figure size 432x288 with 1 Axes>"
      ]
     },
     "metadata": {
      "needs_background": "light"
     },
     "output_type": "display_data"
    }
   ],
   "source": [
    "# random forest\n",
    "forest_reg = RandomForestRegressor()\n",
    "forest_rfecv = RFECV(estimator=forest_reg,step=1,cv=2,scoring='neg_mean_squared_error',\n",
    "             min_features_to_select=min_features_to_select)\n",
    "\n",
    "forest_rfecv.fit(X_train, y_train_dif)\n",
    "print(\"Optimal number of features : %d\" % forest_rfecv.n_features_)\n",
    "\n",
    "# Plot number of features VS. cross-validation scores\n",
    "plt.figure()\n",
    "plt.xlabel(\"Number of features selected\")\n",
    "plt.ylabel(\"Cross validation score (neg_mean_squared_error)\")\n",
    "plt.plot(\n",
    "    range(min_features_to_select, len(forest_rfecv.grid_scores_) + min_features_to_select),\n",
    "    forest_rfecv.grid_scores_,\n",
    ")\n",
    "plt.show()\n",
    "# scores = cross_val_score(forest_reg, X, y_dif, scoring=\"neg_mean_squared_error\", cv=5)\n",
    "# rmse_scores = np.sqrt(-scores)\n",
    "# print('Mean: ',rmse_scores.mean())\n",
    "# print('Std: ',rmse_scores.std())"
   ]
  },
  {
   "cell_type": "code",
   "execution_count": 362,
   "id": "5e3848ef",
   "metadata": {},
   "outputs": [
    {
     "name": "stdout",
     "output_type": "stream",
     "text": [
      "0.9090238011083311\n",
      "4.373421099730032\n",
      "['diff_win_pct' 'diff_avg_points_for' 'diff_avg_points_against'\n",
      " 'diff_avg_game_margin' 'diff_std_game_margin' 'diff_close_wins'\n",
      " 'diff_3FGA_pg' 'diff_3_pct' 'diff_FTA_pg' 'diff_FT_pct' 'diff_TOV_pg'\n",
      " 'diff_avg_pace' 'diff_off_eff' 'diff_def_eff' 'diff_pythag_win_pct'\n",
      " 'diff_luck' 'diff_games_vs_tourney_teams' 'diff_final_net'\n",
      " 'diff_net_improvement' 'diff_final_pom' 'diff_pom_improvement'\n",
      " 'diff_pi_i' 'diff_coach_WL_car' 'diff_tourneys_car' 'diff_sw16_car']\n"
     ]
    }
   ],
   "source": [
    "selected_features = np.ma.compressed(np.ma.masked_array(X.columns,np.invert(forest_rfecv.support_)))\n",
    "\n",
    "forest_reg = RandomForestRegressor()\n",
    "forest_reg.fit(X_train[selected_features], y_train_dif)\n",
    "print(forest_reg.score(X_train[selected_features],y_train_dif))\n",
    "print(mean_squared_error(y_train_dif,forest_reg.predict(X_train[selected_features]))**0.5)\n",
    "print(selected_features)"
   ]
  },
  {
   "cell_type": "code",
   "execution_count": 361,
   "id": "04133ebe",
   "metadata": {},
   "outputs": [
    {
     "name": "stdout",
     "output_type": "stream",
     "text": [
      "Optimal number of features : 23\n"
     ]
    },
    {
     "data": {
      "image/png": "[encoded data removed]",
      "text/plain": [
       "<Figure size 432x288 with 1 Axes>"
      ]
     },
     "metadata": {
      "needs_background": "light"
     },
     "output_type": "display_data"
    }
   ],
   "source": [
    "# xgboost\n",
    "xgb_reg = XGBRegressor()\n",
    "xgb_rfecv = RFECV(estimator=xgb_reg,step=1,cv=2,scoring='neg_mean_squared_error',\n",
    "             min_features_to_select=min_features_to_select)\n",
    "\n",
    "xgb_rfecv.fit(X_train, y_train_dif)\n",
    "print(\"Optimal number of features : %d\" % xgb_rfecv.n_features_)\n",
    "\n",
    "# Plot number of features VS. cross-validation scores\n",
    "plt.figure()\n",
    "plt.xlabel(\"Number of features selected\")\n",
    "plt.ylabel(\"Cross validation score (neg_mean_squared_error)\")\n",
    "plt.plot(\n",
    "    range(min_features_to_select, len(xgb_rfecv.grid_scores_) + min_features_to_select),\n",
    "    xgb_rfecv.grid_scores_,\n",
    ")\n",
    "plt.show()\n",
    "# scores = cross_val_score(forest_reg, X, y_dif, scoring=\"neg_mean_squared_error\", cv=5)\n",
    "# rmse_scores = np.sqrt(-scores)\n",
    "# print('Mean: ',rmse_scores.mean())\n",
    "# print('Std: ',rmse_scores.std())"
   ]
  },
  {
   "cell_type": "code",
   "execution_count": 363,
   "id": "0693e55d",
   "metadata": {},
   "outputs": [
    {
     "name": "stdout",
     "output_type": "stream",
     "text": [
      "0.9987993102498075\n",
      "0.502426807735927\n",
      "['diff_FTA_pg' 'diff_FT_pct' 'diff_TOV_pg' 'diff_avg_pace' 'diff_off_eff'\n",
      " 'diff_def_eff' 'diff_pythag_win_pct' 'diff_luck'\n",
      " 'diff_wins_vs_tourney_teams' 'diff_away_wins_vs_tourney_teams'\n",
      " 'diff_losses_vs_tourney_teams' 'diff_losses_vs_non_tourney_teams'\n",
      " 'diff_games_vs_tourney_teams' 'diff_final_net' 'diff_net_improvement'\n",
      " 'diff_final_pom' 'diff_pom_improvement' 'diff_pi_i' 'diff_coach_WL_car'\n",
      " 'diff_tourneys_car' 'diff_sw16_car' 'diff_ff_car' 'diff_champ_car']\n"
     ]
    }
   ],
   "source": [
    "selected_features = np.ma.compressed(np.ma.masked_array(X.columns,np.invert(xgb_rfecv.support_)))\n",
    "\n",
    "xgb_reg = XGBRegressor()\n",
    "xgb_reg.fit(X_train[selected_features], y_train_dif)\n",
    "print(xgb_reg.score(X_train[selected_features],y_train_dif))\n",
    "print(mean_squared_error(y_train_dif,xgb_reg.predict(X_train[selected_features]))**0.5)\n",
    "print(selected_features)"
   ]
  },
  {
   "cell_type": "code",
   "execution_count": 92,
   "id": "24566a8c",
   "metadata": {},
   "outputs": [],
   "source": [
    "from matplotlib.pyplot import figure\n",
    "\n"
   ]
  },
  {
   "cell_type": "code",
   "execution_count": 366,
   "id": "5ddb7baf",
   "metadata": {},
   "outputs": [
    {
     "data": {
      "text/plain": [
       "<BarContainer object of 23 artists>"
      ]
     },
     "execution_count": 366,
     "metadata": {},
     "output_type": "execute_result"
    },
    {
     "data": {
      "image/png": "[encoded data removed]",
      "text/plain": [
       "<Figure size 576x720 with 1 Axes>"
      ]
     },
     "metadata": {
      "needs_background": "light"
     },
     "output_type": "display_data"
    }
   ],
   "source": [
    "figure(figsize=(8, 10))\n",
    "plt.barh(selected_features, xgb_reg.feature_importances_)"
   ]
  },
  {
   "cell_type": "markdown",
   "id": "415bebb7",
   "metadata": {},
   "source": [
    "## 2b) Fine tuning"
   ]
  },
  {
   "cell_type": "code",
   "execution_count": 367,
   "id": "c23eefa1",
   "metadata": {},
   "outputs": [],
   "source": [
    "features = np.ma.compressed(np.ma.masked_array(X.columns,np.invert(lin_rfecv.support_)))"
   ]
  },
  {
   "cell_type": "code",
   "execution_count": 443,
   "id": "e2228da1",
   "metadata": {},
   "outputs": [
    {
     "data": {
      "text/plain": [
       "array(['diff_final_pom', 'diff_pi_i', 'diff_tourneys_car',\n",
       "       'diff_sw16_car', 'diff_returning_min_pct',\n",
       "       'diff_returning_score_pct'], dtype=object)"
      ]
     },
     "execution_count": 443,
     "metadata": {},
     "output_type": "execute_result"
    }
   ],
   "source": [
    "features"
   ]
  },
  {
   "cell_type": "code",
   "execution_count": null,
   "id": "7a3ce269",
   "metadata": {},
   "outputs": [],
   "source": [
    "xgb_clf"
   ]
  },
  {
   "cell_type": "code",
   "execution_count": 334,
   "id": "94e0ff79",
   "metadata": {},
   "outputs": [],
   "source": [
    "from hyperopt import fmin, tpe, hp, anneal, Trials"
   ]
  },
  {
   "cell_type": "code",
   "execution_count": 373,
   "id": "c661117e",
   "metadata": {},
   "outputs": [],
   "source": [
    "def gb_mse_cv(params, random_state=42, cv=2, X=X_train[features], y=y_train_dif):\n",
    "    # the function gets a set of variable parameters in \"param\"\n",
    "    params = {'n_estimators': int(params['n_estimators']), \n",
    "              'max_depth': int(params['max_depth']),\n",
    "              'min_child_weight': params['min_child_weight'],\n",
    "              'subsample': params['subsample'],\n",
    "              'colsample_bytree': params['colsample_bytree'],\n",
    "              'eta': params['eta'],\n",
    "              'gamma': params['gamma'],\n",
    "              'reg_lambda': params['reg_lambda'],\n",
    "              'reg_alpha': params['reg_alpha']             \n",
    "             }\n",
    "    \n",
    "    # we use this params to create a new LGBM Regressor\n",
    "    model = XGBRegressor(random_state=random_state, **params)\n",
    "    \n",
    "    # and then conduct the cross validation with the same folds as before\n",
    "    score = -cross_val_score(model, X, y, cv=cv, scoring=\"neg_mean_squared_error\").mean()\n",
    "\n",
    "    return score"
   ]
  },
  {
   "cell_type": "code",
   "execution_count": 374,
   "id": "fb39af86",
   "metadata": {},
   "outputs": [
    {
     "name": "stdout",
     "output_type": "stream",
     "text": [
      "100%|██████████| 100/100 [03:20<00:00,  2.00s/trial, best loss: 127.37956349673848]\n",
      "{'colsample_bytree': 0.6087692944626087, 'eta': 0.009590545956371677, 'gamma': 13.089787354669978, 'max_depth': 2.0, 'min_child_weight': 16.0, 'n_estimators': 1206.0, 'reg_alpha': 94.95574656425667, 'reg_lambda': 8.074716967351131, 'subsample': 0.7920757818969743}\n"
     ]
    }
   ],
   "source": [
    "random_state=42\n",
    "\n",
    "# possible values of parameters\n",
    "space={'n_estimators': hp.quniform('n_estimators', 100, 2000, 1),\n",
    "       'max_depth' : hp.quniform('max_depth', 2, 15, 1),\n",
    "       'min_child_weight': hp.quniform('min_child_weight', 1, 20, 1),\n",
    "       'subsample': hp.uniform('subsample',0.5,1),\n",
    "       'colsample_bytree': hp.uniform('colsample_bytree',0.5,1),\n",
    "       'eta': hp.loguniform('eta', -5, -1),\n",
    "       'gamma': hp.uniform('gamma', 0,20),\n",
    "       'reg_lambda': hp.loguniform('reg_lambda',0,7),\n",
    "       'reg_alpha': hp.uniform('reg_alpha',0,100)       \n",
    "      }\n",
    "\n",
    "# trials will contain logging information\n",
    "trials = Trials()\n",
    "\n",
    "best=fmin(fn=gb_mse_cv, # function to optimize\n",
    "          space=space, \n",
    "          algo=tpe.suggest, # optimization algorithm, hyperotp will select its parameters automatically\n",
    "          max_evals=100, # maximum number of iterations\n",
    "          trials=trials, # logging\n",
    "          rstate=np.random.default_rng(42) # fixing random state for the reproducibility\n",
    "         )\n",
    "\n",
    "print(best)\n",
    "# # computing the score on the training set\n",
    "# model = LGBMRegressor(random_state=random_state, n_estimators=int(best['n_estimators']),\n",
    "#                       max_depth=int(best['max_depth']),learning_rate=best['learning_rate'])\n",
    "# model.fit(train_data,train_targets)\n",
    "# sa_test_score=mean_squared_error(test_targets, model.predict(test_data))\n",
    "\n",
    "# print(\"Best MSE {:.3f} params {}\".format( gb_mse_cv(best), best))"
   ]
  },
  {
   "cell_type": "code",
   "execution_count": 375,
   "id": "c3042f54",
   "metadata": {},
   "outputs": [],
   "source": [
    "xgb_reg = XGBRegressor(\n",
    "    colsample_bytree= best['colsample_bytree'],\n",
    "    eta = best['eta'],\n",
    "    gamma = best['gamma'],\n",
    "    max_depth = int(best['max_depth']),\n",
    "    min_child_weight = best['min_child_weight'],\n",
    "    n_estimators = int(best['n_estimators']),\n",
    "    reg_alpha = best['reg_alpha'],\n",
    "    reg_lambda = best['reg_lambda'],\n",
    "    subsample = best['subsample'] \n",
    ")"
   ]
  },
  {
   "cell_type": "code",
   "execution_count": 378,
   "id": "bc5288b2",
   "metadata": {},
   "outputs": [
    {
     "name": "stdout",
     "output_type": "stream",
     "text": [
      "0.4756493569823418\n",
      "10.499492426337998\n",
      "['diff_avg_points_for' 'diff_avg_points_against' 'diff_avg_game_margin'\n",
      " 'diff_pythag_win_pct' 'diff_final_pom' 'diff_pi_i' 'diff_tourneys_car'\n",
      " 'diff_sw16_car']\n"
     ]
    }
   ],
   "source": [
    "xgb_reg.fit(X_train[features], y_train_dif)\n",
    "print(xgb_reg.score(X_train[features],y_train_dif))\n",
    "print(mean_squared_error(y_train_dif,xgb_reg.predict(X_train[features]))**0.5)\n",
    "print(features)"
   ]
  },
  {
   "cell_type": "code",
   "execution_count": null,
   "id": "7108f2ea",
   "metadata": {},
   "outputs": [],
   "source": []
  },
  {
   "cell_type": "code",
   "execution_count": null,
   "id": "5556fb04",
   "metadata": {},
   "outputs": [],
   "source": []
  },
  {
   "cell_type": "code",
   "execution_count": null,
   "id": "92e49482",
   "metadata": {},
   "outputs": [],
   "source": []
  },
  {
   "cell_type": "code",
   "execution_count": null,
   "id": "b3e1777d",
   "metadata": {},
   "outputs": [],
   "source": []
  },
  {
   "cell_type": "code",
   "execution_count": null,
   "id": "ac838d0c",
   "metadata": {},
   "outputs": [],
   "source": []
  }
 ],
 "metadata": {
  "kernelspec": {
   "display_name": "Python 3 (ipykernel)",
   "language": "python",
   "name": "python3"
  },
  "language_info": {
   "codemirror_mode": {
    "name": "ipython",
    "version": 3
   },
   "file_extension": ".py",
   "mimetype": "text/x-python",
   "name": "python",
   "nbconvert_exporter": "python",
   "pygments_lexer": "ipython3",
   "version": "3.10.7"
  }
 },
 "nbformat": 4,
 "nbformat_minor": 5
}
