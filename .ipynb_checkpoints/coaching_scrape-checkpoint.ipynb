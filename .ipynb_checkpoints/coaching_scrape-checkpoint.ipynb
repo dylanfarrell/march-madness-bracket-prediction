{
 "cells": [
  {
   "cell_type": "code",
   "execution_count": 8,
   "id": "2f79c161",
   "metadata": {},
   "outputs": [],
   "source": [
    "from bs4 import BeautifulSoup\n",
    "import urllib.request\n",
    "import numpy as np\n",
    "import pandas as pd\n",
    "import helper_functions as hf"
   ]
  },
  {
   "cell_type": "markdown",
   "id": "34233264",
   "metadata": {},
   "source": [
    "## Add some team spellings to MTeamSpellings.csv manually"
   ]
  },
  {
   "cell_type": "markdown",
   "id": "9daf5226",
   "metadata": {},
   "source": [
    "This is needed for joining our scraped data (sports-reference) with our provided data (kaggle). Think the best/quickest way to do this is just manually right now."
   ]
  },
  {
   "cell_type": "markdown",
   "id": "bf131667",
   "metadata": {},
   "source": [
    "\"Spellings\" I'm manually adding to the MTeamSpellings.csv (which didn't have matches with the sports-reference dataset):\n",
    "- california-baptist (1465)\n",
    "- dixie-state (1469)\n",
    "- north-alabama (1466)\n",
    "- st-thomas-mn (1472)\n",
    "- tarleton-state (1460)\n",
    "- california-san-diego (1471)"
   ]
  },
  {
   "cell_type": "code",
   "execution_count": 10,
   "id": "27ebf820",
   "metadata": {},
   "outputs": [
    {
     "ename": "AttributeError",
     "evalue": "module 'helper_functions' has no attribute 'add_team_spellings'",
     "output_type": "error",
     "traceback": [
      "\u001b[0;31m---------------------------------------------------------------------------\u001b[0m",
      "\u001b[0;31mAttributeError\u001b[0m                            Traceback (most recent call last)",
      "\u001b[0;32m<ipython-input-10-262198868d48>\u001b[0m in \u001b[0;36m<module>\u001b[0;34m\u001b[0m\n\u001b[1;32m      1\u001b[0m unmatched_spellings_lst = [('california-baptist', 1465), ('dixie-state', 1469), ('north-alabama', 1466),\n\u001b[1;32m      2\u001b[0m                            ('st-thomas-mn', 1472), ('tarleton-state', 1460), ('california-san-diego', 1471)]\n\u001b[0;32m----> 3\u001b[0;31m \u001b[0mhf\u001b[0m\u001b[0;34m.\u001b[0m\u001b[0madd_team_spellings\u001b[0m\u001b[0;34m(\u001b[0m\u001b[0munmatched_spellings_lst\u001b[0m\u001b[0;34m)\u001b[0m\u001b[0;34m\u001b[0m\u001b[0;34m\u001b[0m\u001b[0m\n\u001b[0m",
      "\u001b[0;31mAttributeError\u001b[0m: module 'helper_functions' has no attribute 'add_team_spellings'"
     ]
    }
   ],
   "source": [
    "unmatched_spellings_lst = [('california-baptist', 1465), ('dixie-state', 1469), ('north-alabama', 1466),\n",
    "                           ('st-thomas-mn', 1472), ('tarleton-state', 1460), ('california-san-diego', 1471)]\n",
    "hf.add_team_spellings(unmatched_spellings_lst)"
   ]
  },
  {
   "cell_type": "code",
   "execution_count": 20,
   "id": "3f1aa9ae",
   "metadata": {},
   "outputs": [],
   "source": [
    "team_spellings = pd.read_csv('data/kaggle_data/MTeamSpellings.csv')"
   ]
  },
  {
   "cell_type": "code",
   "execution_count": 21,
   "id": "5c1a31b4",
   "metadata": {},
   "outputs": [
    {
     "data": {
      "text/html": [
       "<div>\n",
       "<style scoped>\n",
       "    .dataframe tbody tr th:only-of-type {\n",
       "        vertical-align: middle;\n",
       "    }\n",
       "\n",
       "    .dataframe tbody tr th {\n",
       "        vertical-align: top;\n",
       "    }\n",
       "\n",
       "    .dataframe thead th {\n",
       "        text-align: right;\n",
       "    }\n",
       "</style>\n",
       "<table border=\"1\" class=\"dataframe\">\n",
       "  <thead>\n",
       "    <tr style=\"text-align: right;\">\n",
       "      <th></th>\n",
       "      <th>TeamNameSpelling</th>\n",
       "      <th>TeamID</th>\n",
       "    </tr>\n",
       "  </thead>\n",
       "  <tbody>\n",
       "    <tr>\n",
       "      <th>0</th>\n",
       "      <td>california-baptist</td>\n",
       "      <td>1465</td>\n",
       "    </tr>\n",
       "    <tr>\n",
       "      <th>1</th>\n",
       "      <td>dixie-state</td>\n",
       "      <td>1469</td>\n",
       "    </tr>\n",
       "    <tr>\n",
       "      <th>2</th>\n",
       "      <td>north-alabama</td>\n",
       "      <td>1466</td>\n",
       "    </tr>\n",
       "    <tr>\n",
       "      <th>3</th>\n",
       "      <td>st-thomas-mn</td>\n",
       "      <td>1472</td>\n",
       "    </tr>\n",
       "    <tr>\n",
       "      <th>4</th>\n",
       "      <td>tarleton-state</td>\n",
       "      <td>1460</td>\n",
       "    </tr>\n",
       "    <tr>\n",
       "      <th>5</th>\n",
       "      <td>california-san-diego</td>\n",
       "      <td>1471</td>\n",
       "    </tr>\n",
       "  </tbody>\n",
       "</table>\n",
       "</div>"
      ],
      "text/plain": [
       "       TeamNameSpelling  TeamID\n",
       "0    california-baptist    1465\n",
       "1           dixie-state    1469\n",
       "2         north-alabama    1466\n",
       "3          st-thomas-mn    1472\n",
       "4        tarleton-state    1460\n",
       "5  california-san-diego    1471"
      ]
     },
     "execution_count": 21,
     "metadata": {},
     "output_type": "execute_result"
    }
   ],
   "source": [
    "unmatched_spellings_lst = [('california-baptist', 1465), ('dixie-state', 1469), ('north-alabama', 1466),\n",
    "                           ('st-thomas-mn', 1472), ('tarleton-state', 1460), ('california-san-diego', 1471)]\n",
    "unmatched_spellings = pd.DataFrame({\n",
    "    'TeamNameSpelling': [spelling for spelling, _ in unmatched_spellings_lst],\n",
    "    'TeamID': [teamid for _, teamid in unmatched_spellings_lst]\n",
    "})\n",
    "unmatched_spellings"
   ]
  },
  {
   "cell_type": "code",
   "execution_count": 22,
   "id": "b8086b06",
   "metadata": {},
   "outputs": [],
   "source": [
    "full_spellings = pd.concat([team_spellings, unmatched_spellings], ignore_index=True)\n",
    "full_spellings.drop_duplicates(inplace=True)\n",
    "full_spellings.to_csv('data/kaggle_data/MTeamSpellings.csv', index=False)"
   ]
  },
  {
   "cell_type": "code",
   "execution_count": 23,
   "id": "5cbc4a6d",
   "metadata": {},
   "outputs": [
    {
     "data": {
      "text/html": [
       "<div>\n",
       "<style scoped>\n",
       "    .dataframe tbody tr th:only-of-type {\n",
       "        vertical-align: middle;\n",
       "    }\n",
       "\n",
       "    .dataframe tbody tr th {\n",
       "        vertical-align: top;\n",
       "    }\n",
       "\n",
       "    .dataframe thead th {\n",
       "        text-align: right;\n",
       "    }\n",
       "</style>\n",
       "<table border=\"1\" class=\"dataframe\">\n",
       "  <thead>\n",
       "    <tr style=\"text-align: right;\">\n",
       "      <th></th>\n",
       "      <th>TeamNameSpelling</th>\n",
       "      <th>TeamID</th>\n",
       "    </tr>\n",
       "  </thead>\n",
       "  <tbody>\n",
       "    <tr>\n",
       "      <th>0</th>\n",
       "      <td>a&amp;m-corpus chris</td>\n",
       "      <td>1394</td>\n",
       "    </tr>\n",
       "    <tr>\n",
       "      <th>1</th>\n",
       "      <td>a&amp;m-corpus christi</td>\n",
       "      <td>1394</td>\n",
       "    </tr>\n",
       "    <tr>\n",
       "      <th>2</th>\n",
       "      <td>abilene chr</td>\n",
       "      <td>1101</td>\n",
       "    </tr>\n",
       "    <tr>\n",
       "      <th>3</th>\n",
       "      <td>abilene christian</td>\n",
       "      <td>1101</td>\n",
       "    </tr>\n",
       "    <tr>\n",
       "      <th>4</th>\n",
       "      <td>abilene-christian</td>\n",
       "      <td>1101</td>\n",
       "    </tr>\n",
       "    <tr>\n",
       "      <th>...</th>\n",
       "      <td>...</td>\n",
       "      <td>...</td>\n",
       "    </tr>\n",
       "    <tr>\n",
       "      <th>1158</th>\n",
       "      <td>dixie-state</td>\n",
       "      <td>1469</td>\n",
       "    </tr>\n",
       "    <tr>\n",
       "      <th>1159</th>\n",
       "      <td>north-alabama</td>\n",
       "      <td>1466</td>\n",
       "    </tr>\n",
       "    <tr>\n",
       "      <th>1160</th>\n",
       "      <td>st-thomas-mn</td>\n",
       "      <td>1472</td>\n",
       "    </tr>\n",
       "    <tr>\n",
       "      <th>1161</th>\n",
       "      <td>tarleton-state</td>\n",
       "      <td>1460</td>\n",
       "    </tr>\n",
       "    <tr>\n",
       "      <th>1162</th>\n",
       "      <td>california-san-diego</td>\n",
       "      <td>1471</td>\n",
       "    </tr>\n",
       "  </tbody>\n",
       "</table>\n",
       "<p>1163 rows × 2 columns</p>\n",
       "</div>"
      ],
      "text/plain": [
       "          TeamNameSpelling  TeamID\n",
       "0         a&m-corpus chris    1394\n",
       "1       a&m-corpus christi    1394\n",
       "2              abilene chr    1101\n",
       "3        abilene christian    1101\n",
       "4        abilene-christian    1101\n",
       "...                    ...     ...\n",
       "1158           dixie-state    1469\n",
       "1159         north-alabama    1466\n",
       "1160          st-thomas-mn    1472\n",
       "1161        tarleton-state    1460\n",
       "1162  california-san-diego    1471\n",
       "\n",
       "[1163 rows x 2 columns]"
      ]
     },
     "execution_count": 23,
     "metadata": {},
     "output_type": "execute_result"
    }
   ],
   "source": [
    "team_spellings = pd.read_csv('data/kaggle_data/MTeamSpellings.csv')\n",
    "team_spellings"
   ]
  },
  {
   "cell_type": "markdown",
   "id": "23a66bec",
   "metadata": {},
   "source": [
    "## Scrape coaching data from sports-reference"
   ]
  },
  {
   "cell_type": "code",
   "execution_count": 24,
   "id": "e567a7d2",
   "metadata": {},
   "outputs": [],
   "source": [
    "def get_coach_df(yr):\n",
    "    link = 'https://www.sports-reference.com/cbb/seasons/' + str(yr) + '-coaches.html'\n",
    "    with urllib.request.urlopen(link) as url:\n",
    "        page = url.read()\n",
    "    soup = BeautifulSoup(page, \"html.parser\")\n",
    "    coach_table = soup.find('table', {'id': 'coaches'})\n",
    "    coach_tbody = coach_table.find('tbody')\n",
    "    coach_rows = coach_tbody.find_all('tr')\n",
    "    cols = ['Season','school','is_ap_pre_top_5', 'is_ap_pre_top_15', 'is_ap_pre_top_25','coach_WL_car','tourneys_car','sw16_car','ff_car','champ_car']\n",
    "    coach_df = pd.DataFrame(columns=cols)\n",
    "    for coach_row in coach_rows:\n",
    "        tds = coach_row.find_all('td')\n",
    "        if len(tds) > 10:\n",
    "            school = tds[0].find('a')['href'].split('/')[3]\n",
    "            is_ap_pre_top_5 = False if tds[6].text == '' else int(tds[6].text) <= 5\n",
    "            is_ap_pre_top_15 = False if tds[6].text == '' else 5 < int(tds[6].text) <= 15\n",
    "            is_ap_pre_top_25 = False if tds[6].text == '' else 15 < int(tds[6].text) <= 25\n",
    "            # arbitrarily choosing 0.300 winning % if the coach for some reason has no winning % listed (probably a bad sign)\n",
    "            coach_WL_car = 0.3 if tds[21].text == '' else float(tds[21].text)\n",
    "            tourneys_car = 0 if tds[22].text == '' else int(tds[22].text)\n",
    "            sw16_car = 0 if tds[23].text == '' else int(tds[23].text)\n",
    "            ff_car = 0 if tds[24].text == '' else int(tds[24].text)\n",
    "            champ_car = 0 if tds[25].text == '' else int(tds[25].text)\n",
    "            new_row = pd.Series([yr, school, is_ap_pre_top_5, is_ap_pre_top_15, is_ap_pre_top_25, coach_WL_car, tourneys_car, sw16_car, ff_car, champ_car], index=cols)\n",
    "            coach_df = coach_df.append(new_row, ignore_index=True)\n",
    "    return(coach_df)"
   ]
  },
  {
   "cell_type": "code",
   "execution_count": 25,
   "id": "e8645fae",
   "metadata": {},
   "outputs": [],
   "source": [
    "def sports_ref_join_to_kaggle(coach_df):\n",
    "    team_spellings = pd.read_csv('data/kaggle_data/MTeamSpellings.csv')\n",
    "    coach_joined = team_spellings.merge(coach_df, left_on='TeamNameSpelling', right_on='school')\n",
    "    coach_joined.drop('TeamNameSpelling', axis=1, inplace=True)\n",
    "    return(coach_joined)"
   ]
  },
  {
   "cell_type": "code",
   "execution_count": 26,
   "id": "81eeff79",
   "metadata": {},
   "outputs": [],
   "source": [
    "def check_for_missing_spellings(coach_df, coach_joined):\n",
    "    coach_comp = coach_df.merige(coach_joined, on='school', how='left')\n",
    "    return(coach_comp[coach_comp['TeamNameSpelling'].isna()])"
   ]
  },
  {
   "cell_type": "markdown",
   "id": "25dd34bf",
   "metadata": {},
   "source": [
    "## Compiling dataset"
   ]
  },
  {
   "cell_type": "code",
   "execution_count": 28,
   "id": "1ad39451",
   "metadata": {},
   "outputs": [
    {
     "name": "stdout",
     "output_type": "stream",
     "text": [
      "2004\n",
      "2005\n",
      "2006\n",
      "2007\n",
      "2008\n",
      "2009\n",
      "2010\n",
      "2011\n",
      "2012\n",
      "2013\n",
      "2014\n",
      "2015\n",
      "2016\n",
      "2017\n",
      "2018\n",
      "2019\n",
      "2020\n",
      "2021\n",
      "2022\n"
     ]
    }
   ],
   "source": [
    "coach_df = get_coach_df(2003)\n",
    "coach_joined = sports_ref_join_to_kaggle(coach_df)\n",
    "for yr in range(2004,2023):\n",
    "    print(yr)\n",
    "    new_coach_df = get_coach_df(yr)\n",
    "    new_coach_joined = sports_ref_join_to_kaggle(new_coach_df)\n",
    "    coach_joined = pd.concat([coach_joined, new_coach_joined], ignore_index=True)"
   ]
  },
  {
   "cell_type": "code",
   "execution_count": 29,
   "id": "07e39eef",
   "metadata": {},
   "outputs": [
    {
     "data": {
      "text/html": [
       "<div>\n",
       "<style scoped>\n",
       "    .dataframe tbody tr th:only-of-type {\n",
       "        vertical-align: middle;\n",
       "    }\n",
       "\n",
       "    .dataframe tbody tr th {\n",
       "        vertical-align: top;\n",
       "    }\n",
       "\n",
       "    .dataframe thead th {\n",
       "        text-align: right;\n",
       "    }\n",
       "</style>\n",
       "<table border=\"1\" class=\"dataframe\">\n",
       "  <thead>\n",
       "    <tr style=\"text-align: right;\">\n",
       "      <th></th>\n",
       "      <th>TeamID</th>\n",
       "      <th>Season</th>\n",
       "      <th>school</th>\n",
       "      <th>is_ap_pre_top_5</th>\n",
       "      <th>is_ap_pre_top_15</th>\n",
       "      <th>is_ap_pre_top_25</th>\n",
       "      <th>coach_WL_car</th>\n",
       "      <th>tourneys_car</th>\n",
       "      <th>sw16_car</th>\n",
       "      <th>ff_car</th>\n",
       "      <th>champ_car</th>\n",
       "    </tr>\n",
       "  </thead>\n",
       "  <tbody>\n",
       "    <tr>\n",
       "      <th>0</th>\n",
       "      <td>1102</td>\n",
       "      <td>2003</td>\n",
       "      <td>air-force</td>\n",
       "      <td>False</td>\n",
       "      <td>False</td>\n",
       "      <td>False</td>\n",
       "      <td>0.341</td>\n",
       "      <td>0</td>\n",
       "      <td>0</td>\n",
       "      <td>0</td>\n",
       "      <td>0</td>\n",
       "    </tr>\n",
       "    <tr>\n",
       "      <th>1</th>\n",
       "      <td>1103</td>\n",
       "      <td>2003</td>\n",
       "      <td>akron</td>\n",
       "      <td>False</td>\n",
       "      <td>False</td>\n",
       "      <td>False</td>\n",
       "      <td>0.462</td>\n",
       "      <td>0</td>\n",
       "      <td>0</td>\n",
       "      <td>0</td>\n",
       "      <td>0</td>\n",
       "    </tr>\n",
       "    <tr>\n",
       "      <th>2</th>\n",
       "      <td>1104</td>\n",
       "      <td>2003</td>\n",
       "      <td>alabama</td>\n",
       "      <td>False</td>\n",
       "      <td>True</td>\n",
       "      <td>False</td>\n",
       "      <td>0.660</td>\n",
       "      <td>4</td>\n",
       "      <td>0</td>\n",
       "      <td>0</td>\n",
       "      <td>0</td>\n",
       "    </tr>\n",
       "    <tr>\n",
       "      <th>3</th>\n",
       "      <td>1105</td>\n",
       "      <td>2003</td>\n",
       "      <td>alabama-am</td>\n",
       "      <td>False</td>\n",
       "      <td>False</td>\n",
       "      <td>False</td>\n",
       "      <td>0.518</td>\n",
       "      <td>0</td>\n",
       "      <td>0</td>\n",
       "      <td>0</td>\n",
       "      <td>0</td>\n",
       "    </tr>\n",
       "    <tr>\n",
       "      <th>4</th>\n",
       "      <td>1412</td>\n",
       "      <td>2003</td>\n",
       "      <td>alabama-birmingham</td>\n",
       "      <td>False</td>\n",
       "      <td>False</td>\n",
       "      <td>False</td>\n",
       "      <td>0.618</td>\n",
       "      <td>0</td>\n",
       "      <td>0</td>\n",
       "      <td>0</td>\n",
       "      <td>0</td>\n",
       "    </tr>\n",
       "  </tbody>\n",
       "</table>\n",
       "</div>"
      ],
      "text/plain": [
       "   TeamID Season              school is_ap_pre_top_5 is_ap_pre_top_15  \\\n",
       "0    1102   2003           air-force           False            False   \n",
       "1    1103   2003               akron           False            False   \n",
       "2    1104   2003             alabama           False             True   \n",
       "3    1105   2003          alabama-am           False            False   \n",
       "4    1412   2003  alabama-birmingham           False            False   \n",
       "\n",
       "  is_ap_pre_top_25  coach_WL_car tourneys_car sw16_car ff_car champ_car  \n",
       "0            False         0.341            0        0      0         0  \n",
       "1            False         0.462            0        0      0         0  \n",
       "2            False         0.660            4        0      0         0  \n",
       "3            False         0.518            0        0      0         0  \n",
       "4            False         0.618            0        0      0         0  "
      ]
     },
     "execution_count": 29,
     "metadata": {},
     "output_type": "execute_result"
    }
   ],
   "source": [
    "coach_joined.head()"
   ]
  },
  {
   "cell_type": "code",
   "execution_count": 30,
   "id": "033d0ca8",
   "metadata": {},
   "outputs": [],
   "source": [
    "coach_joined.to_csv('data/generated_data/coach_features.csv', index=False)"
   ]
  },
  {
   "cell_type": "code",
   "execution_count": null,
   "id": "a662b223",
   "metadata": {},
   "outputs": [],
   "source": []
  }
 ],
 "metadata": {
  "kernelspec": {
   "display_name": "Python 3",
   "language": "python",
   "name": "python3"
  },
  "language_info": {
   "codemirror_mode": {
    "name": "ipython",
    "version": 3
   },
   "file_extension": ".py",
   "mimetype": "text/x-python",
   "name": "python",
   "nbconvert_exporter": "python",
   "pygments_lexer": "ipython3",
   "version": "3.8.8"
  }
 },
 "nbformat": 4,
 "nbformat_minor": 5
}
